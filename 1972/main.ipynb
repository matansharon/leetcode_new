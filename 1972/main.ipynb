{
 "cells": [
  {
   "cell_type": "code",
   "execution_count": 22,
   "id": "4db27a8b",
   "metadata": {},
   "outputs": [],
   "source": [
    "import pandas as pd"
   ]
  },
  {
   "cell_type": "code",
   "execution_count": 23,
   "id": "5f525a6f",
   "metadata": {},
   "outputs": [],
   "source": [
    "class User:\n",
    "    def __init__(self,_id):\n",
    "        self.id=_id\n",
    "        self.calls={}\n",
    "    def add(self,date,rec_id):\n",
    "        if date not in self.calls:\n",
    "            self.calls[date]=[]\n",
    "        self.calls[date].append(rec_id)\n",
    "    def search(self):\n",
    "        res=set()\n",
    "        for i in self.calls:\n",
    "            if self.calls[i][0]==self.calls[i][-1]:\n",
    "                res.add(self.id)\n",
    "                res.add(self.calls[i][0])\n",
    "        return list(res)"
   ]
  },
  {
   "cell_type": "code",
   "execution_count": 42,
   "id": "4f3bcf01",
   "metadata": {},
   "outputs": [
    {
     "name": "stdout",
     "output_type": "stream",
     "text": [
      "CPU times: user 8.33 s, sys: 34.4 ms, total: 8.37 s\n",
      "Wall time: 8.37 s\n"
     ]
    }
   ],
   "source": [
    "%%time\n",
    "users={}\n",
    "calls=pd.read_csv(\"Calls.csv\")\n",
    "for i in range(len(calls)):\n",
    "    row=calls.iloc[i]\n",
    "    if row.caller_id not in users:\n",
    "        u=User(row.caller_id)\n",
    "        users[u.id]=u\n",
    "    users[row.caller_id].add(row.date,row.recipient_id)\n",
    "    if row.recipient_id not in users:\n",
    "        r=User(row.recipient_id)\n",
    "        users[r.id]=r\n",
    "    users[row.recipient_id].add(row.date,row.caller_id)\n",
    "    "
   ]
  },
  {
   "cell_type": "code",
   "execution_count": 45,
   "id": "3fea2e74",
   "metadata": {},
   "outputs": [],
   "source": [
    "res=set()\n",
    "for u in users:\n",
    "    user=users[u]\n",
    "    temp=user.search()\n",
    "    \n",
    "    for i in temp:\n",
    "        res.add(i)\n",
    "res=list(res)\n",
    "res=pd.DataFrame(res)\n",
    "res.to_csv(\"res.csv\")"
   ]
  }
 ],
 "metadata": {
  "kernelspec": {
   "display_name": "Python 3 (ipykernel)",
   "language": "python",
   "name": "python3"
  },
  "language_info": {
   "codemirror_mode": {
    "name": "ipython",
    "version": 3
   },
   "file_extension": ".py",
   "mimetype": "text/x-python",
   "name": "python",
   "nbconvert_exporter": "python",
   "pygments_lexer": "ipython3",
   "version": "3.9.12"
  }
 },
 "nbformat": 4,
 "nbformat_minor": 5
}
