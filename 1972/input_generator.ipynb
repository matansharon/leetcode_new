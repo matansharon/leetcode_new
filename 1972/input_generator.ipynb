{
 "cells": [
  {
   "cell_type": "code",
   "execution_count": 1,
   "id": "ea933dea",
   "metadata": {},
   "outputs": [],
   "source": [
    "\n",
    "from random import randint,choice,random\n",
    "from datetime import datetime, timedelta\n",
    "import pandas as pd\n",
    "\n",
    "def gen_datetime(min_year=1900, max_year=datetime.now().year):\n",
    "    \n",
    "    start = datetime(min_year, 1, 1, 0, 0, 0)\n",
    "    years = max_year - min_year + 1\n",
    "    end = start + timedelta(days=365 * years)\n",
    "    return start + (end - start) * random()\n",
    "def convert_str_to_datetime(s):\n",
    "    temp=s\n",
    "    s1=[]\n",
    "    if s[-1]==\"\\n\":\n",
    "        temp=s[:-1]\n",
    "    temp=temp.split(\"-\")\n",
    "    try:\n",
    "        return datetime(temp[0],temp[1],temp[2])\n",
    "    except:\n",
    "        return None\n",
    "    "
   ]
  },
  {
   "cell_type": "code",
   "execution_count": 11,
   "id": "786613b0",
   "metadata": {},
   "outputs": [],
   "source": [
    "num_of_calls=100000\n",
    "num_of_users=500000\n",
    "caller=[]\n",
    "reciep=[]\n",
    "dates=[]\n",
    "cols=[\"caller_id\",\"recipient_id\",\"date\"]\n",
    "values=[caller,reciep,dates]\n",
    "for i in range(num_of_calls):\n",
    "    caller.append(randint(1,num_of_users))\n",
    "    reciep.append(randint(1,num_of_users))\n",
    "    dates.append(gen_datetime(2022,2022).strftime(\"%Y-%m-%d\"))\n",
    "res={}\n",
    "for i in range(len(cols)):\n",
    "    res[cols[i]]=values[i]\n",
    "res=pd.DataFrame(res)\n",
    "res.to_csv(\"Calls.csv\")"
   ]
  }
 ],
 "metadata": {
  "kernelspec": {
   "display_name": "Python 3 (ipykernel)",
   "language": "python",
   "name": "python3"
  },
  "language_info": {
   "codemirror_mode": {
    "name": "ipython",
    "version": 3
   },
   "file_extension": ".py",
   "mimetype": "text/x-python",
   "name": "python",
   "nbconvert_exporter": "python",
   "pygments_lexer": "ipython3",
   "version": "3.9.12"
  }
 },
 "nbformat": 4,
 "nbformat_minor": 5
}
