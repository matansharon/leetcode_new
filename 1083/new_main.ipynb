{
 "cells": [
  {
   "cell_type": "code",
   "execution_count": null,
   "metadata": {},
   "outputs": [],
   "source": [
    "import pandas as pd\n",
    "from faker import Faker\n",
    "import random\n",
    "\n",
    "def generate_tables(num_rows):\n",
    "    faker = Faker()\n",
    "    \n",
    "    # Generate data for Product table\n",
    "    product_data = {\n",
    "        'product_id': list(range(1, num_rows + 1)),\n",
    "        'product_name': [faker.word() for _ in range(num_rows)],\n",
    "        'unit_price': [random.randint(10, 100) for _ in range(num_rows)]\n",
    "    }\n",
    "    product_df = pd.DataFrame(product_data)\n",
    "    \n",
    "    # Save Product table to CSV\n",
    "    product_df.to_csv('product_table.csv', index=False)\n",
    "    \n",
    "    # Generate data for Sales table\n",
    "    sales_data = {\n",
    "        'seller_id': [random.randint(100, 200) for _ in range(num_rows)],\n",
    "        'product_id': [random.randint(1, num_rows) for _ in range(num_rows)],\n",
    "        'buyer_id': [random.randint(300, 400) for _ in range(num_rows)],\n",
    "        'sale_date': [faker.date_between(start_date='-1y', end_date='today') for _ in range(num_rows)],\n",
    "        'quantity': [random.randint(1, 5) for _ in range(num_rows)],\n",
    "        'price': [random.randint(10, 100) for _ in range(num_rows)]\n",
    "    }\n",
    "    sales_df = pd.DataFrame(sales_data)\n",
    "    \n",
    "    # Save Sales table to CSV\n",
    "    sales_df.to_csv('sales_table.csv', index=False)\n",
    "\n",
    "# Example usage: Generate tables with 10 rows each\n",
    "generate_tables(100)\n"
   ]
  },
  {
   "cell_type": "code",
   "execution_count": null,
   "metadata": {},
   "outputs": [],
   "source": [
    "df1=pd.read_csv('product_table.csv')\n",
    "#iterate over the rows of the dataframe\n",
    "for index, row in df1.iterrows():\n",
    "    print(row['product_id'], row['product_name'], row['unit_price'])"
   ]
  },
  {
   "cell_type": "code",
   "execution_count": 8,
   "metadata": {},
   "outputs": [],
   "source": [
    "import pandas as pd\n",
    "\n",
    "\n",
    "def sales_analysis(product: pd.DataFrame, sales: pd.DataFrame) -> pd.DataFrame:\n",
    "    temp_res={\n",
    "    }\n",
    "    for i,row in sales.iterrows():\n",
    "        # print(row)\n",
    "        try:\n",
    "            temp_res[row.buyer_id].add(row.product_id)\n",
    "        except:\n",
    "            \n",
    "            if row.buyer_id not in temp_res:\n",
    "                temp_res[row.buyer_id]=set(row.product_id)\n",
    "    print(temp_res)\n",
    "    \n",
    "    \n",
    "    \n",
    "    return sales\n"
   ]
  },
  {
   "cell_type": "code",
   "execution_count": 23,
   "metadata": {},
   "outputs": [
    {
     "data": {
      "text/html": [
       "<div>\n",
       "<style scoped>\n",
       "    .dataframe tbody tr th:only-of-type {\n",
       "        vertical-align: middle;\n",
       "    }\n",
       "\n",
       "    .dataframe tbody tr th {\n",
       "        vertical-align: top;\n",
       "    }\n",
       "\n",
       "    .dataframe thead th {\n",
       "        text-align: right;\n",
       "    }\n",
       "</style>\n",
       "<table border=\"1\" class=\"dataframe\">\n",
       "  <thead>\n",
       "    <tr style=\"text-align: right;\">\n",
       "      <th></th>\n",
       "      <th>buyer_id</th>\n",
       "    </tr>\n",
       "  </thead>\n",
       "  <tbody>\n",
       "  </tbody>\n",
       "</table>\n",
       "</div>"
      ],
      "text/plain": [
       "Empty DataFrame\n",
       "Columns: [buyer_id]\n",
       "Index: []"
      ]
     },
     "execution_count": 23,
     "metadata": {},
     "output_type": "execute_result"
    }
   ],
   "source": [
    "import pandas as pd\n",
    "\n",
    "\n",
    "def sales_analysis(product: pd.DataFrame, sales: pd.DataFrame) -> pd.DataFrame:\n",
    "    temp_res = {}\n",
    "    merged=pd.merge(product,sales,on='product_id')\n",
    "    for i, row in merged.iterrows():\n",
    "        if row.buyer_id not in temp_res:\n",
    "            temp_res[row.buyer_id] = set()\n",
    "            temp_res[row.buyer_id].add(row.product_name)\n",
    "        else:\n",
    "            temp_res[row.buyer_id].add(row.product_name)\n",
    "    # print(temp_res)\n",
    "    res=[]\n",
    "    for i in temp_res:\n",
    "        if 'S8' in temp_res[i] and 'iPhone' not in temp_res[i]:\n",
    "            res.append(i)\n",
    "    \n",
    "    res=pd.DataFrame({'buyer_id':res})\n",
    "    return res\n",
    "sales_analysis(pd.read_csv('product_table.csv'),pd.read_csv('sales_table.csv'))\n"
   ]
  }
 ],
 "metadata": {
  "kernelspec": {
   "display_name": "leetcode_env",
   "language": "python",
   "name": "python3"
  },
  "language_info": {
   "codemirror_mode": {
    "name": "ipython",
    "version": 3
   },
   "file_extension": ".py",
   "mimetype": "text/x-python",
   "name": "python",
   "nbconvert_exporter": "python",
   "pygments_lexer": "ipython3",
   "version": "3.10.11"
  }
 },
 "nbformat": 4,
 "nbformat_minor": 2
}
