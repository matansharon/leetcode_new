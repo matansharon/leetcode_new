{
 "cells": [
  {
   "cell_type": "code",
   "execution_count": 64,
   "id": "f711e1cb",
   "metadata": {},
   "outputs": [
    {
     "name": "stdout",
     "output_type": "stream",
     "text": [
      "0.0009400844573974609\n",
      "[2, 1, 84, 1, 1000]\n"
     ]
    }
   ],
   "source": [
    "# this cell generate a random database\n",
    "# at the end the data will be a rows that represnt by the columns indexes.\n",
    "from random import randint,choice\n",
    "from time import time\n",
    "products=range(len(price))\n",
    "# price=[500,800,1000,1500,2100,2700,3500,4000,4300,4800,5300,6000,6500,7000]\n",
    "price=[500,1000,2000]\n",
    "buyers=range(100)\n",
    "colomns=['seller_id','product_id','buyer_id','quantity','price']\n",
    "sellers=range(1,10)\n",
    "\n",
    "quantitys=range(1,5)\n",
    "data=[]\n",
    "\n",
    "t1=time()\n",
    "#10000000\n",
    "for i in range(150):\n",
    "    product=choice(products)\n",
    "    temp=[choice(sellers),product,choice(buyers),choice(quantitys),price[product]]\n",
    "    data.append(temp)\n",
    "t2=time()\n",
    "print(t2-t1) \n",
    "print(data[0])"
   ]
  },
  {
   "cell_type": "code",
   "execution_count": 73,
   "id": "af4d8313",
   "metadata": {},
   "outputs": [
    {
     "name": "stdout",
     "output_type": "stream",
     "text": [
      "[84, 27, 15, 1, 86, 89, 37, 64, 85, 98, 16, 11]\n"
     ]
    }
   ],
   "source": [
    "dic_buyers={}\n",
    "for row in data:\n",
    "    if row[2] in dic_buyers:\n",
    "        dic_buyers[row[2]].add(row[1])\n",
    "    else:\n",
    "        dic_buyers[row[2]]=set()\n",
    "        dic_buyers[row[2]].add(row[1])\n",
    "res=[]\n",
    "for row in dic_buyers:\n",
    "    if 0 in dic_buyers[row] and 2 in dic_buyers[row]:\n",
    "        res.append(row)\n",
    "print (res)"
   ]
  }
 ],
 "metadata": {
  "kernelspec": {
   "display_name": "Python 3 (ipykernel)",
   "language": "python",
   "name": "python3"
  },
  "language_info": {
   "codemirror_mode": {
    "name": "ipython",
    "version": 3
   },
   "file_extension": ".py",
   "mimetype": "text/x-python",
   "name": "python",
   "nbconvert_exporter": "python",
   "pygments_lexer": "ipython3",
   "version": "3.9.12"
  }
 },
 "nbformat": 4,
 "nbformat_minor": 5
}
