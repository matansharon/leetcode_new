{
 "cells": [
  {
   "attachments": {},
   "cell_type": "markdown",
   "metadata": {},
   "source": [
    "Given the root of a binary tree, return the level order traversal of its nodes' values. (i.e., from left to right, level by level).\n",
    "\n",
    " \n",
    "\n",
    "Example 1:\n",
    "\n",
    "\n",
    "Input: root = [3,9,20,null,null,15,7]\n",
    "Output: [[3],[9,20],[15,7]]\n",
    "Example 2:\n",
    "\n",
    "Input: root = [1]\n",
    "Output: [[1]]\n",
    "Example 3:\n",
    "\n",
    "Input: root = []\n",
    "Output: []\n",
    " \n",
    "\n",
    "Constraints:\n",
    "\n",
    "The number of nodes in the tree is in the range [0, 2000].\n",
    "-1000 <= Node.val <= 1000"
   ]
  },
  {
   "cell_type": "code",
   "execution_count": 7,
   "metadata": {},
   "outputs": [],
   "source": [
    "from random import random, randint"
   ]
  },
  {
   "cell_type": "code",
   "execution_count": 15,
   "metadata": {},
   "outputs": [],
   "source": [
    "def insert_randomly(father,node):\n",
    "    chance=randint(0,1)\n",
    "    if chance==0:\n",
    "        if father.left is None:\n",
    "            father.left=node\n",
    "        else:\n",
    "            insert_randomly(father.left,node)\n",
    "    else:\n",
    "        if father.right is None:\n",
    "            father.right=node\n",
    "        else:\n",
    "            insert_randomly(father.right,node)\n",
    "\n",
    "\n",
    "def generate_random_tree(number_of_nodes):\n",
    "    head=TreeNode(randint(0, 100))\n",
    "    for i in range(number_of_nodes):\n",
    "        son=TreeNode(randint(0, 100))\n",
    "        insert_randomly(head,son)\n",
    "    return head\n",
    "    \n",
    "# Definition for a binary tree node.\n",
    "class TreeNode(object):\n",
    "    def __init__(self, val=0, left=None, right=None):\n",
    "        self.val = val\n",
    "        self.left = left\n",
    "        self.right = right\n",
    "class Solution(object):\n",
    "    def levelOrder(self, root):\n",
    "        \"\"\"\n",
    "        :type root: TreeNode\n",
    "        :rtype: List[List[int]]\n",
    "        \"\"\""
   ]
  },
  {
   "cell_type": "code",
   "execution_count": null,
   "metadata": {},
   "outputs": [],
   "source": [
    "def levelOrder(self, root):\n",
    "    if not root:\n",
    "        return []\n",
    "    res = []\n",
    "    queue = [root]\n",
    "    while queue:\n",
    "        level = []\n",
    "        for _ in range(len(queue)):\n",
    "            node = queue.pop(0)\n",
    "            level.append(node.val)\n",
    "            if node.left:\n",
    "                queue.append(node.left)\n",
    "            if node.right:\n",
    "                queue.append(node.right)\n",
    "        res.append(level)\n",
    "    return res"
   ]
  },
  {
   "cell_type": "code",
   "execution_count": 16,
   "metadata": {},
   "outputs": [
    {
     "name": "stdout",
     "output_type": "stream",
     "text": [
      "[[64], [88, 14], [32, 42, 64, 52], [0, 17, 85], [47]]\n"
     ]
    }
   ],
   "source": [
    "# Definition for a binary tree node.\n",
    "# class TreeNode(object):\n",
    "#     def __init__(self, val=0, left=None, right=None):\n",
    "#         self.val = val\n",
    "#         self.left = left\n",
    "#         self.right = right\n",
    "def level_traversal(dict,level,node):\n",
    "        if node is None:\n",
    "            return\n",
    "        if level not in dict:\n",
    "            dict[level]=[node.val]\n",
    "        else:\n",
    "            dict[level].append(node.val)\n",
    "        if node.left is not None:\n",
    "            level_traversal(dict,level+1,node.left)\n",
    "        if node.right is not None:\n",
    "            level_traversal(dict,level+1,node.right)\n",
    "    \n",
    "def levelorder(root):\n",
    "    if root is None:\n",
    "        return []\n",
    "    dict={}\n",
    "    level_traversal(dict,0,root)\n",
    "    return list(dict.values()) \n",
    "class Solution(object):\n",
    "    \n",
    "    \n",
    "    def levelOrder(self, root):\n",
    "        \"\"\"\n",
    "        :type root: TreeNode\n",
    "        :rtype: List[List[int]]\n",
    "        \"\"\"\n",
    "        \n",
    "        res=levelorder(root)\n",
    "        return res\n",
    "\n",
    "    \n"
   ]
  }
 ],
 "metadata": {
  "kernelspec": {
   "display_name": "base",
   "language": "python",
   "name": "python3"
  },
  "language_info": {
   "codemirror_mode": {
    "name": "ipython",
    "version": 3
   },
   "file_extension": ".py",
   "mimetype": "text/x-python",
   "name": "python",
   "nbconvert_exporter": "python",
   "pygments_lexer": "ipython3",
   "version": "3.9.13"
  },
  "orig_nbformat": 4
 },
 "nbformat": 4,
 "nbformat_minor": 2
}
