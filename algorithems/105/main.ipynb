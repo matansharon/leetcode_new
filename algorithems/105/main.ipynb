{
 "cells": [
  {
   "attachments": {},
   "cell_type": "markdown",
   "metadata": {},
   "source": [
    "Given two integer arrays preorder and inorder where preorder is the preorder traversal of a binary tree and inorder is the inorder traversal of the same tree, construct and return the binary tree.\n",
    "\n",
    " \n",
    "\n",
    "Example 1:\n",
    "\n",
    "\n",
    "Input: preorder = [3,9,20,15,7], inorder = [9,3,15,20,7]\n",
    "Output: [3,9,20,null,null,15,7]\n",
    "Example 2:\n",
    "\n",
    "Input: preorder = [-1], inorder = [-1]\n",
    "Output: [-1]\n",
    " \n",
    "\n",
    "Constraints:\n",
    "\n",
    "1 <= preorder.length <= 3000\n",
    "inorder.length == preorder.length\n",
    "-3000 <= preorder[i], inorder[i] <= 3000\n",
    "preorder and inorder consist of unique values.\n",
    "Each value of inorder also appears in preorder.\n",
    "preorder is guaranteed to be the preorder traversal of the tree.\n",
    "inorder is guaranteed to be the inorder traversal of the tree."
   ]
  },
  {
   "cell_type": "code",
   "execution_count": 1,
   "metadata": {},
   "outputs": [
    {
     "name": "stdout",
     "output_type": "stream",
     "text": [
      "<__main__.TreeNode object at 0x00000158E37E9760>\n"
     ]
    }
   ],
   "source": [
    "# Definition for a binary tree node.\n",
    "class TreeNode(object):\n",
    "    def __init__(self, val=0, left=None, right=None):\n",
    "        self.val = val\n",
    "        self.left = left\n",
    "        self.right = right\n",
    "class Solution(object):\n",
    "    def buildTree(self, preorder, inorder):\n",
    "        \"\"\"\n",
    "        :type preorder: List[int]\n",
    "        :type inorder: List[int]\n",
    "        :rtype: TreeNode\n",
    "        \"\"\"\n",
    "    \n",
    "        if not preorder or not inorder:\n",
    "            return None\n",
    "        \n",
    "        root = TreeNode(preorder[0])\n",
    "        root_index = inorder.index(preorder[0])\n",
    "        \n",
    "        root.left = self.buildTree(preorder[1:root_index+1], inorder[:root_index])\n",
    "        root.right = self.buildTree(preorder[root_index+1:], inorder[root_index+1:])\n",
    "        \n",
    "        return root\n",
    "\n"
   ]
  }
 ],
 "metadata": {
  "kernelspec": {
   "display_name": "base",
   "language": "python",
   "name": "python3"
  },
  "language_info": {
   "codemirror_mode": {
    "name": "ipython",
    "version": 3
   },
   "file_extension": ".py",
   "mimetype": "text/x-python",
   "name": "python",
   "nbconvert_exporter": "python",
   "pygments_lexer": "ipython3",
   "version": "3.9.13"
  },
  "orig_nbformat": 4
 },
 "nbformat": 4,
 "nbformat_minor": 2
}
