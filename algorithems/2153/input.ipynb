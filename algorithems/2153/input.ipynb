{
 "cells": [
  {
   "cell_type": "code",
   "execution_count": 3,
   "id": "73132760",
   "metadata": {},
   "outputs": [],
   "source": [
    "from random import randint,choice\n",
    "import pandas as pd\n",
    "bus_id=[]\n",
    "arrival_time=[]\n",
    "cap=[]\n",
    "for i in range(100):\n",
    "    bus_id.append(i)\n",
    "    arrival_time.append(randint(1,10))\n",
    "    cap.append(randint(1,10))\n",
    "cols=[\"bus_id\",\"arrival_time\",\"capacity\"]\n",
    "values=[bus_id,arrival_time,cap]\n",
    "res={}\n",
    "for i in range(len(cols)):\n",
    "    res[cols[i]]=values[i]\n",
    "res=pd.DataFrame(res)\n",
    "res.to_csv(\"buses.csv\")\n"
   ]
  },
  {
   "cell_type": "code",
   "execution_count": 2,
   "id": "51afb296",
   "metadata": {},
   "outputs": [],
   "source": [
    "pass_id=[]\n",
    "arrival_time=[]\n",
    "for i in range(100):\n",
    "    pass_id.append(i)\n",
    "    arrival_time.append(randint(1,10))\n",
    "cols=[\"passenger_id\",\"arrival_time\"]\n",
    "values=[pass_id,arrival_time]\n",
    "res={}\n",
    "for i in range(len(cols)):\n",
    "    res[cols[i]]=values[i]\n",
    "res=pd.DataFrame(res)\n",
    "res.to_csv(\"passengers.csv\")"
   ]
  }
 ],
 "metadata": {
  "kernelspec": {
   "display_name": "Python 3 (ipykernel)",
   "language": "python",
   "name": "python3"
  },
  "language_info": {
   "codemirror_mode": {
    "name": "ipython",
    "version": 3
   },
   "file_extension": ".py",
   "mimetype": "text/x-python",
   "name": "python",
   "nbconvert_exporter": "python",
   "pygments_lexer": "ipython3",
   "version": "3.9.12"
  }
 },
 "nbformat": 4,
 "nbformat_minor": 5
}
