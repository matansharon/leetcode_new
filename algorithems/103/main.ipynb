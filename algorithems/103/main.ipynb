{
 "cells": [
  {
   "attachments": {},
   "cell_type": "markdown",
   "metadata": {},
   "source": [
    "Given the root of a binary tree, return the zigzag level order traversal of its nodes' values. (i.e., from left to right, then right to left for the next level and alternate between).\n",
    "\n",
    " \n",
    "\n",
    "Example 1:\n",
    "\n",
    "\n",
    "Input: root = [3,9,20,null,null,15,7]\n",
    "Output: [[3],[20,9],[15,7]]\n",
    "Example 2:\n",
    "\n",
    "Input: root = [1]\n",
    "Output: [[1]]\n",
    "Example 3:\n",
    "\n",
    "Input: root = []\n",
    "Output: []\n",
    " \n",
    "\n",
    "Constraints:\n",
    "\n",
    "The number of nodes in the tree is in the range [0, 2000].\n",
    "-100 <= Node.val <= 100"
   ]
  },
  {
   "cell_type": "code",
   "execution_count": 13,
   "metadata": {},
   "outputs": [],
   "source": [
    "# Definition for a binary tree node.\n",
    "class TreeNode(object):\n",
    "    def __init__(self, val=0, left=None, right=None):\n",
    "        self.val = val\n",
    "        self.left = left\n",
    "        self.right = right\n",
    "        \n",
    "\n",
    "class Solution(object):\n",
    "    def scan_tree(self,node,level):\n",
    "        if node:\n",
    "            if level not in self.order:\n",
    "                self.order[level]=[node.val]\n",
    "            else:\n",
    "                self.order[level].append(node.val)\n",
    "            self.scan_tree(node.left,level+1)\n",
    "            self.scan_tree(node.right,level+1)\n",
    "        \n",
    "            \n",
    "    def zigzagLevelOrder(self, root):\n",
    "        \"\"\"\n",
    "        :type root: TreeNode\n",
    "        :rtype: List[List[int]]\n",
    "        \"\"\"\n",
    "        self.order={}\n",
    "        self.scan_tree(root,0)\n",
    "        res=[]\n",
    "        for level in self.order:\n",
    "            self.order[level]=self.order[level][::-1] if level%2 else self.order[level]\n",
    "            res.append(self.order[level])\n",
    "        return res\n",
    "        "
   ]
  },
  {
   "cell_type": "code",
   "execution_count": 12,
   "metadata": {},
   "outputs": [
    {
     "data": {
      "text/plain": [
       "[None, None, None]"
      ]
     },
     "execution_count": 12,
     "metadata": {},
     "output_type": "execute_result"
    }
   ],
   "source": [
    "root=TreeNode(3)\n",
    "root.left=TreeNode(9)\n",
    "root.right=TreeNode(20)\n",
    "root.right.left=TreeNode(15)\n",
    "root.right.right=TreeNode(7)\n",
    "Solution().zigzagLevelOrder(root)\n"
   ]
  }
 ],
 "metadata": {
  "kernelspec": {
   "display_name": "base",
   "language": "python",
   "name": "python3"
  },
  "language_info": {
   "codemirror_mode": {
    "name": "ipython",
    "version": 3
   },
   "file_extension": ".py",
   "mimetype": "text/x-python",
   "name": "python",
   "nbconvert_exporter": "python",
   "pygments_lexer": "ipython3",
   "version": "3.9.13"
  },
  "orig_nbformat": 4,
  "vscode": {
   "interpreter": {
    "hash": "3d5db532c048f37cc8487068e8e1c41ac5ce63d1b52e8a8c32ff882c22c4c18a"
   }
  }
 },
 "nbformat": 4,
 "nbformat_minor": 2
}
