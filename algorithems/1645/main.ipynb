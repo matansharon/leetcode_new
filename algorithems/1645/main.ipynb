{
 "cells": [
  {
   "cell_type": "code",
   "execution_count": null,
   "id": "c7dd6ec6",
   "metadata": {},
   "outputs": [],
   "source": [
    "from random import randint,choice,random\n",
    "from datetime import datetime, timedelta\n",
    "import pandas as pd\n"
   ]
  },
  {
   "cell_type": "code",
   "execution_count": null,
   "id": "83afb0d1",
   "metadata": {},
   "outputs": [],
   "source": [
    "def gen_datetime(min_year=1900, max_year=datetime.now().year):\n",
    "    \n",
    "    start = datetime(min_year, 1, 1, 0, 0, 0)\n",
    "    years = max_year - min_year + 1\n",
    "    end = start + timedelta(days=365 * years)\n",
    "    return start + (end - start) * random()\n",
    "def convert_str_to_datetime(s):\n",
    "    temp=s\n",
    "    s1=[]\n",
    "    if s[-1]==\"\\n\":\n",
    "        temp=s[:-1]\n",
    "    temp=temp.split(\"-\")\n",
    "    for i in range(len(temp)):\n",
    "        temp[i]=int(temp[i])\n",
    "    try:\n",
    "        return datetime(temp[0],temp[1],temp[2])\n",
    "    except:\n",
    "        return None"
   ]
  },
  {
   "cell_type": "code",
   "execution_count": null,
   "id": "a42677f7",
   "metadata": {},
   "outputs": [],
   "source": [
    "# ids=[]\n",
    "# dates=[]\n",
    "# for i in range(50):\n",
    "#     ids.append(i)\n",
    "#     dates.append(gen_datetime(2022,2022).strftime(\"%Y-%m-%d\"))\n",
    "# cols=[\"driver_id\",\"join_date\"]\n",
    "# values=[ids,dates]\n",
    "# out={}\n",
    "# for i in range(len(cols)):\n",
    "#     out[cols[i]]=values[i]\n",
    "# out=pd.DataFrame(out)\n",
    "# out.to_csv(\"Drivers.csv\")"
   ]
  },
  {
   "cell_type": "code",
   "execution_count": null,
   "id": "117efe0e",
   "metadata": {},
   "outputs": [],
   "source": [
    "# ride_id=[]\n",
    "# user_id=[]\n",
    "# join_date=[]\n",
    "# cols=[\"ride_id\",\"user_id\",\"join_date\"]\n",
    "# value=[ride_id,user_id,req_date]\n",
    "# for i in range(1000):\n",
    "#     ride_id.append(i)\n",
    "#     user_id.append(randint(1,1000))\n",
    "#     join_date.append(gen_datetime(2022,2022).strftime(\"%Y-%m-%d\"))\n",
    "# out={}\n",
    "# for i in range(len(cols)):\n",
    "#     out[cols[i]]=value[i]\n",
    "# out=pd.DataFrame(out)\n",
    "# out.to_csv(\"rides.csv\")"
   ]
  },
  {
   "cell_type": "code",
   "execution_count": null,
   "id": "7aa3b7ac",
   "metadata": {},
   "outputs": [],
   "source": [
    "drivers_by_date={}\n",
    "for i in range(1,13):\n",
    "    drivers_by_date[i]=[]\n",
    "drivers_input=pd.read_csv(\"Drivers.csv\")\n",
    "for i in range(len(drivers_input)):\n",
    "    row = drivers_input.iloc[i]\n",
    "    \n",
    "    d=convert_str_to_datetime(row.join_date)\n",
    "    if d.month not in drivers_by_date:\n",
    "        drivers_by_date[d.month]=[]\n",
    "    drivers_by_date[d.month].append(row.driver_id)\n",
    "for i in drivers_by_date:\n",
    "\n",
    "    if i>1:\n",
    "        drivers_by_date[i]=drivers_by_date[i]+drivers_by_date[i-1]\n",
    "\n"
   ]
  },
  {
   "cell_type": "code",
   "execution_count": 40,
   "id": "30d61a73",
   "metadata": {},
   "outputs": [],
   "source": [
    "# rides=pd.read_csv(\"rides.csv\")\n",
    "# acc_rides={}\n",
    "# cols=[\"ride_id\",\"driver_id\",\"ride_distance\",\"ride_diration\"]\n",
    "# ride_id=[]\n",
    "# driver_id=[]\n",
    "# ride_distance=[]\n",
    "# ride_duration=[]\n",
    "# values=[ride_id,driver_id,ride_distance,ride_duration]\n",
    "\n",
    "# for i in range(len(rides)):\n",
    "#     row=rides.iloc[i]\n",
    "#     d=convert_str_to_datetime(row.req_date).month\n",
    "#     if random()>0.95:\n",
    "#         ride_id.append(row.ride_id)\n",
    "#         driver_id.append(choice(drivers_by_date[d]))\n",
    "#         ride_distance.append(randint(1,100))\n",
    "#         ride_duration.append(randint(100,150))\n",
    "# for i in range(len(cols)):\n",
    "#     acc_rides[cols[i]]=values[i]\n",
    "# acc_rides=pd.DataFrame(acc_rides)\n",
    "# acc_rides.to_csv(\"accepted_rides.csv\")\n",
    "    "
   ]
  },
  {
   "cell_type": "code",
   "execution_count": 44,
   "id": "27ead91b",
   "metadata": {},
   "outputs": [
    {
     "name": "stdout",
     "output_type": "stream",
     "text": [
      "1 8\n",
      "2 7\n",
      "3 2\n",
      "4 3\n",
      "5 3\n",
      "6 3\n",
      "7 3\n",
      "8 6\n",
      "9 3\n",
      "10 2\n",
      "11 5\n",
      "12 3\n"
     ]
    }
   ],
   "source": [
    "acc_rides=pd.read_csv(\"accepted_rides.csv\")\n",
    "rides=pd.read_csv(\"rides.csv\")\n",
    "ride_month={}\n",
    "for i in range(len(rides)):\n",
    "    row=rides.iloc[i]\n",
    "    ride_month[row.ride_id]=convert_str_to_datetime(row.req_date)\n",
    "acc_rides_count={}\n",
    "for i in range(1,13):\n",
    "    acc_rides_count[i]=0\n",
    "for i in range(len(acc_rides)):\n",
    "    row=acc_rides.iloc[i]\n",
    "    d=ride_month[row.ride_id].month\n",
    "    \n",
    "    acc_rides_count[d]+=1\n",
    "\n"
   ]
  },
  {
   "cell_type": "code",
   "execution_count": 55,
   "id": "62bb16b4",
   "metadata": {},
   "outputs": [],
   "source": [
    "drivers_by_month={}\n",
    "res={}\n",
    "cols=[\"month\",\"working_precetange\"]\n",
    "\n",
    "month=[]\n",
    "ratio=[]\n",
    "values=[month,ratio]\n",
    "for i in drivers_by_date:\n",
    "    drivers_by_month[i]=len(drivers_by_date[i])\n",
    "    \n",
    "    month.append(i)\n",
    "    ratio.append(acc_rides_count[i]/len(drivers_by_date[i]))\n",
    "for i in range(len(cols)):\n",
    "    \n",
    "    res[cols[i]]=values[i]\n",
    "res=pd.DataFrame(res)\n",
    "res.index.name=\"indexs\"\n",
    "res.to_csv(\"res.csv\")\n"
   ]
  },
  {
   "cell_type": "code",
   "execution_count": 69,
   "id": "dce63a75",
   "metadata": {},
   "outputs": [
    {
     "name": "stdout",
     "output_type": "stream",
     "text": [
      "<bound method DataFrame.value_counts of      Unnamed: 0  ride_id  user_id    req_date\n",
      "0             0        0      970  2022-06-05\n",
      "1             1        1      709  2022-06-04\n",
      "2             2        2      780  2022-01-10\n",
      "3             3        3      116  2022-12-11\n",
      "4             4        4      787  2022-10-09\n",
      "..          ...      ...      ...         ...\n",
      "995         995      995      451  2022-04-02\n",
      "996         996      996      805  2022-07-21\n",
      "997         997      997      900  2022-03-26\n",
      "998         998      998      430  2022-06-16\n",
      "999         999      999      547  2022-10-02\n",
      "\n",
      "[1000 rows x 4 columns]>\n"
     ]
    }
   ],
   "source": []
  }
 ],
 "metadata": {
  "kernelspec": {
   "display_name": "Python 3 (ipykernel)",
   "language": "python",
   "name": "python3"
  },
  "language_info": {
   "codemirror_mode": {
    "name": "ipython",
    "version": 3
   },
   "file_extension": ".py",
   "mimetype": "text/x-python",
   "name": "python",
   "nbconvert_exporter": "python",
   "pygments_lexer": "ipython3",
   "version": "3.9.12"
  }
 },
 "nbformat": 4,
 "nbformat_minor": 5
}
