{
 "cells": [
  {
   "cell_type": "code",
   "execution_count": 84,
   "id": "87a3ed7e",
   "metadata": {},
   "outputs": [],
   "source": [
    "def gen_name():\n",
    "    ab=\"abcdefghijklmnopqrstuvwxyz\"\n",
    "    length=randint(1,10)\n",
    "    res=\"\"\n",
    "    for i in range(length):\n",
    "        res+=choice(ab)\n",
    "    return res"
   ]
  },
  {
   "cell_type": "code",
   "execution_count": 85,
   "id": "7278d32e",
   "metadata": {},
   "outputs": [],
   "source": [
    "class Employee:\n",
    "    def __init__(self,_id,name,salary,dep):\n",
    "        self.id=_id\n",
    "        self.name=name\n",
    "        self.salary=salary\n",
    "        self.department=dep\n",
    "    def toString(self):\n",
    "        return str(self.id)+\",\"+str(self.name)+\",\"+str(self.salary)+\",\"+str(self.department)"
   ]
  },
  {
   "cell_type": "code",
   "execution_count": 86,
   "id": "9a459565",
   "metadata": {},
   "outputs": [],
   "source": [
    "\n",
    "from random import randint,choice\n",
    "emp_coloumns=[\"id-int\",\"name-varchar\",\"salary-int\",\"department_id-int\"]\n",
    "\n",
    "saleries=range(30000,150000,1000)\n",
    "employees=[]\n",
    "departments_table={1:\"it\",2:\"sales\",3:\"r&d\",4:\"HR\",5:\"maintenance\",6:\"production\"}\n",
    "data=[]\n",
    "employees_table=[]\n",
    "names=set()\n",
    "for i in range(100):\n",
    "    name=gen_name()    \n",
    "    temp=[i,name,choice(saleries),randint(1,len(departments_dict))]\n",
    "    employees_table.append(temp)\n",
    "    temp_emp=Employee(temp[0],temp[1],temp[2],temp[3])\n",
    "    data.append(temp_emp)\n"
   ]
  },
  {
   "cell_type": "code",
   "execution_count": 87,
   "id": "0773b259",
   "metadata": {},
   "outputs": [],
   "source": [
    "global_dict={}\n",
    "for d in departments_table:\n",
    "    global_dict[d]=[]\n",
    "for emp in data:\n",
    "    global_dict[emp.department].append(emp)\n",
    "res=[]\n",
    "for row in global_dict:\n",
    "    global_dict[row].sort(key=lambda x : x.salary,reverse=True)\n",
    "for row in global_dict:\n",
    "    l=global_dict[row]\n",
    "    res.append(l[0])\n",
    "    res.append(l[1])\n",
    "    res.append(l[2])\n",
    "\n"
   ]
  },
  {
   "cell_type": "code",
   "execution_count": 88,
   "id": "0b89ed98",
   "metadata": {},
   "outputs": [
    {
     "name": "stdout",
     "output_type": "stream",
     "text": [
      "quw it 145000\n",
      "avcs it 143000\n",
      "agrbzxb it 129000\n",
      "q sales 149000\n",
      "bjemvdyyxh sales 139000\n",
      "tzrxf sales 137000\n",
      "om r&d 149000\n",
      "cmeffxfh r&d 142000\n",
      "jmdkzh r&d 141000\n",
      "egxmgaw HR 149000\n",
      "npbintxhsy HR 132000\n",
      "acnbfcmc HR 130000\n",
      "a maintenance 133000\n",
      "emhtsecnzc maintenance 109000\n",
      "mmyibpgf maintenance 106000\n",
      "omw production 127000\n",
      "toitc production 125000\n",
      "xaciew production 117000\n"
     ]
    }
   ],
   "source": [
    "for i in res:\n",
    "    print(i.name,departments_table[i.department],i.salary)\n",
    "    "
   ]
  },
  {
   "cell_type": "code",
   "execution_count": 89,
   "id": "9a5076fa",
   "metadata": {},
   "outputs": [],
   "source": [
    "with open('data.csv','w')as file:\n",
    "    for d in data:\n",
    "        file.write(d.toString())\n",
    "        file.write('\\n')"
   ]
  },
  {
   "cell_type": "code",
   "execution_count": 90,
   "id": "3f2c0f6c",
   "metadata": {},
   "outputs": [],
   "source": [
    "with open('res.csv','w')as file:\n",
    "    for r in res:\n",
    "        file.write(r.toString())\n",
    "        file.write('\\n')"
   ]
  }
 ],
 "metadata": {
  "kernelspec": {
   "display_name": "Python 3 (ipykernel)",
   "language": "python",
   "name": "python3"
  },
  "language_info": {
   "codemirror_mode": {
    "name": "ipython",
    "version": 3
   },
   "file_extension": ".py",
   "mimetype": "text/x-python",
   "name": "python",
   "nbconvert_exporter": "python",
   "pygments_lexer": "ipython3",
   "version": "3.9.12"
  }
 },
 "nbformat": 4,
 "nbformat_minor": 5
}
