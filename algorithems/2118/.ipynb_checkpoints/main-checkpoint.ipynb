{
 "cells": [
  {
   "cell_type": "code",
   "execution_count": 17,
   "id": "e0149579",
   "metadata": {},
   "outputs": [
    {
     "name": "stdout",
     "output_type": "stream",
     "text": [
      "1X^6+7X^2-8X^2+1X^10+10X^4+2X^8+0X^6-2X^6+9X^4+5X^3-6X^4+10X^2-10X^1+8X^5+8X^5+8X^1+9X^7-9X^1-8X^6-6X^7\n"
     ]
    }
   ],
   "source": [
    "import pandas as pd\n",
    "data=pd.read_csv(\"input.csv\")\n",
    "res=\"\"\n",
    "for i in range(len(data)):\n",
    "    row=data.iloc[i]\n",
    "    \n",
    "#     print(row.power,row.factor)\n",
    "    res+=str(row.factor)+\"X^\"+str(row.power)+\"+\"\n",
    "res=res[:-1]\n",
    "\n",
    "\n",
    "i=0\n",
    "while i< len(res)-1:\n",
    "    if res[i]==\"+\" and res[i+1]==\"-\":\n",
    "        res=res[:i]+res[i+1:]\n",
    "        i+=1\n",
    "    i+=1\n",
    "        \n",
    "print (res)"
   ]
  }
 ],
 "metadata": {
  "kernelspec": {
   "display_name": "Python 3 (ipykernel)",
   "language": "python",
   "name": "python3"
  },
  "language_info": {
   "codemirror_mode": {
    "name": "ipython",
    "version": 3
   },
   "file_extension": ".py",
   "mimetype": "text/x-python",
   "name": "python",
   "nbconvert_exporter": "python",
   "pygments_lexer": "ipython3",
   "version": "3.9.12"
  }
 },
 "nbformat": 4,
 "nbformat_minor": 5
}
