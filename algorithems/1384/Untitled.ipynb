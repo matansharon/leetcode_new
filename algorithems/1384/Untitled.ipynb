{
 "cells": [
  {
   "cell_type": "code",
   "execution_count": 30,
   "id": "01ba4fe9",
   "metadata": {},
   "outputs": [],
   "source": [
    "from random import randint,choice,random\n",
    "from datetime import datetime, timedelta\n",
    "\n",
    "def gen_datetime(min_year=1900, max_year=datetime.now().year):\n",
    "    # generate a datetime in format yyyy-mm-dd hh:mm:ss.000000\n",
    "    start = datetime(min_year, 1, 1, 00, 00, 00)\n",
    "    years = max_year - min_year + 1\n",
    "    end = start + timedelta(days=365 * years)\n",
    "    return start + (end - start) * random()"
   ]
  },
  {
   "cell_type": "code",
   "execution_count": 31,
   "id": "41a61914",
   "metadata": {},
   "outputs": [],
   "source": [
    "\n",
    "def convert_str_to_date(s):\n",
    "    s=s.split(\"-\")\n",
    "    return datetime(int(s[0]),int(s[1]),int(s[2]))"
   ]
  },
  {
   "cell_type": "code",
   "execution_count": 34,
   "id": "bb59815d",
   "metadata": {},
   "outputs": [],
   "source": [
    "date=[]\n",
    "\n",
    "with open(\"sales.csv\",\"w\")as file:\n",
    "    for i in range(10):\n",
    "        temp=sorted([gen_datetime(2010),gen_datetime(2010)])\n",
    "        delta=(temp[1]-temp[0])\n",
    "        if delta.days<1000:\n",
    "            file.write(\n",
    "                       str(randint(1,10))+\",\"+\\\n",
    "                       temp[0].strftime(\"%y-%m-%d\")+\",\"+\\\n",
    "                       temp[1].strftime(\"%y-%m-%d\")+\",\"+\\\n",
    "                       str(randint(1,10))+\"\\n\"\n",
    "                      )\n",
    "# date.sort()\n"
   ]
  },
  {
   "cell_type": "code",
   "execution_count": 35,
   "id": "18567ccb",
   "metadata": {},
   "outputs": [
    {
     "name": "stdout",
     "output_type": "stream",
     "text": [
      "['8', '10-05-17', '10-06-17', '10']\n",
      "['8', '13-09-17', '13-11-18', '5']\n",
      "['2', '10-12-12', '13-02-16', '9']\n",
      "['4', '19-12-20', '20-05-02', '1']\n"
     ]
    }
   ],
   "source": [
    "data=[]\n",
    "with open(\"sales.csv\",\"r\")as file:\n",
    "    for i in file:\n",
    "        row=i[:-1].split(\",\")\n",
    "        print(row)\n",
    "        "
   ]
  }
 ],
 "metadata": {
  "kernelspec": {
   "display_name": "Python 3 (ipykernel)",
   "language": "python",
   "name": "python3"
  },
  "language_info": {
   "codemirror_mode": {
    "name": "ipython",
    "version": 3
   },
   "file_extension": ".py",
   "mimetype": "text/x-python",
   "name": "python",
   "nbconvert_exporter": "python",
   "pygments_lexer": "ipython3",
   "version": "3.9.12"
  }
 },
 "nbformat": 4,
 "nbformat_minor": 5
}
