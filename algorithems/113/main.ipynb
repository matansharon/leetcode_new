{
 "cells": [
  {
   "attachments": {},
   "cell_type": "markdown",
   "metadata": {},
   "source": [
    "Given the root of a binary tree and an integer targetSum, return all root-to-leaf paths where the sum of the node values in the path equals targetSum. Each path should be returned as a list of the node values, not node references.\n",
    "\n",
    "A root-to-leaf path is a path starting from the root and ending at any leaf node. A leaf is a node with no children.\n",
    "\n",
    " \n",
    "\n",
    "Example 1:\n",
    "\n",
    "\n",
    "Input: root = [5,4,8,11,null,13,4,7,2,null,null,5,1], targetSum = 22\n",
    "Output: [[5,4,11,2],[5,8,4,5]]\n",
    "Explanation: There are two paths whose sum equals targetSum:\n",
    "5 + 4 + 11 + 2 = 22\n",
    "5 + 8 + 4 + 5 = 22\n",
    "Example 2:\n",
    "\n",
    "\n",
    "Input: root = [1,2,3], targetSum = 5\n",
    "Output: []\n",
    "Example 3:\n",
    "\n",
    "Input: root = [1,2], targetSum = 0\n",
    "Output: []\n",
    " \n",
    "\n",
    "Constraints:\n",
    "\n",
    "The number of nodes in the tree is in the range [0, 5000].\n",
    "-1000 <= Node.val <= 1000\n",
    "-1000 <= targetSum <= 1000"
   ]
  },
  {
   "cell_type": "code",
   "execution_count": 1,
   "metadata": {},
   "outputs": [],
   "source": [
    "# Definition for a binary tree node.\n",
    "class TreeNode(object):\n",
    "    def __init__(self, val=0, left=None, right=None):\n",
    "        self.val = val\n",
    "        self.left = left\n",
    "        self.right = right\n"
   ]
  },
  {
   "cell_type": "code",
   "execution_count": 44,
   "metadata": {},
   "outputs": [],
   "source": [
    "\n",
    "class Solution(object):\n",
    "    def scan(self,node,arr):\n",
    "        \n",
    "        if node is None:\n",
    "            return\n",
    "        arr.append(node.val)\n",
    "        print(arr)\n",
    "        if self.is_leaf(node):\n",
    "            if sum(arr)==self.target:\n",
    "                self.res.append(arr)\n",
    "            return\n",
    "        self.scan(node.left,arr[:])\n",
    "        self.scan(node.right,arr[:])\n",
    "    \n",
    "    def is_leaf(self,node):\n",
    "        if node.left is None and node.right is None and node is not None:\n",
    "            return True\n",
    "        return False\n",
    "    def pathSum(self, root, targetSum):\n",
    "        \"\"\"\n",
    "        :type root: TreeNode\n",
    "        :type targetSum: int\n",
    "        :rtype: List[List[int]]\n",
    "        \"\"\"\n",
    "        \n",
    "        self.res=[]\n",
    "        self.target=targetSum\n",
    "        arr=[]\n",
    "        self.scan(root,arr)\n",
    "        return self.res\n",
    "        "
   ]
  },
  {
   "cell_type": "code",
   "execution_count": 43,
   "metadata": {},
   "outputs": [
    {
     "name": "stdout",
     "output_type": "stream",
     "text": [
      "[5]\n",
      "[5, 4]\n",
      "[5, 4, 11]\n",
      "[5, 4, 11, 7]\n",
      "[5, 4, 11, 2]\n",
      "[5, 8]\n",
      "[5, 8, 13]\n",
      "[5, 8, 4]\n",
      "[5, 8, 4, 5]\n",
      "[[5, 4, 11, 7], [5, 4, 11, 2], [5, 8, 13], [5, 8, 4, 5]]\n"
     ]
    }
   ],
   "source": [
    "t=[5,4,8,11,None,13,4,7,2,None,None,5,1]\n",
    "root=TreeNode(t[0])\n",
    "root.left=TreeNode(t[1])\n",
    "root.right=TreeNode(t[2])\n",
    "root.left.left=TreeNode(t[3])\n",
    "root.right.left=TreeNode(t[5])\n",
    "root.right.right=TreeNode(t[6])\n",
    "root.left.left.left=TreeNode(t[7])\n",
    "root.left.left.right=TreeNode(t[8])\n",
    "# root.right.right.left=TreeNode(t[10])\n",
    "root.right.right.right=TreeNode(t[11])\n",
    "targetSum=22\n",
    "s=Solution()\n",
    "s.pathSum(root,targetSum)\n",
    "print(s.res)"
   ]
  }
 ],
 "metadata": {
  "kernelspec": {
   "display_name": "base",
   "language": "python",
   "name": "python3"
  },
  "language_info": {
   "codemirror_mode": {
    "name": "ipython",
    "version": 3
   },
   "file_extension": ".py",
   "mimetype": "text/x-python",
   "name": "python",
   "nbconvert_exporter": "python",
   "pygments_lexer": "ipython3",
   "version": "3.9.13"
  },
  "orig_nbformat": 4,
  "vscode": {
   "interpreter": {
    "hash": "3d5db532c048f37cc8487068e8e1c41ac5ce63d1b52e8a8c32ff882c22c4c18a"
   }
  }
 },
 "nbformat": 4,
 "nbformat_minor": 2
}
