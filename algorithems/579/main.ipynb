{
 "cells": [
  {
   "cell_type": "code",
   "execution_count": 33,
   "id": "88bcc5bc",
   "metadata": {},
   "outputs": [],
   "source": [
    "from random import randint\n",
    "import pandas as pd\n",
    "_ids=[]\n",
    "month=[]\n",
    "salaries=[]\n",
    "res={}\n",
    "for i in range(100):\n",
    "    _ids.append(randint(1,10))\n",
    "    month.append(randint(1,12))\n",
    "    salaries.append(randint(1,100))\n",
    "keys=[\"ids\",\"monthes\",\"salaries\"]\n",
    "values=[_ids,month,salaries]\n",
    "res={}\n",
    "for i in range(len(keys)):\n",
    "    res[keys[i]]=values[i]\n",
    "data=pd.DataFrame(res)\n",
    "data.to_csv(\"Employees.csv\")"
   ]
  },
  {
   "cell_type": "code",
   "execution_count": 34,
   "id": "4be498d0",
   "metadata": {},
   "outputs": [],
   "source": [
    "class Employee:\n",
    "    def __init__(self,_id):\n",
    "        self.id=_id\n",
    "        self.saleries={}\n",
    "        self.last=-1\n",
    "        for i in range(1,13):\n",
    "            self.saleries[i]=0\n",
    "    def add(self,month,amt):\n",
    "        self.saleries[month]=amt\n",
    "        for i in self.saleries:\n",
    "            if self.saleries[i]!=0:\n",
    "                self.last=i\n",
    "    def calc_cumulative(self):\n",
    "        for i in range(2,12):\n",
    "            if self.saleries[i]==0:\n",
    "                continue\n",
    "            elif self.last==i:\n",
    "                continue\n",
    "            elif i==2:\n",
    "                self.saleries[2]=self.saleries[2]+self.saleries[1]\n",
    "            else:\n",
    "                self.saleries[i]+=self.saleries[i-1]+self.saleries[i-2]\n",
    "    def to_string(self):\n",
    "        res=\"\"\n",
    "        for i in self.saleries:\n",
    "            if self.saleries[i]==0:\n",
    "                continue\n",
    "            else:\n",
    "                res+=str(self.id)+\",\"+str(i)+\",\"+str(self.saleries[i])+\"\\n\"\n",
    "        return res\n",
    "        \n",
    "        \n",
    "        "
   ]
  },
  {
   "cell_type": "code",
   "execution_count": 35,
   "id": "7fcf4804",
   "metadata": {},
   "outputs": [],
   "source": [
    "employees={}\n",
    "for i in range(len(data)):\n",
    "    row=data.iloc[i]\n",
    "    _id=row.ids\n",
    "    month=row.monthes\n",
    "    sal=row.salaries\n",
    "    if _id not in employees:\n",
    "        e=Employee(_id)\n",
    "        employees[_id]=e\n",
    "    e.add(month,sal)\n",
    "    \n",
    "    "
   ]
  },
  {
   "cell_type": "code",
   "execution_count": 43,
   "id": "ff0e54ca",
   "metadata": {},
   "outputs": [],
   "source": [
    "cols=[\"id\",\"month\",\"Salary\"]\n",
    "_id=[]\n",
    "month=[]\n",
    "salary=[]\n",
    "values=[_id,month,salary]\n",
    "for e in employees:\n",
    "    e1=employees[e]\n",
    "    e1.calc_cumulative()\n",
    "    for m in e1.saleries:\n",
    "        if e1.saleries[m]!=0:\n",
    "            _id.append(e1.id)\n",
    "            month.append(m)\n",
    "            salary.append(e1.saleries[m])\n",
    "res={}\n",
    "for i in range(len(cols)):\n",
    "    res[cols[i]]=values[i]\n",
    "res=pd.DataFrame(res)\n",
    "res.to_csv(\"res.csv\")\n",
    "    \n",
    "    \n"
   ]
  },
  {
   "cell_type": "code",
   "execution_count": null,
   "id": "5a4f4d62",
   "metadata": {},
   "outputs": [],
   "source": []
  },
  {
   "cell_type": "code",
   "execution_count": null,
   "id": "42865d98",
   "metadata": {},
   "outputs": [],
   "source": []
  },
  {
   "cell_type": "code",
   "execution_count": null,
   "id": "52ced342",
   "metadata": {},
   "outputs": [],
   "source": []
  }
 ],
 "metadata": {
  "kernelspec": {
   "display_name": "Python 3 (ipykernel)",
   "language": "python",
   "name": "python3"
  },
  "language_info": {
   "codemirror_mode": {
    "name": "ipython",
    "version": 3
   },
   "file_extension": ".py",
   "mimetype": "text/x-python",
   "name": "python",
   "nbconvert_exporter": "python",
   "pygments_lexer": "ipython3",
   "version": "3.9.12"
  }
 },
 "nbformat": 4,
 "nbformat_minor": 5
}
