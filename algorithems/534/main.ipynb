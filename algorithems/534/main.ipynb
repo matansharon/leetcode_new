{
 "cells": [
  {
   "cell_type": "code",
   "execution_count": 16,
   "metadata": {},
   "outputs": [
    {
     "name": "stdout",
     "output_type": "stream",
     "text": [
      "   player_id  device_id  event_date  games_played\n",
      "0          8          3  2023-11-10             4\n",
      "1          1          3  2023-11-09             4\n",
      "2          6          1  2023-11-08             8\n",
      "3          5          3  2023-11-07             6\n",
      "4          2          3  2023-11-06             8\n"
     ]
    }
   ],
   "source": [
    "import pandas as pd\n",
    "import numpy as np\n",
    "from datetime import datetime, timedelta\n",
    "\n",
    "def create_activity_dataframe(num_rows):\n",
    "    # Generate dummy data\n",
    "    data = {\n",
    "        'player_id': np.random.randint(1, 10, num_rows),  # Random player_ids\n",
    "        'device_id': np.random.randint(1, 5, num_rows),  # Random device_ids\n",
    "        'event_date': [datetime.today().date() - timedelta(days=x) for x in range(num_rows)],  # Decreasing dates\n",
    "        'games_played': np.random.randint(0, 10, num_rows)  # Random games played count\n",
    "    }\n",
    "\n",
    "    # Create the DataFrame\n",
    "    activity_table = pd.DataFrame(data)\n",
    "\n",
    "    return activity_table\n",
    "\n",
    "# Example usage\n",
    "num_rows = 5  # Replace with your desired number of rows\n",
    "df = create_activity_dataframe(num_rows)\n",
    "print(df)\n"
   ]
  },
  {
   "cell_type": "code",
   "execution_count": 19,
   "metadata": {},
   "outputs": [
    {
     "data": {
      "text/html": [
       "<div>\n",
       "<style scoped>\n",
       "    .dataframe tbody tr th:only-of-type {\n",
       "        vertical-align: middle;\n",
       "    }\n",
       "\n",
       "    .dataframe tbody tr th {\n",
       "        vertical-align: top;\n",
       "    }\n",
       "\n",
       "    .dataframe thead th {\n",
       "        text-align: right;\n",
       "    }\n",
       "</style>\n",
       "<table border=\"1\" class=\"dataframe\">\n",
       "  <thead>\n",
       "    <tr style=\"text-align: right;\">\n",
       "      <th></th>\n",
       "      <th>player_id</th>\n",
       "      <th>event_date</th>\n",
       "      <th>played_so_far</th>\n",
       "    </tr>\n",
       "  </thead>\n",
       "  <tbody>\n",
       "    <tr>\n",
       "      <th>1</th>\n",
       "      <td>1</td>\n",
       "      <td>2023-11-09</td>\n",
       "      <td>4</td>\n",
       "    </tr>\n",
       "    <tr>\n",
       "      <th>4</th>\n",
       "      <td>2</td>\n",
       "      <td>2023-11-06</td>\n",
       "      <td>8</td>\n",
       "    </tr>\n",
       "    <tr>\n",
       "      <th>3</th>\n",
       "      <td>5</td>\n",
       "      <td>2023-11-07</td>\n",
       "      <td>6</td>\n",
       "    </tr>\n",
       "    <tr>\n",
       "      <th>2</th>\n",
       "      <td>6</td>\n",
       "      <td>2023-11-08</td>\n",
       "      <td>8</td>\n",
       "    </tr>\n",
       "    <tr>\n",
       "      <th>0</th>\n",
       "      <td>8</td>\n",
       "      <td>2023-11-10</td>\n",
       "      <td>4</td>\n",
       "    </tr>\n",
       "  </tbody>\n",
       "</table>\n",
       "</div>"
      ],
      "text/plain": [
       "   player_id  event_date  played_so_far\n",
       "1          1  2023-11-09              4\n",
       "4          2  2023-11-06              8\n",
       "3          5  2023-11-07              6\n",
       "2          6  2023-11-08              8\n",
       "0          8  2023-11-10              4"
      ]
     },
     "execution_count": 19,
     "metadata": {},
     "output_type": "execute_result"
    }
   ],
   "source": [
    "df.sort_values(by=['player_id', 'event_date'], inplace=True)\n",
    "df['played_so_far']=df.groupby('player_id')['games_played'].cumsum()\n",
    "# df+=played_so_far\n",
    "return df[['player_id','event_date','played_so_far']]"
   ]
  },
  {
   "cell_type": "code",
   "execution_count": null,
   "metadata": {},
   "outputs": [],
   "source": [
    "import pandas as pd\n",
    "\n",
    "def gameplay_analysis(activity: pd.DataFrame) -> pd.DataFrame:\n",
    "    df=activity\n",
    "    df.sort_values(by=['event_date'], inplace=True)\n",
    "    df['games_played_so_far']=df.groupby('player_id')['games_played'].cumsum()\n",
    "    # df+=played_so_far\n",
    "    return df[['player_id','event_date','games_played_so_far']]"
   ]
  }
 ],
 "metadata": {
  "kernelspec": {
   "display_name": "leetcode_env",
   "language": "python",
   "name": "python3"
  },
  "language_info": {
   "codemirror_mode": {
    "name": "ipython",
    "version": 3
   },
   "file_extension": ".py",
   "mimetype": "text/x-python",
   "name": "python",
   "nbconvert_exporter": "python",
   "pygments_lexer": "ipython3",
   "version": "3.10.11"
  }
 },
 "nbformat": 4,
 "nbformat_minor": 2
}
