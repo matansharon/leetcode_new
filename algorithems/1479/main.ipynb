{
 "cells": [
  {
   "cell_type": "code",
   "execution_count": 2,
   "id": "9c875c8f",
   "metadata": {},
   "outputs": [],
   "source": [
    "\n",
    "from random import randint,choice,random\n",
    "from datetime import datetime, timedelta\n",
    "\n",
    "def gen_datetime(min_year=1900, max_year=datetime.now().year):\n",
    "    \n",
    "    start = datetime(min_year, 1, 1, 0, 0, 0)\n",
    "    years = max_year - min_year + 1\n",
    "    end = start + timedelta(days=365 * years)\n",
    "    return start + (end - start) * random()"
   ]
  },
  {
   "cell_type": "code",
   "execution_count": 3,
   "id": "c64d5845",
   "metadata": {},
   "outputs": [
    {
     "data": {
      "text/plain": [
       "datetime.datetime(2019, 10, 11, 0, 0)"
      ]
     },
     "execution_count": 3,
     "metadata": {},
     "output_type": "execute_result"
    }
   ],
   "source": [
    "def convert_str_to_datetime(s):\n",
    "    temp=s.split(\"-\")\n",
    "    return datetime(int(temp[0]),int(temp[1]),int(temp[2]))\n",
    "convert_str_to_datetime(\"2019-10-11\")"
   ]
  },
  {
   "cell_type": "code",
   "execution_count": 4,
   "id": "f0993ebb",
   "metadata": {},
   "outputs": [],
   "source": [
    "# items={\n",
    "#     0:\"iphone\",\n",
    "#     1:\"android\",\n",
    "#     2:\"tv\",\n",
    "#     3:\"streamer\",\n",
    "#     4:\"book\",\n",
    "#     5:\"computer\",\n",
    "#     6:\"fruits\",\n",
    "#     7:\"durgs\",\n",
    "#     8:\"tablet\",\n",
    "#     9:\"coffee\",\n",
    "#     10:\"tea\",\n",
    "#     11:\"vegies\"\n",
    "# }\n",
    "# catergoties={\n",
    "#     0:\"electronics items\",\n",
    "#     1:\"electronics items\",\n",
    "#     2:\"electronics items\",\n",
    "#     3:\"electronics items\",\n",
    "#     5:\"electronics items\",\n",
    "#     8:\"electronics items\",\n",
    "#     6:\"foods\",\n",
    "#     9:\"foods\",\n",
    "#     10:\"foods\",\n",
    "#     11:\"foods\",\n",
    "#     4:\"other\",\n",
    "#     7:\"other\"\n",
    "# }\n",
    "# with open(\"items.csv\",\"w\")as file:\n",
    "#     for item in items:\n",
    "#         file.write(str(item)+\",\"+items[item]+\",\"+catergoties[item]+\"\\n\")"
   ]
  },
  {
   "cell_type": "code",
   "execution_count": 5,
   "id": "7c50ab03",
   "metadata": {},
   "outputs": [],
   "source": [
    "# with open(\"orders.csv\",\"w\")as file:\n",
    "#     for i in range(100):\n",
    "#         file.write(str(i)+\",\"+\n",
    "#                    str(randint(1,10))+\",\"+\n",
    "#                    gen_datetime(2020,2020).strftime(\"%Y-%m-%d\")+\",\"+\n",
    "#                    str(randint(1,10))+\"\\n\"\n",
    "#                   )"
   ]
  },
  {
   "cell_type": "code",
   "execution_count": 9,
   "id": "7dbb4e89",
   "metadata": {},
   "outputs": [],
   "source": [
    "import pandas as pd\n",
    "items={}\n",
    "items_input=pd.read_csv(\"items.csv\")\n",
    "categories={}\n",
    "for i in range(len(items_input)):\n",
    "    row=items_input.iloc[i]\n",
    "    _id=row[0]\n",
    "    name=row[1]\n",
    "    cat=row[2]\n",
    "    items[_id]=cat\n",
    "    categories[cat]=0\n",
    "orders_input=pd.read_csv(\"orders.csv\")\n",
    "orders={}\n",
    "for i in range(len(orders_input)):\n",
    "    row=orders_input.iloc[i]\n",
    "    date=convert_str_to_datetime(row[2]).strftime(\"%A\")\n",
    "    if date not in orders:\n",
    "        orders[date]={'electronics items': 0, 'other': 0, 'foods': 0}\n",
    "    orders[date][items[row[3]]]+=row[-1]\n",
    "        "
   ]
  },
  {
   "cell_type": "code",
   "execution_count": 15,
   "id": "c71207a4",
   "metadata": {},
   "outputs": [],
   "source": [
    "res=pd.DataFrame(orders)\n",
    "res.to_csv(\"res.csv\")"
   ]
  }
 ],
 "metadata": {
  "kernelspec": {
   "display_name": "Python 3 (ipykernel)",
   "language": "python",
   "name": "python3"
  },
  "language_info": {
   "codemirror_mode": {
    "name": "ipython",
    "version": 3
   },
   "file_extension": ".py",
   "mimetype": "text/x-python",
   "name": "python",
   "nbconvert_exporter": "python",
   "pygments_lexer": "ipython3",
   "version": "3.9.12"
  }
 },
 "nbformat": 4,
 "nbformat_minor": 5
}
