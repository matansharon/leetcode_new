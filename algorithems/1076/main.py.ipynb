{
 "cells": [
  {
   "cell_type": "code",
   "execution_count": 15,
   "id": "89b79e2b",
   "metadata": {},
   "outputs": [
    {
     "name": "stdout",
     "output_type": "stream",
     "text": [
      "['\"employee_id\"', '\"name\"', '\"experience_years\"']\n",
      "['1', 'Khaled', '3']\n",
      "['2', 'Ali', '2']\n",
      "['3', 'John', '1']\n",
      "['4', 'Doe', '2']\n"
     ]
    }
   ],
   "source": [
    "emp=[]\n",
    "with open(r'Employee_202211130858.csv','r') as file:\n",
    "    for i in file:\n",
    "        i=i.split(',')\n",
    "        i[-1]=i[-1][:-1]\n",
    "        emp.append(i)\n",
    "for i in emp:\n",
    "    print(i)"
   ]
  },
  {
   "cell_type": "code",
   "execution_count": 33,
   "id": "6fcc051b",
   "metadata": {},
   "outputs": [],
   "source": [
    "# some code to generate random data\n",
    "# case 1:\n",
    "# 10 diffrent projects, with 100 diffrent employyes\n",
    "# every run of the cell createing a new database\n",
    "from random import randint\n",
    "employees=range(0,100)\n",
    "data={}\n",
    "for i in employees:\n",
    "    data[i]=randint(1,10)\n",
    "\n",
    "    "
   ]
  },
  {
   "cell_type": "code",
   "execution_count": 19,
   "id": "c8b72d45",
   "metadata": {},
   "outputs": [
    {
     "name": "stdout",
     "output_type": "stream",
     "text": [
      "{'\"project_id\"': 0, '1': 2, '2': 1}\n"
     ]
    }
   ],
   "source": [
    "pro={}\n",
    "\n",
    "with open(r'Project_202211130858.csv','r')as file:\n",
    "    for i in file:\n",
    "        temp=i.split(',')\n",
    "        temp[-1]=temp[-1][:-1]\n",
    "        if temp[0] in pro:\n",
    "            pro[temp[0]]+=1\n",
    "        else:\n",
    "            pro[temp[0]]=0\n",
    "print(pro)"
   ]
  },
  {
   "cell_type": "code",
   "execution_count": 34,
   "id": "23aef81e",
   "metadata": {},
   "outputs": [
    {
     "name": "stdout",
     "output_type": "stream",
     "text": [
      "{5: 14, 6: 12, 1: 12, 3: 4, 9: 11, 7: 12, 4: 10, 2: 13, 10: 6, 8: 6}\n",
      "14\n"
     ]
    }
   ],
   "source": [
    "res={}\n",
    "for row in data:\n",
    "    project=data[row]\n",
    "    if project in res:\n",
    "        res[project]+=1\n",
    "    else:\n",
    "        res[project]=1\n",
    "m=-1\n",
    "for row in res:\n",
    "    if res[row]>m:\n",
    "        m=res[row]\n",
    "print (res)\n",
    "print (m)"
   ]
  }
 ],
 "metadata": {
  "kernelspec": {
   "display_name": "Python 3 (ipykernel)",
   "language": "python",
   "name": "python3"
  },
  "language_info": {
   "codemirror_mode": {
    "name": "ipython",
    "version": 3
   },
   "file_extension": ".py",
   "mimetype": "text/x-python",
   "name": "python",
   "nbconvert_exporter": "python",
   "pygments_lexer": "ipython3",
   "version": "3.9.12"
  }
 },
 "nbformat": 4,
 "nbformat_minor": 5
}
