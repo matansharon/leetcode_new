{
 "cells": [
  {
   "cell_type": "code",
   "execution_count": 1,
   "id": "e03afcfc",
   "metadata": {},
   "outputs": [],
   "source": [
    "from random import randint,choice,random\n",
    "from datetime import datetime, timedelta\n",
    "import pandas as pd\n",
    "\n",
    "def gen_datetime(min_year=1900, max_year=datetime.now().year):\n",
    "    \n",
    "    start = datetime(min_year, 1, 1, 0, 0, 0)\n",
    "    years = max_year - min_year + 1\n",
    "    end = start + timedelta(days=365 * years)\n",
    "    return start + (end - start) * random()\n",
    "def convert_str_to_datetime(s):\n",
    "    temp=s\n",
    "    s1=[]\n",
    "    if s[-1]==\"\\n\":\n",
    "        temp=s[:-1]\n",
    "    temp=temp.split(\"-\")\n",
    "    try:\n",
    "        return datetime(temp[0],temp[1],temp[2])\n",
    "    except:\n",
    "        return None\n",
    "    \n",
    "    "
   ]
  },
  {
   "cell_type": "code",
   "execution_count": 4,
   "id": "5c9e545e",
   "metadata": {},
   "outputs": [],
   "source": [
    "user_id=[]\n",
    "song_id=[]\n",
    "date=[]\n",
    "num_of_listens=1000000\n",
    "num_users_and_songs=100\n",
    "for i in range(num_of_listens):\n",
    "    user_id.append(randint(1,num_users_and_songs))\n",
    "    song_id.append(randint(1,num_users_and_songs))\n",
    "    date.append(gen_datetime(2022,2022).strftime(\"%Y-%m-%d\"))\n",
    "cols=[\"user_id\",\"song_id\",\"date\"]\n",
    "values=[user_id,song_id,date]\n",
    "res={}\n",
    "for i in range(len(cols)):\n",
    "    res[cols[i]]=values[i]\n",
    "res=pd.DataFrame(res)\n",
    "res.index.name=\"index\"\n",
    "res.to_csv(\"Listens.csv\")"
   ]
  },
  {
   "cell_type": "code",
   "execution_count": 3,
   "id": "93b1819b",
   "metadata": {},
   "outputs": [],
   "source": [
    "frienships={}\n",
    "user1=[]\n",
    "user2=[]\n",
    "for i in range(num_users_and_songs):\n",
    "    a=choice(user_id)\n",
    "    b=choice(user_id)\n",
    "    if a!=b:\n",
    "        user1.append(a)\n",
    "        user2.append(b)\n",
    "cols=[\"user1_id\",\"user2_id\"]\n",
    "values=[user1,user2]\n",
    "for i in range(len(cols)):\n",
    "    frienships[cols[i]]=values[i]\n",
    "f=pd.DataFrame(frienships)\n",
    "f.to_csv(\"Friendships.csv\")"
   ]
  }
 ],
 "metadata": {
  "kernelspec": {
   "display_name": "Python 3 (ipykernel)",
   "language": "python",
   "name": "python3"
  },
  "language_info": {
   "codemirror_mode": {
    "name": "ipython",
    "version": 3
   },
   "file_extension": ".py",
   "mimetype": "text/x-python",
   "name": "python",
   "nbconvert_exporter": "python",
   "pygments_lexer": "ipython3",
   "version": "3.9.12"
  }
 },
 "nbformat": 4,
 "nbformat_minor": 5
}
