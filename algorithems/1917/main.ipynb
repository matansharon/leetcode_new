{
 "cells": [
  {
   "cell_type": "code",
   "execution_count": 24,
   "id": "f486a1ef",
   "metadata": {},
   "outputs": [],
   "source": [
    "import pandas as pd"
   ]
  },
  {
   "cell_type": "code",
   "execution_count": 25,
   "id": "69042c2c",
   "metadata": {},
   "outputs": [],
   "source": [
    "class User:\n",
    "    def __init__(self,_id):\n",
    "        self.id=_id\n",
    "        self.dic={}\n",
    "    def add(self,date,song_id):\n",
    "        if date not in self.dic:\n",
    "            self.dic[date]=set()\n",
    "        self.dic[date].add(song_id)\n",
    "    def compare_dates(self,date,other_date):\n",
    "        return sorted(self.dic[date])==sorted(other_date)"
   ]
  },
  {
   "cell_type": "code",
   "execution_count": 26,
   "id": "cf64dfa4",
   "metadata": {},
   "outputs": [
    {
     "name": "stdout",
     "output_type": "stream",
     "text": [
      "CPU times: user 215 ms, sys: 42.1 ms, total: 257 ms\n",
      "Wall time: 258 ms\n"
     ]
    }
   ],
   "source": [
    "%%time\n",
    "listens=pd.read_csv(\"Listens.csv\")\n"
   ]
  },
  {
   "cell_type": "code",
   "execution_count": 27,
   "id": "1e7ef87a",
   "metadata": {},
   "outputs": [],
   "source": [
    "users={}\n",
    "cnt=0\n",
    "for i in range(len(listens)):\n",
    "    row=listens.iloc[i]\n",
    "    u=None\n",
    "    if row.user_id not in users:\n",
    "        u=User(row.user_id)\n",
    "        users[u.id]=u\n",
    "    else:\n",
    "        u=users[row.user_id]\n",
    "    u.add(row.date,row.song_id)\n",
    "    \n",
    "#     if cnt>1000:\n",
    "#         break\n",
    "#     cnt+=1"
   ]
  },
  {
   "cell_type": "code",
   "execution_count": 33,
   "id": "16908559",
   "metadata": {},
   "outputs": [
    {
     "ename": "IndentationError",
     "evalue": "expected an indented block (1266878529.py, line 4)",
     "output_type": "error",
     "traceback": [
      "\u001b[0;36m  Cell \u001b[0;32mIn [33], line 4\u001b[0;36m\u001b[0m\n\u001b[0;31m    \u001b[0m\n\u001b[0m    ^\u001b[0m\n\u001b[0;31mIndentationError\u001b[0m\u001b[0;31m:\u001b[0m expected an indented block\n"
     ]
    }
   ],
   "source": [
    "\n",
    "    \n"
   ]
  }
 ],
 "metadata": {
  "kernelspec": {
   "display_name": "Python 3 (ipykernel)",
   "language": "python",
   "name": "python3"
  },
  "language_info": {
   "codemirror_mode": {
    "name": "ipython",
    "version": 3
   },
   "file_extension": ".py",
   "mimetype": "text/x-python",
   "name": "python",
   "nbconvert_exporter": "python",
   "pygments_lexer": "ipython3",
   "version": "3.9.12"
  }
 },
 "nbformat": 4,
 "nbformat_minor": 5
}
