{
 "cells": [
  {
   "cell_type": "code",
   "execution_count": 45,
   "id": "c3272571",
   "metadata": {},
   "outputs": [],
   "source": [
    "import pandas as pd\n",
    "inpput=pd.read_csv(\"Candidates.csv\")\n",
    "badget=150000\n",
    "\n",
    "seniors=[]\n",
    "juniors=[]\n",
    "for i in range(len(inpput)):\n",
    "    row=inpput.iloc[i]\n",
    "    if row.experience==\"Junior\":\n",
    "        juniors.append([row.salary,row.employee_id])\n",
    "    else:\n",
    "        seniors.append([row.salary,row.employee_id])\n",
    "seniors.sort()\n",
    "juniors.sort()\n",
    "\n",
    "res_seniors=[]\n",
    "pos=0\n",
    "while badget>0 and pos<len(seniors):\n",
    "    if badget-seniors[pos][0]>0:\n",
    "        res_seniors.append(seniors[pos])\n",
    "        \n",
    "        \n",
    "        badget-=seniors[pos][0]\n",
    "        pos+=1\n",
    "    else:\n",
    "        break\n",
    "pos=0\n",
    "res_juniors=[]\n",
    "\n",
    "\n",
    "while badget>0 and pos<len(juniors):\n",
    "    if badget-juniors[pos][0]>0:\n",
    "        res_juniors.append(juniors[pos])\n",
    "        badget-=juniors[pos][0]\n",
    "        pos+=1\n",
    "    else:\n",
    "        break\n",
    "res=[]\n",
    "for i in res_seniors:\n",
    "    res.append(i[1])\n",
    "for i in res_juniors:\n",
    "    res.append(i[1])\n",
    "index=range(1,len(res))\n",
    "temp_res={}\n",
    "temp_res[index]=res\n",
    "res=pd.DataFrame(temp_res)\n",
    "res.to_csv(\"res2.csv\")\n",
    "\n"
   ]
  }
 ],
 "metadata": {
  "kernelspec": {
   "display_name": "Python 3 (ipykernel)",
   "language": "python",
   "name": "python3"
  },
  "language_info": {
   "codemirror_mode": {
    "name": "ipython",
    "version": 3
   },
   "file_extension": ".py",
   "mimetype": "text/x-python",
   "name": "python",
   "nbconvert_exporter": "python",
   "pygments_lexer": "ipython3",
   "version": "3.9.12"
  }
 },
 "nbformat": 4,
 "nbformat_minor": 5
}
