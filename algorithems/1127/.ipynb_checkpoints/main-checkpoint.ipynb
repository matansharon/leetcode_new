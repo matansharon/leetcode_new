{
 "cells": [
  {
   "cell_type": "code",
   "execution_count": 60,
   "id": "9a663861",
   "metadata": {},
   "outputs": [],
   "source": [
    "from random import randint,choice,random\n",
    "from datetime import datetime, timedelta\n",
    "from time import time\n",
    "import pandas as pd"
   ]
  },
  {
   "cell_type": "code",
   "execution_count": 61,
   "id": "299d59f6",
   "metadata": {},
   "outputs": [],
   "source": [
    "\n",
    "t1=time()\n",
    "\n",
    "\n",
    "def gen_datetime(min_year=1900, max_year=datetime.now().year):\n",
    "    \n",
    "    start = datetime(min_year, 1, 1, 0, 0, 0)\n",
    "    years = max_year - min_year + 1\n",
    "    end = start + timedelta(days=365 * years)\n",
    "    return start + (end - start) * random()\n",
    "def convert_str_to_datetime(s):\n",
    "    temp=s\n",
    "    s1=[]\n",
    "    if s[-1]==\"\\n\":\n",
    "        temp=s[:-1]\n",
    "    temp=temp.split(\"-\")\n",
    "    try:\n",
    "        return datetime(temp[0],temp[1],temp[2])\n",
    "    except:\n",
    "        return None"
   ]
  },
  {
   "cell_type": "code",
   "execution_count": 62,
   "id": "68a1ce00",
   "metadata": {},
   "outputs": [
    {
     "name": "stdout",
     "output_type": "stream",
     "text": [
      "CPU times: user 808 ms, sys: 5.76 ms, total: 814 ms\n",
      "Wall time: 815 ms\n"
     ]
    }
   ],
   "source": [
    "%%time\n",
    "import pandas as pd\n",
    "cols=[\"user_id\",\"spend_date\",\"platform\",\"amount\"]\n",
    "ids=[]\n",
    "spend_date=[]\n",
    "platform=[]\n",
    "amt=[]\n",
    "for i in range(100000):\n",
    "    ids.append(randint(1,200))\n",
    "    spend_date.append(gen_datetime(2010,2022).strftime(\"%Y-%m-%d\"))\n",
    "    platform.append(choice([\"mobile\",\"desktop\"]))\n",
    "    amt.append(choice(range(100,1000,100)))\n",
    "dic={}\n",
    "values=[ids,spend_date,platform,amt]\n",
    "for i in range(len(cols)):\n",
    "    dic[cols[i]]=values[i]\n",
    "out=pd.DataFrame(dic)\n",
    "out.to_csv(\"Spending_table.csv\")"
   ]
  },
  {
   "cell_type": "code",
   "execution_count": 63,
   "id": "5b9d19d6",
   "metadata": {},
   "outputs": [],
   "source": [
    "class User:\n",
    "    def __init__(self,_id):\n",
    "        self.id=_id\n",
    "        self.activities={}\n",
    "    def add(self,date,platform,amt):\n",
    "        if date not in self.activities:\n",
    "            self.activities[date]={\"mobile\":0,\"desktop\":0}\n",
    "        self.activities[date][platform]+=amt\n",
    "        "
   ]
  },
  {
   "cell_type": "code",
   "execution_count": 64,
   "id": "ba676f6b",
   "metadata": {},
   "outputs": [],
   "source": [
    "\n",
    "data=pd.read_csv(\"Spending_table.csv\")\n",
    "\n",
    "\n",
    "    "
   ]
  },
  {
   "cell_type": "code",
   "execution_count": 65,
   "id": "a1c4e010",
   "metadata": {},
   "outputs": [
    {
     "name": "stdout",
     "output_type": "stream",
     "text": [
      "CPU times: user 5.97 s, sys: 33.9 ms, total: 6 s\n",
      "Wall time: 6 s\n"
     ]
    }
   ],
   "source": [
    "%%time\n",
    "users={}\n",
    "by_date={}\n",
    "\n",
    "for i in range(len(data)):\n",
    "    row=data.iloc[i]\n",
    "    _id=row.user_id\n",
    "    date=row.spend_date\n",
    "    platform=row.platform\n",
    "    amt=row.amount\n",
    "    if date not in by_date:\n",
    "        by_date[date]={\"desktop\":0,\"mobile\":0,\"both\":0,\"total_users\":0}\n",
    "    \n",
    "    if _id not in users:\n",
    "        users[_id]=User(_id)\n",
    "    \n",
    "    user=users[_id]\n",
    "    if date not in user.activities:\n",
    "        by_date[date][\"total_users\"]+=1\n",
    "    user.add(date,platform,amt)\n",
    "    by_date[date][platform]+=amt\n",
    "    \n",
    "    m=user.activities[date][\"mobile\"]\n",
    "    d=user.activities[date][\"desktop\"]\n",
    "    \n",
    "    if m>0 and d>0:\n",
    "        by_date[date][\"both\"]+=(m+d)\n"
   ]
  },
  {
   "cell_type": "code",
   "execution_count": 66,
   "id": "e5421d8c",
   "metadata": {},
   "outputs": [
    {
     "name": "stdout",
     "output_type": "stream",
     "text": [
      "CPU times: user 16.4 ms, sys: 1.21 ms, total: 17.6 ms\n",
      "Wall time: 18 ms\n"
     ]
    }
   ],
   "source": [
    "%%time\n",
    "cnt=0\n",
    "dates=[]\n",
    "desktop=[]\n",
    "mobile=[]\n",
    "both=[]\n",
    "total=[]\n",
    "values=[dates,desktop,mobile,both,total]\n",
    "cols=[\"dates\",\"desktop\",\"mobile\",\"both\",\"total_users\"]\n",
    "for i in by_date:\n",
    "    dates.append(i)\n",
    "    desktop.append(by_date[i][\"desktop\"])\n",
    "    mobile.append(by_date[i][\"mobile\"])\n",
    "    both.append(by_date[i][\"both\"])\n",
    "    total.append(by_date[i][\"total_users\"])\n",
    "res={}\n",
    "for i in range(len(cols)):\n",
    "    res[cols[i]]=values[i]\n",
    "res=pd.DataFrame(res)\n",
    "res.to_csv(\"res.csv\")\n"
   ]
  }
 ],
 "metadata": {
  "kernelspec": {
   "display_name": "Python 3 (ipykernel)",
   "language": "python",
   "name": "python3"
  },
  "language_info": {
   "codemirror_mode": {
    "name": "ipython",
    "version": 3
   },
   "file_extension": ".py",
   "mimetype": "text/x-python",
   "name": "python",
   "nbconvert_exporter": "python",
   "pygments_lexer": "ipython3",
   "version": "3.9.12"
  }
 },
 "nbformat": 4,
 "nbformat_minor": 5
}
