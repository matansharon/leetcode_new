{
 "cells": [
  {
   "cell_type": "code",
   "execution_count": 15,
   "metadata": {},
   "outputs": [],
   "source": [
    "def create_table(n_rows):\n",
    "    import pandas as pd\n",
    "    import numpy as np \n",
    "    id = np.arange(n_rows)\n",
    "    salaries=np.random.randint(10000, 100000, size=n_rows)\n",
    "    return pd.DataFrame({'id': id, 'salaries': salaries})"
   ]
  },
  {
   "cell_type": "code",
   "execution_count": null,
   "metadata": {},
   "outputs": [],
   "source": [
    "# Call the create_table function with 5 rows\n",
    "df = create_table(5)\n",
    "\n",
    "# Print the resulting dataframe\n",
    "print(df)\n",
    "\n"
   ]
  },
  {
   "cell_type": "code",
   "execution_count": 27,
   "metadata": {},
   "outputs": [],
   "source": [
    "import pandas as pd\n",
    "def nth_highest_salary(employee: pd.DataFrame, N: int) -> pd.DataFrame:\n",
    "    temp = employee.drop_duplicates()\n",
    "    temp = temp.sort_values(by=['salary'], ascending=False)\n",
    "    temp = temp.reset_index(drop=True)\n",
    "    \n",
    "    if not len(temp):\n",
    "        #return a dataframe with no rows\n",
    "        return pd.DataFrame({f'getNthHighestSalary({N})': [None]})\n",
    "    #rename the column to getNthHighestSalaryN and drop the id column\n",
    "    temp = temp.rename(columns={'salary': f'getNthHighestSalary({N})'})\n",
    "    temp = temp.drop(columns=['id'])\n",
    "    #return the Nth highest salary\n",
    "    \n",
    "    return temp.iloc[[N-1]]\n"
   ]
  },
  {
   "cell_type": "code",
   "execution_count": 28,
   "metadata": {},
   "outputs": [
    {
     "name": "stdout",
     "output_type": "stream",
     "text": [
      "   getNthHighestSalary(2)\n",
      "1                   80000\n"
     ]
    }
   ],
   "source": [
    "# Create a sample dataframe\n",
    "sample_df = pd.DataFrame({'id': [1, 2, 3, 4, 5], 'salary': [50000, 60000, 70000, 80000, 90000]})\n",
    "\n",
    "# Call the nth_highest_salary function with N=2\n",
    "result = nth_highest_salary(sample_df, 2)\n",
    "\n",
    "# Print the result\n",
    "print((result))\n"
   ]
  }
 ],
 "metadata": {
  "kernelspec": {
   "display_name": "leetcode_env",
   "language": "python",
   "name": "python3"
  },
  "language_info": {
   "codemirror_mode": {
    "name": "ipython",
    "version": 3
   },
   "file_extension": ".py",
   "mimetype": "text/x-python",
   "name": "python",
   "nbconvert_exporter": "python",
   "pygments_lexer": "ipython3",
   "version": "3.10.11"
  }
 },
 "nbformat": 4,
 "nbformat_minor": 2
}
