{
 "cells": [
  {
   "cell_type": "code",
   "execution_count": 28,
   "id": "572acc3c",
   "metadata": {},
   "outputs": [],
   "source": [
    "emp={}\n",
    "\n",
    "with open(r'Employee_202211130858.csv','r') as file:\n",
    "    for i in file:\n",
    "        row=i.split(',')\n",
    "        row[-1]=row[-1][:-1]\n",
    "        temp=[row[0],row[2]]\n",
    "        emp[temp[0]]=temp[1]\n"
   ]
  },
  {
   "cell_type": "code",
   "execution_count": 29,
   "id": "c0517f49",
   "metadata": {},
   "outputs": [
    {
     "name": "stdout",
     "output_type": "stream",
     "text": [
      "{'\"employee_id\"': '\"experience_years\"', '1': '3', '2': '2', '3': '1', '4': '2'}\n"
     ]
    }
   ],
   "source": [
    "print(emp)"
   ]
  },
  {
   "cell_type": "code",
   "execution_count": 20,
   "id": "989bdd75",
   "metadata": {},
   "outputs": [],
   "source": [
    "pro_dic={}\n",
    "with open(r'Project_202211130858.csv','r') as file:\n",
    "    for i in file:\n",
    "        row=i.split(',')\n",
    "        row[-1]=row[-1][:-1]\n",
    "        if row[0] in pro_dic:\n",
    "            pro_dic[row[0]].add(row[1])\n",
    "        else:\n",
    "            pro_dic[row[0]]=set()\n",
    "            pro_dic[row[0]].add(row[1])"
   ]
  },
  {
   "cell_type": "code",
   "execution_count": 30,
   "id": "1c00cebe",
   "metadata": {},
   "outputs": [
    {
     "name": "stdout",
     "output_type": "stream",
     "text": [
      "{'\"project_id\"': {'\"employee_id\"'}, '1': {'2', '3', '1'}, '2': {'4', '1'}}\n"
     ]
    }
   ],
   "source": [
    "print(pro_dic)"
   ]
  },
  {
   "cell_type": "code",
   "execution_count": 36,
   "id": "84a97e28",
   "metadata": {},
   "outputs": [
    {
     "name": "stdout",
     "output_type": "stream",
     "text": [
      "value error\n",
      "divided by zero not allowed\n",
      "[2.0, 2.5]\n"
     ]
    }
   ],
   "source": [
    "res=[]\n",
    "for i in pro_dic:\n",
    "    l=[]\n",
    "    for j in pro_dic[i]:\n",
    "        try:\n",
    "            l.append(int(emp[j]))\n",
    "        except:\n",
    "            print(\"value error\")\n",
    "    try:\n",
    "        res.append(sum(l)/len(l))\n",
    "    except:\n",
    "        print(\"divided by zero not allowed\")\n",
    "\n",
    "print (res)        "
   ]
  },
  {
   "cell_type": "code",
   "execution_count": null,
   "id": "d2d76373",
   "metadata": {},
   "outputs": [],
   "source": []
  }
 ],
 "metadata": {
  "kernelspec": {
   "display_name": "Python 3 (ipykernel)",
   "language": "python",
   "name": "python3"
  },
  "language_info": {
   "codemirror_mode": {
    "name": "ipython",
    "version": 3
   },
   "file_extension": ".py",
   "mimetype": "text/x-python",
   "name": "python",
   "nbconvert_exporter": "python",
   "pygments_lexer": "ipython3",
   "version": "3.9.12"
  }
 },
 "nbformat": 4,
 "nbformat_minor": 5
}
