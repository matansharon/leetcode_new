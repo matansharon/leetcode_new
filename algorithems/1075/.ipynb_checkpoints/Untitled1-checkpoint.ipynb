{
 "cells": [
  {
   "cell_type": "code",
   "execution_count": 1,
   "id": "04545907",
   "metadata": {},
   "outputs": [],
   "source": [
    "import smtplib\n",
    "from email.message import EmailMessage\n",
    "import ssl\n",
    "sender=\"matca2954@gmail.com\"\n",
    "reciver=\"matca2952@gmail.com\"\n",
    "password=\"fqnxcogcxivquvgf\"\n",
    "message=\"hi there\"\n",
    "subject=\"test\"\n",
    "body=\"hello world\"\n",
    "em=EmailMessage()\n",
    "em['From']=sender\n",
    "em['To']=reciver\n",
    "em['Subject']=subject\n",
    "em.set_content(body)\n",
    "context=ssl.create_default_context()\n",
    "\n",
    "with smtplib.SMTP_SSL('smtp.gmail.com',465,context=context)as smtp:\n",
    "    smtp.login(sender,password)\n",
    "    smtp.sendmail(sender,reciver,em.as_string())\n"
   ]
  }
 ],
 "metadata": {
  "kernelspec": {
   "display_name": "Python 3 (ipykernel)",
   "language": "python",
   "name": "python3"
  },
  "language_info": {
   "codemirror_mode": {
    "name": "ipython",
    "version": 3
   },
   "file_extension": ".py",
   "mimetype": "text/x-python",
   "name": "python",
   "nbconvert_exporter": "python",
   "pygments_lexer": "ipython3",
   "version": "3.9.12"
  }
 },
 "nbformat": 4,
 "nbformat_minor": 5
}
