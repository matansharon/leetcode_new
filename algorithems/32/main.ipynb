{
 "cells": [
  {
   "cell_type": "code",
   "execution_count": null,
   "metadata": {},
   "outputs": [],
   "source": [
    "class Solution(object):\n",
    "    def longestValidParentheses(self, s):\n",
    "        \"\"\"\n",
    "        :type s: str\n",
    "        :rtype: int\n",
    "        \"\"\"\n",
    "        max_length = 0\n",
    "        stack = [-1]  # Initialize stack with -1 to handle edge case\n",
    "\n",
    "        for i in range(len(s)):\n",
    "            if s[i] == '(':\n",
    "                stack.append(i)  # Push the index of '(' onto the stack\n",
    "            else:\n",
    "                stack.pop()  # Pop the top element for every ')'\n",
    "                if not stack:\n",
    "                    stack.append(i)  # If stack is empty, push the current index\n",
    "                else:\n",
    "                    max_length = max(max_length, i - stack[-1])  # Update max_length\n",
    "\n",
    "        return max_length\n"
   ]
  }
 ],
 "metadata": {
  "kernelspec": {
   "display_name": "leetcode_env",
   "language": "python",
   "name": "python3"
  },
  "language_info": {
   "name": "python",
   "version": "3.10.11"
  }
 },
 "nbformat": 4,
 "nbformat_minor": 2
}
