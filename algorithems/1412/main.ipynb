{
 "cells": [
  {
   "cell_type": "code",
   "execution_count": 18,
   "id": "71e23229",
   "metadata": {},
   "outputs": [
    {
     "name": "stdout",
     "output_type": "stream",
     "text": [
      "[0, 1, 2, 3, 4, 5, 6, 7, 8, 9, 10, 11, 12, 13, 14, 15, 16, 17, 18, 19, 20, 21, 22, 23, 24, 25, 26, 27, 28, 29, 30, 31, 32, 33, 34, 35, 36, 37, 38, 39, 40, 41, 42, 43, 44, 45, 46, 47, 48, 49]\n"
     ]
    }
   ],
   "source": [
    "# students={}\n",
    "# index=0\n",
    "# with open(\"students.csv\",\"r\")as file:\n",
    "#     for i in file:\n",
    "#         row=i[:-1].split(\",\")\n",
    "#         students[index]=row\n",
    "#         index+=1\n",
    "\n",
    "# # print(list(students.keys()))\n",
    "# #     "
   ]
  },
  {
   "cell_type": "code",
   "execution_count": 19,
   "id": "bc064c1c",
   "metadata": {},
   "outputs": [],
   "source": [
    "# from random import randint,choice\n",
    "# with open(\"exam.csv\",\"w\")as file:\n",
    "#     for i in range(100):\n",
    "#         file.write(\n",
    "#             str(randint(1,10))+\",\"+\\\n",
    "#             str(choice(list(students.keys())))+\",\"+\\\n",
    "#             str(randint(1,100))+\"\\n\"\n",
    "#         )"
   ]
  },
  {
   "cell_type": "code",
   "execution_count": null,
   "id": "44f312e1",
   "metadata": {},
   "outputs": [],
   "source": [
    "students={}\n",
    "index=0\n",
    "with open(\"students.csv\",\"r\")as file:\n",
    "    for i in file:\n",
    "        row=i[:-1]\n",
    "        students[index]=row\n",
    "        index+=1\n"
   ]
  },
  {
   "cell_type": "code",
   "execution_count": 35,
   "id": "90819c04",
   "metadata": {},
   "outputs": [
    {
     "name": "stdout",
     "output_type": "stream",
     "text": [
      "10 [[4, '16'], [9, '5'], [29, '34'], [34, '27'], [35, '18'], [37, '5'], [41, '3'], [46, '26'], [53, '40'], [77, '3'], [82, '11']]\n",
      "2 [[4, '31'], [20, '0'], [39, '19'], [55, '13'], [62, '24'], [94, '20'], [98, '49']]\n",
      "7 [[3, '40'], [11, '5'], [12, '35'], [25, '49'], [33, '47'], [41, '42'], [53, '31'], [65, '2'], [83, '10'], [91, '41']]\n",
      "3 [[4, '44'], [12, '47'], [17, '17'], [34, '40'], [41, '15'], [73, '3'], [94, '41'], [97, '44']]\n",
      "1 [[4, '4'], [7, '14'], [26, '39'], [32, '42'], [33, '2'], [35, '8'], [37, '7'], [38, '25'], [50, '28'], [53, '37'], [54, '48'], [59, '37'], [69, '46'], [69, '9'], [74, '7'], [79, '42'], [90, '15']]\n",
      "4 [[9, '40'], [16, '11'], [22, '22'], [29, '41'], [33, '21'], [33, '21'], [66, '42'], [72, '1'], [73, '10']]\n",
      "6 [[13, '34'], [15, '10'], [24, '29'], [27, '7'], [29, '46'], [53, '19'], [57, '45'], [68, '16'], [73, '41'], [79, '0'], [87, '1'], [95, '43'], [97, '5']]\n",
      "8 [[9, '16'], [16, '6'], [65, '10'], [70, '45'], [82, '0'], [93, '43']]\n",
      "9 [[11, '22'], [41, '11'], [45, '17'], [67, '47'], [70, '25'], [89, '1'], [92, '21']]\n",
      "5 [[12, '2'], [31, '41'], [43, '0'], [55, '8'], [57, '10'], [57, '23'], [83, '5'], [87, '34'], [88, '20'], [88, '43'], [92, '40'], [98, '14']]\n"
     ]
    }
   ],
   "source": [
    "exams={}\n",
    "with open(\"exam.csv\",\"r\")as file:\n",
    "    for i in file:\n",
    "        row=i[:-1].split(\",\")\n",
    "        if row[0] not in exams:\n",
    "            exams[row[0]]=[]\n",
    "        exams[row[0]].append([int(row[2]),row[1]])\n",
    "for i in exams:\n",
    "    exams[i].sort()\n",
    "for i in exams:\n",
    "    print(i,exams[i])"
   ]
  },
  {
   "cell_type": "code",
   "execution_count": 50,
   "id": "5a6b4a60",
   "metadata": {},
   "outputs": [
    {
     "name": "stdout",
     "output_type": "stream",
     "text": [
      "[0, 1, 2, 3, 4, 6, 7, 8, 9, 12, 13, 16, 17, 18, 19, 20, 22, 23, 24, 25, 26, 27, 28, 29, 30, 31, 32, 33, 34, 35, 36, 37, 38, 39, 40, 42, 45, 46, 47, 48]\n"
     ]
    }
   ],
   "source": [
    "silent_students=[]\n",
    "for s in students:\n",
    "#     print(s)\n",
    "    flag=True\n",
    "    for exam in exams:\n",
    "        first=exams[exam][0]\n",
    "        last=exams[exam][-1]\n",
    "#         print(type(first[1]),type(s))\n",
    "        if int(first[1])==str(s) or int(last[1])==s:\n",
    "            flag=False\n",
    "    if flag:\n",
    "        silent_students.append(s)\n"
   ]
  },
  {
   "cell_type": "code",
   "execution_count": 51,
   "id": "45bcbbec",
   "metadata": {},
   "outputs": [],
   "source": [
    "with open(\"res.csv\",\"w\")as file:\n",
    "    for i in silent_students:\n",
    "        file.write(str(i)+\",\"+students[i]+\"\\n\")"
   ]
  }
 ],
 "metadata": {
  "kernelspec": {
   "display_name": "Python 3 (ipykernel)",
   "language": "python",
   "name": "python3"
  },
  "language_info": {
   "codemirror_mode": {
    "name": "ipython",
    "version": 3
   },
   "file_extension": ".py",
   "mimetype": "text/x-python",
   "name": "python",
   "nbconvert_exporter": "python",
   "pygments_lexer": "ipython3",
   "version": "3.9.12"
  }
 },
 "nbformat": 4,
 "nbformat_minor": 5
}
