{
 "cells": [
  {
   "cell_type": "code",
   "execution_count": null,
   "metadata": {},
   "outputs": [],
   "source": [
    "class Solution:\n",
    "    def partition(self, s: str) -> List[List[str]]:\n",
    "        def is_palindrome(s: str) -> bool:\n",
    "            return s == s[::-1]\n",
    "        \n",
    "        def backtrack(start: int, path: List[str]) -> None:\n",
    "            if start == len(s):\n",
    "                res.append(path)\n",
    "                return\n",
    "            for i in range(start, len(s)):\n",
    "                if is_palindrome(s[start:i+1]):\n",
    "                    backtrack(i+1, path+[s[start:i+1]])\n",
    "        \n",
    "        res = []\n",
    "        backtrack(0, [])\n",
    "        return res\n"
   ]
  }
 ],
 "metadata": {
  "language_info": {
   "name": "python"
  }
 },
 "nbformat": 4,
 "nbformat_minor": 2
}
