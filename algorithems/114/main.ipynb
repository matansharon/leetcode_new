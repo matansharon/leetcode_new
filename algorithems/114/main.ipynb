{
 "cells": [
  {
   "attachments": {},
   "cell_type": "markdown",
   "metadata": {},
   "source": [
    "Given the root of a binary tree, flatten the tree into a \"linked list\":\n",
    "\n",
    "The \"linked list\" should use the same TreeNode class where the right child pointer points to the next node in the list and the left child pointer is always null.\n",
    "The \"linked list\" should be in the same order as a pre-order traversal of the binary tree.\n",
    " \n",
    "\n",
    "Example 1:\n",
    "\n",
    "\n",
    "Input: root = [1,2,5,3,4,null,6]\n",
    "Output: [1,null,2,null,3,null,4,null,5,null,6]\n",
    "Example 2:\n",
    "\n",
    "Input: root = []\n",
    "Output: []\n",
    "Example 3:\n",
    "\n",
    "Input: root = [0]\n",
    "Output: [0]\n",
    " \n",
    "\n",
    "Constraints:\n",
    "\n",
    "The number of nodes in the tree is in the range [0, 2000].\n",
    "-100 <= Node.val <= 100\n",
    " \n",
    "\n",
    "Follow up: Can you flatten the tree in-place (with O(1) extra space)?"
   ]
  },
  {
   "cell_type": "code",
   "execution_count": 4,
   "metadata": {},
   "outputs": [],
   "source": [
    "class TreeNode(object):\n",
    "    def __init__(self, val=0, left=None, right=None):\n",
    "        self.val = val\n",
    "        self.left = left\n",
    "        self.right = right"
   ]
  },
  {
   "cell_type": "code",
   "execution_count": 15,
   "metadata": {},
   "outputs": [],
   "source": [
    "# Definition for a binary tree node.\n",
    "# class TreeNode(object):\n",
    "# def __init__(self, val=0, left=None, right=None):\n",
    "#         self.val = val\n",
    "#         self.left = left\n",
    "#         self.right = right\n",
    "class Solution(object):\n",
    "    def scan(self,node):\n",
    "        if node==None:\n",
    "            return\n",
    "        self.res.append(node.val)\n",
    "        self.scan(node.left)\n",
    "        self.scan(node.right)\n",
    "    def build_tree(self):\n",
    "        new_root=TreeNode(self.res[0])\n",
    "        curr=new_root\n",
    "        for i in range(1,len(self.res)):\n",
    "            curr.right=TreeNode(self.res[i])\n",
    "            curr.left=None\n",
    "            curr=curr.right\n",
    "        return new_root\n",
    "    def print_tree(self,node):\n",
    "        if node==None:\n",
    "            return\n",
    "        print(node.val)\n",
    "        self.print_tree(node.left)\n",
    "        self.print_tree(node.right)\n",
    "    def flatten(self, root):\n",
    "        \"\"\"\n",
    "        :type root: TreeNode\n",
    "        :rtype: None Do not return anything, modify root in-place instead.\n",
    "        \"\"\"\n",
    "        # if root==None:\n",
    "        #     return\n",
    "        # self.res=[]\n",
    "        \n",
    "        # self.scan(root)\n",
    "        \n",
    "        # new_root=self.build_tree()\n",
    "        # root=new_root\n",
    "        curr=root\n",
    "        while curr:\n",
    "            if curr.left:\n",
    "                temp=curr.left\n",
    "                while temp.right:\n",
    "                    temp=temp.right\n",
    "                temp.right=curr.right\n",
    "                curr.right=curr.left\n",
    "                curr.left=None\n",
    "            curr=curr.right\n",
    "        \n",
    "    \n",
    "        "
   ]
  },
  {
   "cell_type": "code",
   "execution_count": 16,
   "metadata": {},
   "outputs": [
    {
     "name": "stdout",
     "output_type": "stream",
     "text": [
      "None\n"
     ]
    }
   ],
   "source": [
    "if __name__==\"__main__\":\n",
    "    root=TreeNode(1)\n",
    "    root.left=TreeNode(2)\n",
    "    root.right=TreeNode(5)\n",
    "    root.left.left=TreeNode(3)\n",
    "    root.left.right=TreeNode(4)\n",
    "    root.right.right=TreeNode(6)\n",
    "    print(Solution().flatten(root))"
   ]
  }
 ],
 "metadata": {
  "kernelspec": {
   "display_name": "base",
   "language": "python",
   "name": "python3"
  },
  "language_info": {
   "codemirror_mode": {
    "name": "ipython",
    "version": 3
   },
   "file_extension": ".py",
   "mimetype": "text/x-python",
   "name": "python",
   "nbconvert_exporter": "python",
   "pygments_lexer": "ipython3",
   "version": "3.9.13"
  },
  "orig_nbformat": 4
 },
 "nbformat": 4,
 "nbformat_minor": 2
}
