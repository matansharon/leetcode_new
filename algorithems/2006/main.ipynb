{
 "cells": [
  {
   "attachments": {},
   "cell_type": "markdown",
   "metadata": {},
   "source": [
    "Given an integer array nums and an integer k, return the number of pairs (i, j) where i < j such that |nums[i] - nums[j]| == k.\n",
    "\n",
    "The value of |x| is defined as:\n",
    "\n",
    "x if x >= 0.\n",
    "-x if x < 0.\n",
    " \n",
    "\n",
    "Example 1:\n",
    "\n",
    "Input: nums = [1,2,2,1], k = 1\n",
    "Output: 4\n",
    "Explanation: The pairs with an absolute difference of 1 are:\n",
    "- [1,2,2,1]\n",
    "- [1,2,2,1]\n",
    "- [1,2,2,1]\n",
    "- [1,2,2,1]\n",
    "Example 2:\n",
    "\n",
    "Input: nums = [1,3], k = 3\n",
    "Output: 0\n",
    "Explanation: There are no pairs with an absolute difference of 3.\n",
    "Example 3:\n",
    "\n",
    "Input: nums = [3,2,1,5,4], k = 2\n",
    "Output: 3\n",
    "Explanation: The pairs with an absolute difference of 2 are:\n",
    "- [3,2,1,5,4]\n",
    "- [3,2,1,5,4]\n",
    "- [3,2,1,5,4]\n",
    " \n",
    "\n",
    "Constraints:\n",
    "\n",
    "1 <= nums.length <= 200\n",
    "1 <= nums[i] <= 100\n",
    "1 <= k <= 99"
   ]
  },
  {
   "cell_type": "code",
   "execution_count": 1,
   "metadata": {},
   "outputs": [],
   "source": [
    "\n",
    "class Solution(object):\n",
    "    def countKDifference(self, nums, k):\n",
    "        \"\"\"\n",
    "        :type nums: List[int]\n",
    "        :type k: int\n",
    "        :rtype: int\n",
    "        \"\"\"\n",
    "        count = 0\n",
    "        for i in range(len(nums)):\n",
    "            for j in range(i+1, len(nums)):\n",
    "                if abs(nums[i] - nums[j]) == k:\n",
    "                    count += 1\n",
    "        return count"
   ]
  }
 ],
 "metadata": {
  "kernelspec": {
   "display_name": "base",
   "language": "python",
   "name": "python3"
  },
  "language_info": {
   "codemirror_mode": {
    "name": "ipython",
    "version": 3
   },
   "file_extension": ".py",
   "mimetype": "text/x-python",
   "name": "python",
   "nbconvert_exporter": "python",
   "pygments_lexer": "ipython3",
   "version": "3.9.13"
  },
  "orig_nbformat": 4,
  "vscode": {
   "interpreter": {
    "hash": "3d5db532c048f37cc8487068e8e1c41ac5ce63d1b52e8a8c32ff882c22c4c18a"
   }
  }
 },
 "nbformat": 4,
 "nbformat_minor": 2
}
