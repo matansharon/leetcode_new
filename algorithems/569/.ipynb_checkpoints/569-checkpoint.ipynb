{
 "cells": [
  {
   "cell_type": "code",
   "execution_count": 54,
   "id": "3eeba713",
   "metadata": {},
   "outputs": [],
   "source": [
    "from random import randint,choice\n",
    "def gen_data():\n",
    "    res=[]\n",
    "    cols=[\"id-int\",\"company-enum\",\"salary\"]\n",
    "    companies=[\"A\",\"B\",\"C\",\"D\",\"E\",\"F\",\"G\",\"H\"]\n",
    "    saleries=range(10,1000)\n",
    "    for i in range(100):\n",
    "        row=str(i)+\",\"+choice(companies)+\",\"+str(choice(saleries))\n",
    "        res.append(row)\n",
    "    return res\n",
    "    "
   ]
  },
  {
   "cell_type": "code",
   "execution_count": 55,
   "id": "e0649b23",
   "metadata": {},
   "outputs": [],
   "source": [
    "class Employee:\n",
    "    def __init__(self,_id,comp,salary):\n",
    "        self.id=_id\n",
    "        self.company=comp\n",
    "        self.salary=salary\n",
    "    def toString(self):\n",
    "        return str(self.id)+\",\"+self.company+\",\"+str(self.salary)"
   ]
  },
  {
   "cell_type": "code",
   "execution_count": 56,
   "id": "90ea07d5",
   "metadata": {},
   "outputs": [],
   "source": [
    "data=gen_data()\n",
    "\n"
   ]
  },
  {
   "cell_type": "code",
   "execution_count": 57,
   "id": "2a69f902",
   "metadata": {},
   "outputs": [],
   "source": [
    "dic={}\n",
    "\n",
    "for row in data:\n",
    "    list_row=row.split(\",\")\n",
    "    temp_emp=Employee(list_row[0],list_row[1],int(list_row[2]))\n",
    "    if temp_emp.company not in dic:\n",
    "        dic[temp_emp.company]=[temp_emp]\n",
    "    else:\n",
    "        dic[temp_emp.company].append(temp_emp)\n",
    "for i in dic:\n",
    "    dic[i].sort(key= lambda x:x.salary ,reverse=True)\n",
    "\n",
    "    "
   ]
  },
  {
   "cell_type": "code",
   "execution_count": 58,
   "id": "01fd733d",
   "metadata": {},
   "outputs": [
    {
     "name": "stdout",
     "output_type": "stream",
     "text": [
      "6\n",
      "14,E,732\n",
      "3,E,729\n",
      "40,E,690\n",
      "78,E,580\n",
      "10,E,569\n",
      "84,E,529\n",
      "--------------------------------------------------\n",
      "98,G,642\n",
      "38,G,693\n",
      "1,A,425\n",
      "60,A,676\n",
      "2,H,613\n",
      "78,E,580\n",
      "40,E,690\n",
      "81,B,470\n",
      "18,B,585\n",
      "97,C,485\n",
      "32,C,542\n",
      "92,D,548\n",
      "21,D,565\n",
      "17,F,168\n"
     ]
    }
   ],
   "source": [
    "from math import ceil\n",
    "res=[]\n",
    "\n",
    "for l in dic:\n",
    "    temp=dic[l]\n",
    "    index=len(temp)/2\n",
    "    if len(temp)%2==0:\n",
    "        res.append(temp[int(index)])\n",
    "        res.append(temp[int(index-1)])\n",
    "        \n",
    "    else:\n",
    "        res.append(temp[ceil(index)])\n",
    "let=\"E\"\n",
    "print(len(dic[let]))\n",
    "for i in dic[let]:\n",
    "    print(i.toString())\n",
    "print(\"-\"*50)\n",
    "for i in res:\n",
    "    print(i.toString())"
   ]
  }
 ],
 "metadata": {
  "kernelspec": {
   "display_name": "Python 3 (ipykernel)",
   "language": "python",
   "name": "python3"
  },
  "language_info": {
   "codemirror_mode": {
    "name": "ipython",
    "version": 3
   },
   "file_extension": ".py",
   "mimetype": "text/x-python",
   "name": "python",
   "nbconvert_exporter": "python",
   "pygments_lexer": "ipython3",
   "version": "3.9.12"
  }
 },
 "nbformat": 4,
 "nbformat_minor": 5
}
