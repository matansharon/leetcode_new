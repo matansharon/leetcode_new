{
 "cells": [
  {
   "cell_type": "code",
   "execution_count": null,
   "id": "2a46f641",
   "metadata": {},
   "outputs": [],
   "source": [
    "from random import randint,choice\n",
    "def gen_data(num_of_rows):\n",
    "    res=[]\n",
    "    for i in range(num_of_rows):\n",
    "        "
   ]
  },
  {
   "cell_type": "code",
   "execution_count": null,
   "id": "6c66181b",
   "metadata": {},
   "outputs": [],
   "source": [
    "def gen_date(year=None):\n",
    "    years=range(2000,2022)\n",
    "    monthes=range(1,13)\n",
    "    days=range(1,32)\n",
    "    res=\"\"\n",
    "    if year!=None:\n",
    "        res+=str(year)\n",
    "    else:\n",
    "        res+=str(choice(years))\n",
    "    res+=\"-\"+chice(monthes)+\"-\"choice(days)\n",
    "    "
   ]
  }
 ],
 "metadata": {
  "kernelspec": {
   "display_name": "Python 3 (ipykernel)",
   "language": "python",
   "name": "python3"
  },
  "language_info": {
   "codemirror_mode": {
    "name": "ipython",
    "version": 3
   },
   "file_extension": ".py",
   "mimetype": "text/x-python",
   "name": "python",
   "nbconvert_exporter": "python",
   "pygments_lexer": "ipython3",
   "version": "3.9.12"
  }
 },
 "nbformat": 4,
 "nbformat_minor": 5
}
