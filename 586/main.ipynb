{
 "cells": [
  {
   "cell_type": "code",
   "execution_count": 2,
   "metadata": {},
   "outputs": [
    {
     "name": "stdout",
     "output_type": "stream",
     "text": [
      "    order_number  customer_number\n",
      "0           1001              544\n",
      "1           1002              547\n",
      "2           1003              564\n",
      "3           1004              567\n",
      "4           1005              567\n",
      "..           ...              ...\n",
      "95          1096              523\n",
      "96          1097              579\n",
      "97          1098              513\n",
      "98          1099              585\n",
      "99          1100              548\n",
      "\n",
      "[100 rows x 2 columns]\n"
     ]
    }
   ],
   "source": [
    "import pandas as pd\n",
    "import numpy as np\n",
    "\n",
    "# Set a seed for reproducibility\n",
    "np.random.seed(0)\n",
    "\n",
    "# Create a DataFrame with 100 fake orders\n",
    "df_orders = pd.DataFrame({\n",
    "    'order_number': np.arange(1001, 1101),  # Order numbers from 1001 to 1100\n",
    "    'customer_number': np.random.randint(500, 600, size=100)  # Random customer numbers between 500 and 599\n",
    "})\n",
    "\n",
    "print(df_orders)\n"
   ]
  },
  {
   "cell_type": "code",
   "execution_count": 11,
   "metadata": {},
   "outputs": [
    {
     "data": {
      "text/html": [
       "<div>\n",
       "<style scoped>\n",
       "    .dataframe tbody tr th:only-of-type {\n",
       "        vertical-align: middle;\n",
       "    }\n",
       "\n",
       "    .dataframe tbody tr th {\n",
       "        vertical-align: top;\n",
       "    }\n",
       "\n",
       "    .dataframe thead th {\n",
       "        text-align: right;\n",
       "    }\n",
       "</style>\n",
       "<table border=\"1\" class=\"dataframe\">\n",
       "  <thead>\n",
       "    <tr style=\"text-align: right;\">\n",
       "      <th></th>\n",
       "      <th>customer_number</th>\n",
       "    </tr>\n",
       "  </thead>\n",
       "  <tbody>\n",
       "    <tr>\n",
       "      <th>0</th>\n",
       "      <td>588</td>\n",
       "    </tr>\n",
       "  </tbody>\n",
       "</table>\n",
       "</div>"
      ],
      "text/plain": [
       "   customer_number\n",
       "0              588"
      ]
     },
     "execution_count": 11,
     "metadata": {},
     "output_type": "execute_result"
    }
   ],
   "source": [
    "def largest_orders(orders: pd.DataFrame) -> pd.DataFrame:\n",
    "    if len(orders)==0:\n",
    "        return pd.DataFrame({'customer_number':[]})\n",
    "    res={}\n",
    "    for i,row in orders.iterrows():\n",
    "        if row['customer_number'] not in res:\n",
    "            res[row['customer_number']]=1\n",
    "        else:\n",
    "            res[row['customer_number']]+=1\n",
    "    max={'customer_number':0,'order_number':0}\n",
    "    for k,v in res.items():\n",
    "        if v>max['order_number']:\n",
    "            max['customer_number']=k\n",
    "            max['order_number']=v\n",
    "    res={'customer_number':max['customer_number']}\n",
    "    return pd.DataFrame(res,index=[0])\n",
    "    \n",
    "    \n",
    "largest_orders(df_orders)"
   ]
  },
  {
   "cell_type": "code",
   "execution_count": null,
   "metadata": {},
   "outputs": [],
   "source": [
    "import pandas as pd\n",
    "\n",
    "def largest_orders(orders: pd.DataFrame) -> pd.DataFrame:\n",
    "    # If orders is empty, return an empty DataFrame.\n",
    "    if orders.empty:\n",
    "        return pd.DataFrame({'customer_number': []})\n",
    "\n",
    "    df = orders.groupby('customer_number').size().reset_index(name='count')\n",
    "    df.sort_values(by='count', ascending = False, inplace=True)\n",
    "    return df[['customer_number']][0:1]"
   ]
  },
  {
   "cell_type": "code",
   "execution_count": 1,
   "metadata": {},
   "outputs": [
    {
     "name": "stdout",
     "output_type": "stream",
     "text": [
      "   player_id  device_id  event_date  games_played\n",
      "0          1          2  2016-03-01             5\n",
      "1          1          2  2016-05-02             6\n",
      "2          1          3  2017-06-25             1\n",
      "3          3          1  2016-03-02             0\n",
      "4          3          4  2018-07-03             5\n"
     ]
    }
   ],
   "source": [
    "import pandas as pd\n",
    "\n",
    "# Data for the table\n",
    "data = {\n",
    "    'player_id': [1, 1, 1, 3, 3],\n",
    "    'device_id': [2, 2, 3, 1, 4],\n",
    "    'event_date': ['2016-03-01', '2016-05-02', '2017-06-25', '2016-03-02', '2018-07-03'],\n",
    "    'games_played': [5, 6, 1, 0, 5]\n",
    "}\n",
    "\n",
    "# Create the DataFrame\n",
    "activity_table = pd.DataFrame(data)\n",
    "\n",
    "# Display the DataFrame\n",
    "print(activity_table)\n"
   ]
  }
 ],
 "metadata": {
  "kernelspec": {
   "display_name": "leetcode_env",
   "language": "python",
   "name": "python3"
  },
  "language_info": {
   "codemirror_mode": {
    "name": "ipython",
    "version": 3
   },
   "file_extension": ".py",
   "mimetype": "text/x-python",
   "name": "python",
   "nbconvert_exporter": "python",
   "pygments_lexer": "ipython3",
   "version": "3.10.11"
  }
 },
 "nbformat": 4,
 "nbformat_minor": 2
}
