{
 "cells": [
  {
   "cell_type": "code",
   "execution_count": 34,
   "id": "9c00768b",
   "metadata": {},
   "outputs": [
    {
     "name": "stdout",
     "output_type": "stream",
     "text": [
      "107.3835154546485 1.3811152759003784\n"
     ]
    }
   ],
   "source": [
    "from math import dist\n",
    "from random import random,randint\n",
    "big=0.0\n",
    "small=float('inf')\n",
    "\n",
    "for i in range(1000):\n",
    "    p=[random()*randint(1,100),random()*randint(1,100)]\n",
    "    q=[random()*randint(1,100),random()*randint(1,100)]\n",
    "    temp=dist(p,q)\n",
    "    if temp>big:\n",
    "        big=temp\n",
    "    if temp<small:\n",
    "        small=temp\n",
    "print(big,small)"
   ]
  },
  {
   "cell_type": "code",
   "execution_count": 27,
   "id": "c29c825e",
   "metadata": {},
   "outputs": [],
   "source": [
    "from random import randint\n",
    "import pandas as pd\n",
    "_ids=[]\n",
    "month=[]\n",
    "salaries=[]\n",
    "res={}\n",
    "for i in range(100):\n",
    "    _ids.append(randint(1,10))\n",
    "    month.append(randint(1,12))\n",
    "    salaries.append(randint(1,100))\n",
    "keys=[\"ids\",\"monthes\",\"salaries\"]\n",
    "values=[_ids,month,salaries]\n",
    "res={}\n",
    "for i in range(len(keys)):\n",
    "    res[keys[i]]=values[i]\n",
    "out=pd.DataFrame(res)\n"
   ]
  },
  {
   "cell_type": "code",
   "execution_count": 35,
   "id": "af7250e9",
   "metadata": {},
   "outputs": [
    {
     "name": "stdout",
     "output_type": "stream",
     "text": [
      "ids\n"
     ]
    }
   ],
   "source": [
    "\n",
    "    "
   ]
  }
 ],
 "metadata": {
  "kernelspec": {
   "display_name": "Python 3 (ipykernel)",
   "language": "python",
   "name": "python3"
  },
  "language_info": {
   "codemirror_mode": {
    "name": "ipython",
    "version": 3
   },
   "file_extension": ".py",
   "mimetype": "text/x-python",
   "name": "python",
   "nbconvert_exporter": "python",
   "pygments_lexer": "ipython3",
   "version": "3.9.12"
  }
 },
 "nbformat": 4,
 "nbformat_minor": 5
}
