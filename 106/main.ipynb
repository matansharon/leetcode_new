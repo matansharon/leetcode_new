{
 "cells": [
  {
   "attachments": {},
   "cell_type": "markdown",
   "metadata": {},
   "source": [
    "Given two integer arrays inorder and postorder where inorder is the inorder traversal of a binary tree and postorder is the postorder traversal of the same tree, construct and return the binary tree.\n",
    "\n",
    " \n",
    "\n",
    "Example 1:\n",
    "\n",
    "\n",
    "Input: inorder = [9,3,15,20,7], postorder = [9,15,7,20,3]\n",
    "Output: [3,9,20,null,null,15,7]\n",
    "Example 2:\n",
    "\n",
    "Input: inorder = [-1], postorder = [-1]\n",
    "Output: [-1]\n",
    " \n",
    "\n",
    "Constraints:\n",
    "\n",
    "1 <= inorder.length <= 3000\n",
    "postorder.length == inorder.length\n",
    "-3000 <= inorder[i], postorder[i] <= 3000\n",
    "inorder and postorder consist of unique values.\n",
    "Each value of postorder also appears in inorder.\n",
    "inorder is guaranteed to be the inorder traversal of the tree.\n",
    "postorder is guaranteed to be the postorder traversal of the tree."
   ]
  },
  {
   "cell_type": "code",
   "execution_count": 16,
   "metadata": {},
   "outputs": [
    {
     "name": "stdout",
     "output_type": "stream",
     "text": [
      "55\n",
      "64\n",
      "81\n",
      "16\n",
      "48\n",
      "86\n",
      "39\n",
      "90\n",
      "42\n",
      "100\n",
      "30\n"
     ]
    }
   ],
   "source": [
    "import random\n",
    "class TreeNode(object):\n",
    "    def __init__(self, val=0, left=None, right=None):\n",
    "        self.value = val\n",
    "        self.left = left\n",
    "        self.right = right\n",
    "\n",
    "def generate_random_tree(number_of_nodes):\n",
    "\n",
    "    head=TreeNode(random.randint(0, 100))\n",
    "    for i in range(number_of_nodes):\n",
    "        son=TreeNode(random.randint(0, 100))\n",
    "        insert_randomly(head,son)\n",
    "    return head\n",
    "def insert_randomly(father,node):\n",
    "    chance=random.randint(0,1)\n",
    "    if chance==0:\n",
    "        if father.left is None:\n",
    "            father.left=node\n",
    "        else:\n",
    "            insert_randomly(father.left,node)\n",
    "    else:\n",
    "        if father.right is None:\n",
    "            father.right=node\n",
    "        else:\n",
    "            insert_randomly(father.right,node)\n",
    "def print_tree(node):\n",
    "    if node is not None:\n",
    "        print(node.value)\n",
    "        print_tree(node.left)\n",
    "        print_tree(node.right)\n",
    "        \n",
    "if __name__ == '__main__':\n",
    "    head=generate_random_tree(10)\n",
    "    print_tree(head)"
   ]
  },
  {
   "cell_type": "code",
   "execution_count": 4,
   "metadata": {},
   "outputs": [],
   "source": [
    "# Definition for a binary tree node.\n",
    "\n",
    "class Solution(object):\n",
    "    def buildTree(self, inorder, postorder):\n",
    "        \"\"\"\n",
    "        :type inorder: List[int]\n",
    "        :type postorder: List[int]\n",
    "        :rtype: TreeNode\n",
    "        \"\"\"\n",
    "        if len(inorder) == 0:\n",
    "            return None\n",
    "        root = TreeNode(postorder[-1])\n",
    "        root_index = inorder.index(postorder[-1])\n",
    "        root.left = self.buildTree(inorder[:root_index], postorder[:root_index])\n",
    "        root.right = self.buildTree(inorder[root_index+1:], postorder[root_index:-1])\n",
    "        return root"
   ]
  },
  {
   "cell_type": "code",
   "execution_count": 15,
   "metadata": {},
   "outputs": [],
   "source": [
    "root=generate_random_tree(10)\n"
   ]
  }
 ],
 "metadata": {
  "kernelspec": {
   "display_name": "base",
   "language": "python",
   "name": "python3"
  },
  "language_info": {
   "codemirror_mode": {
    "name": "ipython",
    "version": 3
   },
   "file_extension": ".py",
   "mimetype": "text/x-python",
   "name": "python",
   "nbconvert_exporter": "python",
   "pygments_lexer": "ipython3",
   "version": "3.9.13"
  },
  "orig_nbformat": 4
 },
 "nbformat": 4,
 "nbformat_minor": 2
}
