{
 "cells": [
  {
   "cell_type": "code",
   "execution_count": 28,
   "id": "572acc3c",
   "metadata": {},
   "outputs": [],
   "source": [
    "emp={}\n",
    "\n",
    "with open(r'Employee_202211130858.csv','r') as file:\n",
    "    for i in file:\n",
    "        row=i.split(',')\n",
    "        row[-1]=row[-1][:-1]\n",
    "        temp=[row[0],row[2]]\n",
    "        emp[temp[0]]=temp[1]\n"
   ]
  },
  {
   "cell_type": "code",
   "execution_count": 29,
   "id": "c0517f49",
   "metadata": {},
   "outputs": [
    {
     "name": "stdout",
     "output_type": "stream",
     "text": [
      "{'\"employee_id\"': '\"experience_years\"', '1': '3', '2': '2', '3': '1', '4': '2'}\n"
     ]
    }
   ],
   "source": [
    "print(emp)"
   ]
  },
  {
   "cell_type": "code",
   "execution_count": 20,
   "id": "989bdd75",
   "metadata": {},
   "outputs": [],
   "source": [
    "pro_dic={}\n",
    "with open(r'Project_202211130858.csv','r') as file:\n",
    "    for i in file:\n",
    "        row=i.split(',')\n",
    "        row[-1]=row[-1][:-1]\n",
    "        if row[0] in pro_dic:\n",
    "            pro_dic[row[0]].add(row[1])\n",
    "        else:\n",
    "            pro_dic[row[0]]=set()\n",
    "            pro_dic[row[0]].add(row[1])"
   ]
  },
  {
   "cell_type": "code",
   "execution_count": 30,
   "id": "1c00cebe",
   "metadata": {},
   "outputs": [
    {
     "name": "stdout",
     "output_type": "stream",
     "text": [
      "{'\"project_id\"': {'\"employee_id\"'}, '1': {'2', '3', '1'}, '2': {'4', '1'}}\n"
     ]
    }
   ],
   "source": [
    "print(pro_dic)"
   ]
  },
  {
   "cell_type": "code",
   "execution_count": 36,
   "id": "84a97e28",
   "metadata": {},
   "outputs": [
    {
     "name": "stdout",
     "output_type": "stream",
     "text": [
      "value error\n",
      "divided by zero not allowed\n",
      "[2.0, 2.5]\n"
     ]
    }
   ],
   "source": [
    "res=[]\n",
    "for i in pro_dic:\n",
    "    l=[]\n",
    "    for j in pro_dic[i]:\n",
    "        try:\n",
    "            l.append(int(emp[j]))\n",
    "        except:\n",
    "            print(\"value error\")\n",
    "    try:\n",
    "        res.append(sum(l)/len(l))\n",
    "    except:\n",
    "        print(\"divided by zero not allowed\")\n",
    "\n",
    "print (res)        "
   ]
  },
  {
   "cell_type": "code",
   "execution_count": 5,
   "id": "d2d76373",
   "metadata": {},
   "outputs": [
    {
     "name": "stdout",
     "output_type": "stream",
     "text": [
      "100\n",
      "10.0\n",
      "1.0\n",
      "0.1\n",
      "0.01\n",
      "0.001\n",
      "0.0001\n",
      "1e-05\n",
      "1.0000000000000002e-06\n",
      "1.0000000000000002e-07\n"
     ]
    }
   ],
   "source": [
    "temp=100\n",
    "for i in range(10):\n",
    "    print(temp)\n",
    "    temp=temp/10"
   ]
  },
  {
   "cell_type": "code",
   "execution_count": 17,
   "id": "0d481bf3",
   "metadata": {},
   "outputs": [
    {
     "ename": "FileNotFoundError",
     "evalue": "[Errno 2] No such file or directory: 'd1.txt'",
     "output_type": "error",
     "traceback": [
      "\u001b[0;31m---------------------------------------------------------------------------\u001b[0m",
      "\u001b[0;31mFileNotFoundError\u001b[0m                         Traceback (most recent call last)",
      "Cell \u001b[0;32mIn [17], line 1\u001b[0m\n\u001b[0;32m----> 1\u001b[0m \u001b[38;5;28;01mwith\u001b[39;00m \u001b[38;5;28;43mopen\u001b[39;49m\u001b[43m(\u001b[49m\u001b[38;5;124;43m\"\u001b[39;49m\u001b[38;5;124;43md1.txt\u001b[39;49m\u001b[38;5;124;43m\"\u001b[39;49m\u001b[43m,\u001b[49m\u001b[38;5;124;43m\"\u001b[39;49m\u001b[38;5;124;43mr\u001b[39;49m\u001b[38;5;124;43m\"\u001b[39;49m\u001b[43m)\u001b[49m\u001b[38;5;28;01mas\u001b[39;00m file:\n\u001b[1;32m      2\u001b[0m     \u001b[38;5;28;01mfor\u001b[39;00m i \u001b[38;5;129;01min\u001b[39;00m file:\n\u001b[1;32m      3\u001b[0m         \u001b[38;5;28mprint\u001b[39m(i)\n",
      "File \u001b[0;32m~/opt/anaconda3/lib/python3.9/site-packages/IPython/core/interactiveshell.py:282\u001b[0m, in \u001b[0;36m_modified_open\u001b[0;34m(file, *args, **kwargs)\u001b[0m\n\u001b[1;32m    275\u001b[0m \u001b[38;5;28;01mif\u001b[39;00m file \u001b[38;5;129;01min\u001b[39;00m {\u001b[38;5;241m0\u001b[39m, \u001b[38;5;241m1\u001b[39m, \u001b[38;5;241m2\u001b[39m}:\n\u001b[1;32m    276\u001b[0m     \u001b[38;5;28;01mraise\u001b[39;00m \u001b[38;5;167;01mValueError\u001b[39;00m(\n\u001b[1;32m    277\u001b[0m         \u001b[38;5;124mf\u001b[39m\u001b[38;5;124m\"\u001b[39m\u001b[38;5;124mIPython won\u001b[39m\u001b[38;5;124m'\u001b[39m\u001b[38;5;124mt let you open fd=\u001b[39m\u001b[38;5;132;01m{\u001b[39;00mfile\u001b[38;5;132;01m}\u001b[39;00m\u001b[38;5;124m by default \u001b[39m\u001b[38;5;124m\"\u001b[39m\n\u001b[1;32m    278\u001b[0m         \u001b[38;5;124m\"\u001b[39m\u001b[38;5;124mas it is likely to crash IPython. If you know what you are doing, \u001b[39m\u001b[38;5;124m\"\u001b[39m\n\u001b[1;32m    279\u001b[0m         \u001b[38;5;124m\"\u001b[39m\u001b[38;5;124myou can use builtins\u001b[39m\u001b[38;5;124m'\u001b[39m\u001b[38;5;124m open.\u001b[39m\u001b[38;5;124m\"\u001b[39m\n\u001b[1;32m    280\u001b[0m     )\n\u001b[0;32m--> 282\u001b[0m \u001b[38;5;28;01mreturn\u001b[39;00m \u001b[43mio_open\u001b[49m\u001b[43m(\u001b[49m\u001b[43mfile\u001b[49m\u001b[43m,\u001b[49m\u001b[43m \u001b[49m\u001b[38;5;241;43m*\u001b[39;49m\u001b[43margs\u001b[49m\u001b[43m,\u001b[49m\u001b[43m \u001b[49m\u001b[38;5;241;43m*\u001b[39;49m\u001b[38;5;241;43m*\u001b[39;49m\u001b[43mkwargs\u001b[49m\u001b[43m)\u001b[49m\n",
      "\u001b[0;31mFileNotFoundError\u001b[0m: [Errno 2] No such file or directory: 'd1.txt'"
     ]
    }
   ],
   "source": [
    "with open(\"d1.txt\",\"r\")as file:\n",
    "    for i in file:\n",
    "        print(i)"
   ]
  },
  {
   "cell_type": "code",
   "execution_count": 11,
   "id": "44f1cdb5",
   "metadata": {},
   "outputs": [],
   "source": []
  }
 ],
 "metadata": {
  "kernelspec": {
   "display_name": "Python 3 (ipykernel)",
   "language": "python",
   "name": "python3"
  },
  "language_info": {
   "codemirror_mode": {
    "name": "ipython",
    "version": 3
   },
   "file_extension": ".py",
   "mimetype": "text/x-python",
   "name": "python",
   "nbconvert_exporter": "python",
   "pygments_lexer": "ipython3",
   "version": "3.9.12"
  }
 },
 "nbformat": 4,
 "nbformat_minor": 5
}
