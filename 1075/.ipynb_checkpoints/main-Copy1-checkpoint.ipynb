{
 "cells": [
  {
   "cell_type": "code",
   "execution_count": 6,
   "id": "26f4dca1",
   "metadata": {},
   "outputs": [],
   "source": [
    "emp=[]\n",
    "\n",
    "with open(r'Employee_202211130858.csv','r') as file:\n",
    "    for i in file:\n",
    "        row=i.split(',')\n",
    "        row[-1]=row[-1][:-1]\n",
    "        temp=[row[0],row[2]]\n",
    "        emp.append(temp)\n",
    "emp=emp[1:]"
   ]
  },
  {
   "cell_type": "code",
   "execution_count": 7,
   "id": "c4e93c14",
   "metadata": {},
   "outputs": [
    {
     "name": "stdout",
     "output_type": "stream",
     "text": [
      "[['1', '3'], ['2', '2'], ['3', '1'], ['4', '2']]\n"
     ]
    }
   ],
   "source": [
    "print(emp)"
   ]
  },
  {
   "cell_type": "code",
   "execution_count": null,
   "id": "aa03198a",
   "metadata": {},
   "outputs": [],
   "source": []
  }
 ],
 "metadata": {
  "kernelspec": {
   "display_name": "Python 3 (ipykernel)",
   "language": "python",
   "name": "python3"
  },
  "language_info": {
   "codemirror_mode": {
    "name": "ipython",
    "version": 3
   },
   "file_extension": ".py",
   "mimetype": "text/x-python",
   "name": "python",
   "nbconvert_exporter": "python",
   "pygments_lexer": "ipython3",
   "version": "3.9.12"
  }
 },
 "nbformat": 4,
 "nbformat_minor": 5
}
