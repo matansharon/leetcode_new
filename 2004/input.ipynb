{
 "cells": [
  {
   "cell_type": "code",
   "execution_count": 7,
   "id": "257d9996",
   "metadata": {},
   "outputs": [],
   "source": [
    "from random import randint,choice,random\n",
    "from datetime import datetime, timedelta\n",
    "import pandas as pd\n",
    "\n",
    "def gen_datetime(min_year=1900, max_year=datetime.now().year):\n",
    "    \n",
    "    start = datetime(min_year, 1, 1, 0, 0, 0)\n",
    "    years = max_year - min_year + 1\n",
    "    end = start + timedelta(days=365 * years)\n",
    "    return start + (end - start) * random()\n",
    "def convert_str_to_datetime(s):\n",
    "    temp=s\n",
    "    s1=[]\n",
    "    if s[-1]==\"\\n\":\n",
    "        temp=s[:-1]\n",
    "    temp=temp.split(\"-\")\n",
    "    try:\n",
    "        return datetime(temp[0],temp[1],temp[2])\n",
    "    except:\n",
    "        return None"
   ]
  },
  {
   "cell_type": "code",
   "execution_count": 8,
   "id": "e76c1a99",
   "metadata": {},
   "outputs": [],
   "source": [
    "num_of_emp=100\n",
    "exp=[\"Senior\",\"Junior\"]\n",
    "sen_salary=range(10000,100000)\n",
    "jun_sal=range(1000,10000)\n",
    "ids=[]\n",
    "exp_list=[]\n",
    "salaries=[]\n",
    "cols=[\"employee_id\",\"experience\",\"salary\"]\n",
    "values=[ids,exp_list,salaries]\n",
    "for i in range(num_of_emp):\n",
    "    ids.append(i)\n",
    "    exp_list.append(choice(exp))\n",
    "    if exp_list[-1]==\"Senior\":\n",
    "        salaries.append(choice(sen_salary))\n",
    "    else:\n",
    "        salaries.append(choice(jun_sal))\n",
    "res={}\n",
    "for i in range(len(cols)):\n",
    "    res[cols[i]]=values[i]\n",
    "res=pd.DataFrame(res)\n",
    "res.to_csv(\"Candidates.csv\")"
   ]
  }
 ],
 "metadata": {
  "kernelspec": {
   "display_name": "Python 3 (ipykernel)",
   "language": "python",
   "name": "python3"
  },
  "language_info": {
   "codemirror_mode": {
    "name": "ipython",
    "version": 3
   },
   "file_extension": ".py",
   "mimetype": "text/x-python",
   "name": "python",
   "nbconvert_exporter": "python",
   "pygments_lexer": "ipython3",
   "version": "3.9.12"
  }
 },
 "nbformat": 4,
 "nbformat_minor": 5
}
