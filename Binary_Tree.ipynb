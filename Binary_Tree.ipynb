{
 "cells": [
  {
   "cell_type": "code",
   "execution_count": 1,
   "metadata": {},
   "outputs": [],
   "source": [
    "import random\n",
    "from random import randint"
   ]
  },
  {
   "cell_type": "code",
   "execution_count": 2,
   "metadata": {},
   "outputs": [],
   "source": [
    "class TreeNode(object):\n",
    "    def __init__(self, val=0, left=None, right=None):\n",
    "        self.val = val\n",
    "        self.left = left\n",
    "        self.right = right"
   ]
  },
  {
   "cell_type": "code",
   "execution_count": 3,
   "metadata": {},
   "outputs": [],
   "source": [
    "def insert_node_BST(father,son):\n",
    "    if father.left is None and father.right is None:\n",
    "        if son.val < father.val:\n",
    "            father.left = son\n",
    "        else:\n",
    "            father.right = son\n",
    "    else:\n",
    "        if son.val < father.val and father.left is not None:\n",
    "            insert_node_BST(father.left,son)\n",
    "        elif son.val < father.val and father.left is None:\n",
    "            father.left = son\n",
    "        elif son.val > father.val and father.right is not None:\n",
    "            insert_node_BST(father.right,son)\n",
    "        elif son.val > father.val and father.right is None:\n",
    "            father.right = son"
   ]
  },
  {
   "cell_type": "code",
   "execution_count": null,
   "metadata": {},
   "outputs": [],
   "source": [
    "def insert_randomly(father,node):\n",
    "    "
   ]
  },
  {
   "cell_type": "code",
   "execution_count": 4,
   "metadata": {},
   "outputs": [],
   "source": [
    "#create a function to print the tree in order\n",
    "def print_tree(node, ):\n",
    "    if node is None :\n",
    "        return\n",
    "    print_tree(node.left)\n",
    "    print(node.val)\n",
    "    print_tree(node.right)\n",
    "    "
   ]
  },
  {
   "cell_type": "code",
   "execution_count": 7,
   "metadata": {},
   "outputs": [],
   "source": [
    "head=TreeNode(random.randint(0, 100))\n",
    "for i in range(100):\n",
    "    son=TreeNode(random.randint(0, 100))\n",
    "    insert_node_BST(head,son)\n"
   ]
  }
 ],
 "metadata": {
  "kernelspec": {
   "display_name": "base",
   "language": "python",
   "name": "python3"
  },
  "language_info": {
   "codemirror_mode": {
    "name": "ipython",
    "version": 3
   },
   "file_extension": ".py",
   "mimetype": "text/x-python",
   "name": "python",
   "nbconvert_exporter": "python",
   "pygments_lexer": "ipython3",
   "version": "3.9.13"
  },
  "orig_nbformat": 4,
  "vscode": {
   "interpreter": {
    "hash": "3d5db532c048f37cc8487068e8e1c41ac5ce63d1b52e8a8c32ff882c22c4c18a"
   }
  }
 },
 "nbformat": 4,
 "nbformat_minor": 2
}
