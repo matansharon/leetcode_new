{
 "cells": [
  {
   "cell_type": "code",
   "execution_count": 36,
   "metadata": {},
   "outputs": [],
   "source": [
    "import random\n",
    "from random import randint\n",
    "class TreeNode(object):\n",
    "    def __init__(self, val=0, left=None, right=None):\n",
    "        self.val = val\n",
    "        self.left = left\n",
    "        self.right = right\n",
    "\n",
    "\n",
    "def print_tree_inorder(node):\n",
    "    if node is None :\n",
    "        return\n",
    "    print_tree_inorder(node.left)\n",
    "    print(node.val,end=',')\n",
    "    print_tree_inorder(node.right)\n",
    "\n",
    "\n",
    "def insert_randomly(father,node):\n",
    "    chance=random.randint(0,1)\n",
    "    if chance==0:\n",
    "        if father.left is None:\n",
    "            father.left=node\n",
    "        else:\n",
    "            insert_randomly(father.left,node)\n",
    "    else:\n",
    "        if father.right is None:\n",
    "            father.right=node\n",
    "        else:\n",
    "            insert_randomly(father.right,node)\n",
    "\n",
    "\n",
    "def insert_node_BST(father,son):\n",
    "    if father.left is None and father.right is None:\n",
    "        if son.val < father.val:\n",
    "            father.left = son\n",
    "        else:\n",
    "            father.right = son\n",
    "    else:\n",
    "        if son.val < father.val and father.left is not None:\n",
    "            insert_node_BST(father.left,son)\n",
    "        elif son.val < father.val and father.left is None:\n",
    "            father.left = son\n",
    "        elif son.val > father.val and father.right is not None:\n",
    "            insert_node_BST(father.right,son)\n",
    "        elif son.val > father.val and father.right is None:\n",
    "            father.right = son\n",
    "\n",
    "def generate_random_tree(number_of_nodes):\n",
    "    head=TreeNode(random.randint(0, 100))\n",
    "    for i in range(number_of_nodes):\n",
    "        son=TreeNode(random.randint(0, 100))\n",
    "        insert_randomly(head,son)\n",
    "    return head\n",
    "\n",
    "\n",
    "def generate_BST(number_of_nodes):\n",
    "    head=TreeNode(random.randint(0, 100))\n",
    "    for i in range(number_of_nodes):\n",
    "        son=TreeNode(random.randint(0, 100))\n",
    "        insert_node_BST(head,son)\n",
    "    return head\n",
    "\n",
    "\n",
    "def convert_tree_to_list(list,node):\n",
    "    if node is None:\n",
    "        return\n",
    "    convert_tree_to_list(list,node.left)\n",
    "    list.append(node.val)\n",
    "    convert_tree_to_list(list,node.right)\n",
    "    \n",
    "def arrayToBST(arr, root):\n",
    " \n",
    "    # Base Case\n",
    "    if root is None:\n",
    "        return\n",
    "     \n",
    "    # First update the left subtree\n",
    "    arrayToBST(arr, root.left)\n",
    " \n",
    "    # now update root's data delete the value from array\n",
    "    try:\n",
    "        root.data = arr[0]\n",
    "        arr.pop(0)\n",
    "    except:\n",
    "        pass\n",
    " \n",
    "    # Finally update the right subtree\n",
    "    arrayToBST(arr, root.right)"
   ]
  },
  {
   "cell_type": "code",
   "execution_count": 14,
   "metadata": {},
   "outputs": [],
   "source": [
    "\n"
   ]
  },
  {
   "cell_type": "code",
   "execution_count": 26,
   "metadata": {},
   "outputs": [
    {
     "name": "stdout",
     "output_type": "stream",
     "text": [
      "42\n",
      "[3, 5, 6, 12, 27, 28, 30, 32, 33, 41, 42, 48, 49, 52, 65, 67, 67, 75, 77, 83, 92]\n"
     ]
    }
   ],
   "source": [
    "root=generate_random_tree(20)\n",
    "l=[]\n",
    "convert_tree_to_list(l,root)\n",
    "l.sort()\n",
    "print(l)"
   ]
  },
  {
   "cell_type": "code",
   "execution_count": 31,
   "metadata": {},
   "outputs": [],
   "source": []
  },
  {
   "cell_type": "code",
   "execution_count": 37,
   "metadata": {},
   "outputs": [
    {
     "name": "stdout",
     "output_type": "stream",
     "text": [
      "52,12,67,65,49,41,48,3,28,67,75,27,5,42,32,83,92,33,6,30,77,"
     ]
    }
   ],
   "source": [
    "bst=arrayToBST(l,root)\n",
    "print_tree_inorder(root)"
   ]
  }
 ],
 "metadata": {
  "kernelspec": {
   "display_name": "base",
   "language": "python",
   "name": "python3"
  },
  "language_info": {
   "codemirror_mode": {
    "name": "ipython",
    "version": 3
   },
   "file_extension": ".py",
   "mimetype": "text/x-python",
   "name": "python",
   "nbconvert_exporter": "python",
   "pygments_lexer": "ipython3",
   "version": "3.9.13"
  },
  "orig_nbformat": 4,
  "vscode": {
   "interpreter": {
    "hash": "3d5db532c048f37cc8487068e8e1c41ac5ce63d1b52e8a8c32ff882c22c4c18a"
   }
  }
 },
 "nbformat": 4,
 "nbformat_minor": 2
}
