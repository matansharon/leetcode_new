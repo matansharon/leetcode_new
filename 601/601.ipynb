{
 "cells": [
  {
   "cell_type": "code",
   "execution_count": 42,
   "id": "bf31d20f",
   "metadata": {},
   "outputs": [],
   "source": [
    "from random import randint,choice\n",
    "def gen_data(num_of_rows):\n",
    "    res=[]\n",
    "    for i in range(num_of_rows):\n",
    "        num_of_traffic=randint(0,100)\n",
    "        chance=randint(0,10)\n",
    "        if chance<7:\n",
    "            num_of_traffic=randint(100,200)\n",
    "            \n",
    "        temp=str(i)+\",\"+gen_date(2017)+\",\"+str(num_of_traffic)\n",
    "        res.append(temp)\n",
    "    return res\n",
    "        "
   ]
  },
  {
   "cell_type": "code",
   "execution_count": 43,
   "id": "b6cbcb7f",
   "metadata": {},
   "outputs": [],
   "source": [
    "def gen_date(year=None):\n",
    "    years=range(2000,2022)\n",
    "    monthes=range(1,13)\n",
    "    days=range(1,32)\n",
    "    res=\"\"\n",
    "    if year!=None:\n",
    "        res+=str(year)\n",
    "    else:\n",
    "        res+=str(choice(years))\n",
    "    res+=\"-\"+str(choice(monthes))+\"-\"+str(choice(days))\n",
    "    return res\n",
    "    "
   ]
  },
  {
   "cell_type": "code",
   "execution_count": 44,
   "id": "d24bdc28",
   "metadata": {},
   "outputs": [],
   "source": [
    "data=gen_data(20)\n"
   ]
  },
  {
   "cell_type": "code",
   "execution_count": 45,
   "id": "4ac9f3ae",
   "metadata": {},
   "outputs": [],
   "source": [
    "with open(\"input.csv\",\"w\")as file:\n",
    "    for i in data:\n",
    "        file.write(i)\n",
    "        file.write('\\n')"
   ]
  },
  {
   "cell_type": "code",
   "execution_count": null,
   "id": "1bb26ed9",
   "metadata": {},
   "outputs": [],
   "source": [
    "res=[]\n",
    "temp=[]\n",
    "for i in data:\n",
    "#     row=row[:-1]\n",
    "    row=i.split(\",\")\n",
    "    if int(row[2])>99:\n",
    "        temp.append(row)\n",
    "    else:\n",
    "        if len(temp)>2:\n",
    "            res.extend(temp)\n",
    "            \n",
    "        temp.clear()\n",
    "for i in data:\n",
    "    print(i)\n",
    "for i in res:\n",
    "    print(i)\n",
    "    "
   ]
  },
  {
   "cell_type": "code",
   "execution_count": 49,
   "id": "81371130",
   "metadata": {},
   "outputs": [],
   "source": [
    "with open(\"res.csv\",\"w\")as file:\n",
    "    for row in res:\n",
    "        file.write(row[0]+\",\"+row[1]+\",\"+row[2]+\"\\n\")\n",
    "        "
   ]
  }
 ],
 "metadata": {
  "kernelspec": {
   "display_name": "Python 3 (ipykernel)",
   "language": "python",
   "name": "python3"
  },
  "language_info": {
   "codemirror_mode": {
    "name": "ipython",
    "version": 3
   },
   "file_extension": ".py",
   "mimetype": "text/x-python",
   "name": "python",
   "nbconvert_exporter": "python",
   "pygments_lexer": "ipython3",
   "version": "3.9.12"
  }
 },
 "nbformat": 4,
 "nbformat_minor": 5
}
