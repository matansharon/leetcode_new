{
 "cells": [
  {
   "cell_type": "code",
   "execution_count": 1,
   "metadata": {},
   "outputs": [],
   "source": [
    "# Definition for singly-linked list.\n",
    "class ListNode(object):\n",
    "    def __init__(self, val=0, next=None):\n",
    "        self.val = val\n",
    "        self.next = next\n",
    "# Definition for a binary tree node.\n",
    "class TreeNode(object):\n",
    "    def __init__(self, val=0, left=None, right=None):\n",
    "        self.val = val\n",
    "        self.left = left\n",
    "        self.right = right\n",
    "class Solution(object):\n",
    "    def sortedListToBST(self, head):\n",
    "        \"\"\"\n",
    "        :type head: Optional[ListNode]\n",
    "        :rtype: Optional[TreeNode]\n",
    "        \"\"\"\n",
    "        #convert linked list to array\n",
    "        arr = []\n",
    "        while head:\n",
    "            arr.append(head.val)\n",
    "            head = head.next\n",
    "        #convert array to BST\n",
    "        def convert(arr):\n",
    "            if not arr:\n",
    "                return None\n",
    "            mid = len(arr)//2\n",
    "            root = TreeNode(arr[mid])\n",
    "            root.left = convert(arr[:mid])\n",
    "            root.right = convert(arr[mid+1:])\n",
    "            return root\n",
    "        return convert(arr)\n",
    "        \n",
    "        "
   ]
  }
 ],
 "metadata": {
  "kernelspec": {
   "display_name": "base",
   "language": "python",
   "name": "python3"
  },
  "language_info": {
   "codemirror_mode": {
    "name": "ipython",
    "version": 3
   },
   "file_extension": ".py",
   "mimetype": "text/x-python",
   "name": "python",
   "nbconvert_exporter": "python",
   "pygments_lexer": "ipython3",
   "version": "3.9.13"
  },
  "orig_nbformat": 4
 },
 "nbformat": 4,
 "nbformat_minor": 2
}
