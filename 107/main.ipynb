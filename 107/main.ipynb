{
 "cells": [
  {
   "attachments": {},
   "cell_type": "markdown",
   "metadata": {},
   "source": [
    "Given the root of a binary tree, return the bottom-up level order traversal of its nodes' values. (i.e., from left to right, level by level from leaf to root).\n",
    "\n",
    " \n",
    "\n",
    "Example 1:\n",
    "\n",
    "\n",
    "Input: root = [3,9,20,null,null,15,7]\n",
    "Output: [[15,7],[9,20],[3]]\n",
    "Example 2:\n",
    "\n",
    "Input: root = [1]\n",
    "Output: [[1]]\n",
    "Example 3:\n",
    "\n",
    "Input: root = []\n",
    "Output: []\n",
    " \n",
    "\n",
    "Constraints:\n",
    "\n",
    "The number of nodes in the tree is in the range [0, 2000].\n",
    "-1000 <= Node.val <= 1000"
   ]
  },
  {
   "cell_type": "code",
   "execution_count": null,
   "metadata": {},
   "outputs": [],
   "source": [
    "import random\n",
    "class TreeNode(object):\n",
    "    def __init__(self, val=0, left=None, right=None):\n",
    "        self.value = val\n",
    "        self.left = left\n",
    "        self.right = right\n",
    "\n",
    "def generate_random_tree(number_of_nodes):\n",
    "\n",
    "    head=TreeNode(random.randint(0, 100))\n",
    "    for i in range(number_of_nodes):\n",
    "        son=TreeNode(random.randint(0, 100))\n",
    "        insert_randomly(head,son)\n",
    "    return head\n",
    "def insert_randomly(father,node):\n",
    "    chance=random.randint(0,1)\n",
    "    if chance==0:\n",
    "        if father.left is None:\n",
    "            father.left=node\n",
    "        else:\n",
    "            insert_randomly(father.left,node)\n",
    "    else:\n",
    "        if father.right is None:\n",
    "            father.right=node\n",
    "        else:\n",
    "            insert_randomly(father.right,node)\n",
    "def print_tree(node):\n",
    "    if node is not None:\n",
    "        print(node.value)\n",
    "        print_tree(node.left)\n",
    "        print_tree(node.right)\n",
    "        \n",
    "if __name__ == '__main__':\n",
    "    head=generate_random_tree(10)\n",
    "    print_tree(head)"
   ]
  },
  {
   "cell_type": "code",
   "execution_count": 5,
   "metadata": {},
   "outputs": [],
   "source": [
    "# Definition for a binary tree node.\n",
    "# class TreeNode(object):\n",
    "#     def __init__(self, val=0, left=None, right=None):\n",
    "#         self.val = val\n",
    "#         self.left = left\n",
    "#         self.right = right\n",
    "class Solution(object):\n",
    "    def scan(self,node,level):\n",
    "        if node is not None:\n",
    "            if level not in self.dic:\n",
    "                self.dic[level]=[node.val]\n",
    "            else:\n",
    "                self.dic[level].append(node.val)\n",
    "            self.scan(node.left,level+1)\n",
    "            self.scan(node.right,level+1)\n",
    "    def convert_to_list_by_order(self,root):\n",
    "        self.dic={}\n",
    "        self.scan(root,0)\n",
    "        return self.dic\n",
    "    def levelOrderBottom(self, root):\n",
    "        \"\"\"\n",
    "        :type root: TreeNode\n",
    "        :rtype: List[List[int]]\n",
    "        \"\"\"\n",
    "        dic=self.convert_to_list_by_order(root)\n",
    "        return [dic[i] for i in range(len(dic)-1,-1,-1)]"
   ]
  },
  {
   "cell_type": "code",
   "execution_count": null,
   "metadata": {},
   "outputs": [],
   "source": []
  },
  {
   "cell_type": "code",
   "execution_count": null,
   "metadata": {},
   "outputs": [],
   "source": []
  }
 ],
 "metadata": {
  "kernelspec": {
   "display_name": "base",
   "language": "python",
   "name": "python3"
  },
  "language_info": {
   "codemirror_mode": {
    "name": "ipython",
    "version": 3
   },
   "file_extension": ".py",
   "mimetype": "text/x-python",
   "name": "python",
   "nbconvert_exporter": "python",
   "pygments_lexer": "ipython3",
   "version": "3.9.13"
  },
  "orig_nbformat": 4
 },
 "nbformat": 4,
 "nbformat_minor": 2
}
