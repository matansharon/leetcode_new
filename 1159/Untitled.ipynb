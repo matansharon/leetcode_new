{
 "cells": [
  {
   "cell_type": "code",
   "execution_count": 114,
   "id": "7fbca71c",
   "metadata": {},
   "outputs": [],
   "source": [
    "def gen_date():\n",
    "    return str(choice([\"2022\",\"2023\",\"2021\"]))+\"-\"+str(randint(1,12))+\"-\"+str(randint(1,31))"
   ]
  },
  {
   "cell_type": "code",
   "execution_count": null,
   "id": "383a2aef",
   "metadata": {},
   "outputs": [],
   "source": []
  },
  {
   "cell_type": "code",
   "execution_count": 115,
   "id": "c5cea3a6",
   "metadata": {},
   "outputs": [],
   "source": [
    "class User:\n",
    "    def __init__(self,_id,fav):\n",
    "        self.id=_id\n",
    "        self.orders=[]\n",
    "        self.fav_item=fav\n",
    "    def toString(self):\n",
    "        return str(self.id)+\",\"+str(self.orders)+\",\"+self.fav_item\n",
    "    def add(self,order_by_list):\n",
    "        self.orders.append(order_by_list)"
   ]
  },
  {
   "cell_type": "code",
   "execution_count": 116,
   "id": "59096ac8",
   "metadata": {},
   "outputs": [],
   "source": [
    "from random import randint,choice\n",
    "num_of_barnds=5\n",
    "num_of_users=20\n",
    "brands=[\"asus\",\"hp\",\"dell\",\"apple\",\"samsung\"]\n",
    "with open(\"user.csv\",\"w\")as file:\n",
    "    \n",
    "    for i in range(num_of_users):\n",
    "        file.write(str(i)+\",\"+gen_date()+','+choice(brands)+\"\\n\")\n",
    "with open(\"orders.csv\",\"w\")as file:\n",
    "    for i in range(1000):\n",
    "        file.write(str(i)+\",\"+\n",
    "                   gen_date()+\",\"+\n",
    "                   str(randint(1,5))+\",\"+\n",
    "                   str(randint(0,num_of_users))+\",\"+\n",
    "                   str(randint(0,num_of_users))+\n",
    "                   \"\\n\"\n",
    "                  )\n",
    "with open(\"items.csv\",\"w\")as file:\n",
    "    for i in range(len(brands)):\n",
    "        file.write(str(i)+\",\"+brands[i]+\"\\n\")\n",
    "        "
   ]
  },
  {
   "cell_type": "code",
   "execution_count": 117,
   "id": "da8c87de",
   "metadata": {
    "scrolled": true
   },
   "outputs": [],
   "source": [
    "from time import time\n",
    "t1=time()\n",
    "items={}\n",
    "with open(\"items.csv\",\"r\")as file:\n",
    "    for line in file:\n",
    "        temp=line[:-1].split(\",\")\n",
    "        items[temp[0]]=temp[1]\n",
    "\n",
    "users={}\n",
    "_id=0\n",
    "with open(\"user.csv\",\"r\")as file:\n",
    "    for line in file:\n",
    "        temp=line[:-1].split(\",\")\n",
    "        u=User(_id,temp[2])\n",
    "        users[str(u.id)]=u\n",
    "        _id+=1\n",
    "\n",
    "        \n",
    "\n",
    "# [print(users[i].toString()) for i in users]\n",
    "        \n",
    "        \n",
    "sellers={}\n",
    "cnt=0\n",
    "print\n",
    "with open(\"orders.csv\",\"r\")as file:\n",
    "    for line in file:\n",
    "        cnt+=1\n",
    "        temp=line[:-1].split(\",\")\n",
    "        try:\n",
    "            users[temp[-1]].add([temp[1],temp[2]])\n",
    "        except:\n",
    "            pass\n",
    "res=[]\n",
    "for i in users:\n",
    "    user=users[i]\n",
    "    user.orders.sort()\n",
    "    r=\"no\"\n",
    "    \n",
    "    if len(user.orders)>2 and user.orders[1][1]==user.fav_item:\n",
    "        r=\"yes\"\n",
    "    res.append(str(user.id)+\",\"+r+\"\\n\")\n",
    "        \n",
    "\n",
    "        \n",
    "        \n",
    "\n"
   ]
  },
  {
   "cell_type": "code",
   "execution_count": 118,
   "id": "87a7e547",
   "metadata": {},
   "outputs": [],
   "source": [
    "with open(\"res.csv\",\"w\")as file:\n",
    "    for i in res:\n",
    "        file.write(i)"
   ]
  },
  {
   "cell_type": "code",
   "execution_count": 120,
   "id": "b520df99",
   "metadata": {},
   "outputs": [
    {
     "data": {
      "text/plain": [
       "[9, -40, -62, 80, -45, -9, -21, 35, 66, -40]"
      ]
     },
     "execution_count": 120,
     "metadata": {},
     "output_type": "execute_result"
    }
   ],
   "source": [
    "v=[randint(1,100)for i in range(10)]\n",
    "w=[randint(1,100)for i in range(10)]\n",
    "[v_i - w_i\n",
    "for v_i, w_i in zip(v, w)]"
   ]
  }
 ],
 "metadata": {
  "kernelspec": {
   "display_name": "Python 3 (ipykernel)",
   "language": "python",
   "name": "python3"
  },
  "language_info": {
   "codemirror_mode": {
    "name": "ipython",
    "version": 3
   },
   "file_extension": ".py",
   "mimetype": "text/x-python",
   "name": "python",
   "nbconvert_exporter": "python",
   "pygments_lexer": "ipython3",
   "version": "3.9.12"
  }
 },
 "nbformat": 4,
 "nbformat_minor": 5
}
