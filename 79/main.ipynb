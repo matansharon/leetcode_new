{
 "cells": [
  {
   "attachments": {},
   "cell_type": "markdown",
   "metadata": {},
   "source": [
    "Given an m x n grid of characters board and a string word, return true if word exists in the grid.\n",
    "\n",
    "The word can be constructed from letters of sequentially adjacent cells, where adjacent cells are horizontally or vertically neighboring. The same letter cell may not be used more than once.\n",
    "\n",
    " \n",
    "\n",
    "Example 1:\n",
    "\n",
    "\n",
    "Input: board = [[\"A\",\"B\",\"C\",\"E\"],[\"S\",\"F\",\"C\",\"S\"],[\"A\",\"D\",\"E\",\"E\"]], word = \"ABCCED\"\n",
    "Output: true\n",
    "Example 2:\n",
    "\n",
    "\n",
    "Input: board = [[\"A\",\"B\",\"C\",\"E\"],[\"S\",\"F\",\"C\",\"S\"],[\"A\",\"D\",\"E\",\"E\"]], word = \"SEE\"\n",
    "Output: true\n",
    "Example 3:\n",
    "\n",
    "\n",
    "Input: board = [[\"A\",\"B\",\"C\",\"E\"],[\"S\",\"F\",\"C\",\"S\"],[\"A\",\"D\",\"E\",\"E\"]], word = \"ABCB\"\n",
    "Output: false\n",
    " \n",
    "\n",
    "Constraints:\n",
    "\n",
    "m == board.length\n",
    "n = board[i].length\n",
    "1 <= m, n <= 6\n",
    "1 <= word.length <= 15\n",
    "board and word consists of only lowercase and uppercase English letters.\n",
    " \n",
    "\n",
    "Follow up: Could you use search pruning to make your solution faster with a larger board?"
   ]
  },
  {
   "cell_type": "code",
   "execution_count": null,
   "metadata": {},
   "outputs": [],
   "source": []
  },
  {
   "cell_type": "code",
   "execution_count": 27,
   "metadata": {},
   "outputs": [],
   "source": [
    "class Solution(object):\n",
    "    \n",
    "    def get_nehbors(self,i,j):\n",
    "        res={}\n",
    "        if i-1>=0:\n",
    "            res[self.board[i-1][j]]=[i-1,j]\n",
    "        if i+1<len(self.board):\n",
    "            res[self.board[i+1][j]]=[i+1,j]\n",
    "        if j-1>=0:\n",
    "            res[self.board[i][j-1]]=[i,j-1]\n",
    "        if j+1<len(self.board[0]):\n",
    "            res[self.board[i][j+1]]=[i,j+1]\n",
    "        return res\n",
    "    \n",
    "    \n",
    "    def scan(self,temp_word,row,col):\n",
    "        n=self.get_nehbors(row,col)\n",
    "        for i in n:\n",
    "            if i in self.word:\n",
    "                temp_word+=i\n",
    "                if temp_word==self.word:\n",
    "                    self.flag=True\n",
    "                else:\n",
    "                    self.scan(temp_word,row,col)\n",
    "        \n",
    "    def exist(self, board, word):\n",
    "        \"\"\"\n",
    "        :type board: List[List[str]]\n",
    "        :type word: str\n",
    "        :rtype: bool\n",
    "        \"\"\"\n",
    "        self.board=board\n",
    "        self.word=word\n",
    "        self.flag=False\n",
    "        for i in range(len(board)):\n",
    "            for j in range(len(board[0])):\n",
    "                print(self.get_nehbors(i,j))\n",
    "                # if board[i][j]==word[0]:\n",
    "                #     self.scan(board[i][j],i,j)\n",
    "                \n",
    "                    \n",
    "    \n",
    "    \n",
    "\n",
    "\n"
   ]
  },
  {
   "cell_type": "code",
   "execution_count": 28,
   "metadata": {},
   "outputs": [
    {
     "name": "stdout",
     "output_type": "stream",
     "text": [
      "{'S': [1, 0], 'B': [0, 1]}\n",
      "{'F': [1, 1], 'A': [0, 0], 'C': [0, 2]}\n",
      "{'C': [1, 2], 'B': [0, 1], 'E': [0, 3]}\n",
      "{'S': [1, 3], 'C': [0, 2]}\n",
      "{'A': [2, 0], 'F': [1, 1]}\n",
      "{'B': [0, 1], 'D': [2, 1], 'S': [1, 0], 'C': [1, 2]}\n",
      "{'C': [0, 2], 'E': [2, 2], 'F': [1, 1], 'S': [1, 3]}\n",
      "{'E': [2, 3], 'C': [1, 2]}\n",
      "{'S': [1, 0], 'D': [2, 1]}\n",
      "{'F': [1, 1], 'A': [2, 0], 'E': [2, 2]}\n",
      "{'C': [1, 2], 'D': [2, 1], 'E': [2, 3]}\n",
      "{'S': [1, 3], 'E': [2, 2]}\n"
     ]
    }
   ],
   "source": [
    "s=Solution()\n",
    "b=[[\"A\",\"B\",\"C\",\"E\"],\n",
    "   [\"S\",\"F\",\"C\",\"S\"],\n",
    "   [\"A\",\"D\",\"E\",\"E\"]]\n",
    "w=\"AB\"\n",
    "s.exist(b,w)"
   ]
  }
 ],
 "metadata": {
  "kernelspec": {
   "display_name": "base",
   "language": "python",
   "name": "python3"
  },
  "language_info": {
   "codemirror_mode": {
    "name": "ipython",
    "version": 3
   },
   "file_extension": ".py",
   "mimetype": "text/x-python",
   "name": "python",
   "nbconvert_exporter": "python",
   "pygments_lexer": "ipython3",
   "version": "3.9.13"
  },
  "orig_nbformat": 4,
  "vscode": {
   "interpreter": {
    "hash": "3d5db532c048f37cc8487068e8e1c41ac5ce63d1b52e8a8c32ff882c22c4c18a"
   }
  }
 },
 "nbformat": 4,
 "nbformat_minor": 2
}
