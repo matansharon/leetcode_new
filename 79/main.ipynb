{
 "cells": [
  {
   "attachments": {},
   "cell_type": "markdown",
   "metadata": {},
   "source": [
    "Given an m x n grid of characters board and a string word, return true if word exists in the grid.\n",
    "\n",
    "The word can be constructed from letters of sequentially adjacent cells, where adjacent cells are horizontally or vertically neighboring. The same letter cell may not be used more than once.\n",
    "\n",
    " \n",
    "\n",
    "Example 1:\n",
    "\n",
    "\n",
    "Input: board = [[\"A\",\"B\",\"C\",\"E\"],[\"S\",\"F\",\"C\",\"S\"],[\"A\",\"D\",\"E\",\"E\"]], word = \"ABCCED\"\n",
    "Output: true\n",
    "Example 2:\n",
    "\n",
    "\n",
    "Input: board = [[\"A\",\"B\",\"C\",\"E\"],[\"S\",\"F\",\"C\",\"S\"],[\"A\",\"D\",\"E\",\"E\"]], word = \"SEE\"\n",
    "Output: true\n",
    "Example 3:\n",
    "\n",
    "\n",
    "Input: board = [[\"A\",\"B\",\"C\",\"E\"],[\"S\",\"F\",\"C\",\"S\"],[\"A\",\"D\",\"E\",\"E\"]], word = \"ABCB\"\n",
    "Output: false\n",
    " \n",
    "\n",
    "Constraints:\n",
    "\n",
    "m == board.length\n",
    "n = board[i].length\n",
    "1 <= m, n <= 6\n",
    "1 <= word.length <= 15\n",
    "board and word consists of only lowercase and uppercase English letters.\n",
    " \n",
    "\n",
    "Follow up: Could you use search pruning to make your solution faster with a larger board?"
   ]
  },
  {
   "cell_type": "code",
   "execution_count": null,
   "metadata": {},
   "outputs": [],
   "source": []
  },
  {
   "cell_type": "code",
   "execution_count": 23,
   "metadata": {},
   "outputs": [],
   "source": [
    "class Solution(object):\n",
    "    \n",
    "    def get_4(self,board,i,j):\n",
    "        res=[]\n",
    "        if i>0:\n",
    "            res.append(board[i-1][j])\n",
    "        if i<len(board)-1:\n",
    "            res.append(board[i+1][j])\n",
    "        if j>0:\n",
    "            res.append(board[i][j-1])\n",
    "        if j<len(board[0])-1:\n",
    "            res.append(board[i][j+1])\n",
    "        return res\n",
    "    \n",
    "    def scan(self,i,j):\n",
    "        nehbors=self.get_4(self.board,i,j)\n",
    "        \n",
    "        \n",
    "    def exist(self, board, word):\n",
    "        \"\"\"\n",
    "        :type board: List[List[str]]\n",
    "        :type word: str\n",
    "        :rtype: bool\n",
    "        \"\"\"\n",
    "        \n",
    "        self.word=word\n",
    "        self.temp_word=\"\"\n",
    "        self.board=board\n",
    "        self.pos=0\n",
    "        self.current_let=word[self.pos]\n",
    "        flag=False\n",
    "        if not board:\n",
    "            return False\n",
    "        for i in range(len(board)):\n",
    "            for j in range(len(board[0])):\n",
    "                if board[i][j]==self.current_let:\n",
    "                    self.scan(i,j)\n",
    "                    \n",
    "        return flag\n",
    "        \n",
    "\n",
    "    \n",
    "\n",
    "    \n",
    "\n",
    "\n"
   ]
  },
  {
   "cell_type": "code",
   "execution_count": 24,
   "metadata": {},
   "outputs": [
    {
     "name": "stdout",
     "output_type": "stream",
     "text": [
      "['S', 'B']\n",
      "['F', 'A', 'C']\n",
      "['C', 'B', 'E']\n",
      "['S', 'C']\n",
      "['A', 'A', 'F']\n",
      "['B', 'D', 'S', 'C']\n",
      "['C', 'E', 'F', 'S']\n",
      "['E', 'E', 'C']\n",
      "['S', 'D']\n",
      "['F', 'A', 'E']\n",
      "['C', 'D', 'E']\n",
      "['S', 'E']\n"
     ]
    },
    {
     "data": {
      "text/plain": [
       "False"
      ]
     },
     "execution_count": 24,
     "metadata": {},
     "output_type": "execute_result"
    }
   ],
   "source": [
    "s=Solution()\n",
    "b=[[\"A\",\"B\",\"C\",\"E\"],\n",
    "   [\"S\",\"F\",\"C\",\"S\"],\n",
    "   [\"A\",\"D\",\"E\",\"E\"]]\n",
    "w=\"ABF\"\n",
    "s.exist(b,w)"
   ]
  }
 ],
 "metadata": {
  "kernelspec": {
   "display_name": "base",
   "language": "python",
   "name": "python3"
  },
  "language_info": {
   "codemirror_mode": {
    "name": "ipython",
    "version": 3
   },
   "file_extension": ".py",
   "mimetype": "text/x-python",
   "name": "python",
   "nbconvert_exporter": "python",
   "pygments_lexer": "ipython3",
   "version": "3.9.13"
  },
  "orig_nbformat": 4,
  "vscode": {
   "interpreter": {
    "hash": "3d5db532c048f37cc8487068e8e1c41ac5ce63d1b52e8a8c32ff882c22c4c18a"
   }
  }
 },
 "nbformat": 4,
 "nbformat_minor": 2
}
