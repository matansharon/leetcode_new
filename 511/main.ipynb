{
 "cells": [
  {
   "cell_type": "code",
   "execution_count": 1,
   "metadata": {},
   "outputs": [
    {
     "name": "stdout",
     "output_type": "stream",
     "text": [
      "     player_id  device_id event_date  games_played\n",
      "0            1         60 2022-02-02             5\n",
      "1            1         57 2022-02-10             8\n",
      "2            1         80 2022-03-02             4\n",
      "3            1         80 2022-04-08             7\n",
      "4            1         97 2022-04-24             5\n",
      "..         ...        ...        ...           ...\n",
      "981        100         19 2022-07-23             6\n",
      "982        100          4 2022-08-19             3\n",
      "983        100          3 2022-10-13             6\n",
      "984        100         52 2022-10-15             4\n",
      "985        100         15 2022-12-22             3\n",
      "\n",
      "[986 rows x 4 columns]\n"
     ]
    }
   ],
   "source": [
    "import pandas as pd\n",
    "import numpy as np\n",
    "from datetime import timedelta, datetime\n",
    "\n",
    "# Settings for dummy data\n",
    "number_of_players = 100\n",
    "number_of_records = 1000\n",
    "date_range_start = datetime(2022, 1, 1)\n",
    "date_range_end = datetime(2022, 12, 31)\n",
    "\n",
    "# Generate dummy data\n",
    "np.random.seed(0)  # Seed for reproducibility\n",
    "player_ids = np.random.choice(range(1, number_of_players + 1), number_of_records)\n",
    "device_ids = np.random.choice(range(1, number_of_players + 1), number_of_records)\n",
    "event_dates = [date_range_start + timedelta(days=np.random.randint(0, (date_range_end - date_range_start).days)) for _ in range(number_of_records)]\n",
    "games_played = np.random.poisson(lam=5, size=number_of_records)  # Assuming an average of 5 games played, change lam for different distributions\n",
    "\n",
    "# Create DataFrame\n",
    "df_activity = pd.DataFrame({\n",
    "    'player_id': player_ids,\n",
    "    'device_id': device_ids,\n",
    "    'event_date': event_dates,\n",
    "    'games_played': games_played\n",
    "})\n",
    "\n",
    "# Make sure to drop duplicates for the primary key\n",
    "df_activity = df_activity.drop_duplicates(subset=['player_id', 'event_date'])\n",
    "\n",
    "# Sort the DataFrame for better visualization\n",
    "df_activity = df_activity.sort_values(by=['player_id', 'event_date'])\n",
    "\n",
    "# Reset index after sorting\n",
    "df_activity = df_activity.reset_index(drop=True)\n",
    "\n",
    "# Show the DataFrame\n",
    "print(df_activity)\n"
   ]
  },
  {
   "cell_type": "code",
   "execution_count": 14,
   "metadata": {},
   "outputs": [
    {
     "name": "stdout",
     "output_type": "stream",
     "text": [
      "player_id\n",
      "1     2022-02-02\n",
      "2     2022-01-01\n",
      "3     2022-04-23\n",
      "4     2022-03-01\n",
      "5     2022-02-22\n",
      "         ...    \n",
      "96    2022-02-17\n",
      "97    2022-01-21\n",
      "98    2022-01-13\n",
      "99    2022-01-07\n",
      "100   2022-01-29\n",
      "Name: event_date, Length: 100, dtype: datetime64[ns]\n"
     ]
    }
   ],
   "source": [
    "import pandas as pd\n",
    "\n",
    "def game_analysis(activity: pd.DataFrame) -> pd.DataFrame:\n",
    "    df = activity.groupby('player_id')['event_date'].min()\n",
    "    print(df)\n",
    "\n",
    "\n",
    "game_analysis(df_activity)"
   ]
  },
  {
   "cell_type": "code",
   "execution_count": 15,
   "metadata": {},
   "outputs": [
    {
     "data": {
      "text/plain": [
       "<pandas.core.groupby.generic.SeriesGroupBy object at 0x10603af20>"
      ]
     },
     "execution_count": 15,
     "metadata": {},
     "output_type": "execute_result"
    }
   ],
   "source": [
    "#show me an example of useing groupby\n",
    "df = df_activity.groupby('player_id')['event_date']\n",
    "df"
   ]
  }
 ],
 "metadata": {
  "kernelspec": {
   "display_name": "leetcode_env",
   "language": "python",
   "name": "python3"
  },
  "language_info": {
   "codemirror_mode": {
    "name": "ipython",
    "version": 3
   },
   "file_extension": ".py",
   "mimetype": "text/x-python",
   "name": "python",
   "nbconvert_exporter": "python",
   "pygments_lexer": "ipython3",
   "version": "3.10.11"
  }
 },
 "nbformat": 4,
 "nbformat_minor": 2
}
