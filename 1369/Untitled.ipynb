{
 "cells": [
  {
   "cell_type": "code",
   "execution_count": 1,
   "id": "e8d031dc",
   "metadata": {},
   "outputs": [],
   "source": [
    "from random import randint,choice\n",
    "def gen_date():\n",
    "    return str(randint(2019,2023))+\"-\"+str(randint(1,12))+\"-\"+str(randint(1,31))"
   ]
  },
  {
   "cell_type": "code",
   "execution_count": 5,
   "id": "c7945ce2",
   "metadata": {},
   "outputs": [
    {
     "name": "stdout",
     "output_type": "stream",
     "text": [
      "['2023-5-22', '2021-6-2', '2021-8-1', '2020-3-6', '2019-4-14']\n",
      "['2019-4-14', '2020-3-6', '2021-6-2', '2021-8-1', '2023-5-22']\n"
     ]
    }
   ],
   "source": [
    "temp=[]\n",
    "for i in range(5):\n",
    "    temp.append(gen_date())\n",
    "print(temp)\n",
    "print(sorted(temp))"
   ]
  },
  {
   "cell_type": "code",
   "execution_count": null,
   "id": "522f8c9a",
   "metadata": {},
   "outputs": [],
   "source": [
    "# with open(\"UserActivity.csv\")as file:\n",
    "    "
   ]
  }
 ],
 "metadata": {
  "kernelspec": {
   "display_name": "Python 3 (ipykernel)",
   "language": "python",
   "name": "python3"
  },
  "language_info": {
   "codemirror_mode": {
    "name": "ipython",
    "version": 3
   },
   "file_extension": ".py",
   "mimetype": "text/x-python",
   "name": "python",
   "nbconvert_exporter": "python",
   "pygments_lexer": "ipython3",
   "version": "3.9.12"
  }
 },
 "nbformat": 4,
 "nbformat_minor": 5
}
