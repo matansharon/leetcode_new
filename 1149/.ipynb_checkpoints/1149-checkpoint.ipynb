{
 "cells": [
  {
   "cell_type": "code",
   "execution_count": 1,
   "metadata": {},
   "outputs": [],
   "source": [
    "from random import randint,choice"
   ]
  },
  {
   "cell_type": "code",
   "execution_count": 7,
   "metadata": {},
   "outputs": [],
   "source": [
    "class Player:\n",
    "    def __init__(self,_id,g):\n",
    "        self.id=_id\n",
    "        self.group=g\n",
    "    def toString(self):\n",
    "        return str(self.id)+\",\"+str(self.group)"
   ]
  },
  {
   "cell_type": "code",
   "execution_count": 9,
   "metadata": {},
   "outputs": [],
   "source": [
    "with open(\"players.csv\",\"w\")as file:\n",
    "    for i in range(100):\n",
    "        file.write(str(i)+\",\"+str(randint(1,10))+\"\\n\")"
   ]
  },
  {
   "cell_type": "code",
   "execution_count": null,
   "metadata": {},
   "outputs": [],
   "source": [
    "players=[]\n",
    "with open(\"players.csv\",\"r\")as file:\n",
    "    for i in file:\n",
    "        temp=i[:-1].split(\",\")\n",
    "        p=Player(temp[0],temp[1])\n",
    "        players.append(p)\n",
    "\n",
    "\n",
    "    "
   ]
  }
 ],
 "metadata": {
  "kernelspec": {
   "display_name": "Python 3 (ipykernel)",
   "language": "python",
   "name": "python3"
  },
  "language_info": {
   "codemirror_mode": {
    "name": "ipython",
    "version": 3
   },
   "file_extension": ".py",
   "mimetype": "text/x-python",
   "name": "python",
   "nbconvert_exporter": "python",
   "pygments_lexer": "ipython3",
   "version": "3.9.12"
  }
 },
 "nbformat": 4,
 "nbformat_minor": 2
}
