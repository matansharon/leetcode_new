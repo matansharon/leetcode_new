{
 "cells": [
  {
   "cell_type": "code",
   "execution_count": 18,
   "id": "ea1b8d29",
   "metadata": {},
   "outputs": [],
   "source": [
    "from random import randint,choice\n",
    "res={}\n",
    "columns=[]\n",
    "d=[]\n",
    "with open(r'Sale.csv','r')as file:\n",
    "    flag=True\n",
    "    for line in file:\n",
    "        if flag:\n",
    "            line=line.split(',')\n",
    "            line[-1]=line[-1][:-1]\n",
    "            columns=line\n",
    "            flag=False\n",
    "        else:\n",
    "            line=line.split(',')\n",
    "            line[-1]=line[-1][:-1]\n",
    "            d.append(line)\n",
    "        \n"
   ]
  },
  {
   "cell_type": "code",
   "execution_count": 33,
   "id": "12a66d32",
   "metadata": {},
   "outputs": [],
   "source": [
    "#generate some random database\n",
    "data=[]\n",
    "sellers=range(1,10)#range of diffrent sellers\n",
    "quantity=range(1,5)# how many from one item in one sale\n",
    "price=[500,800,1000,1500,2100,2700,3500,4000,4300,4800,5300,6000,6500,7000]\n",
    "for i in range(10):\n",
    "    temp=[choice(sellers),choice(quantity),choice(price)]\n",
    "    data.append(temp)\n",
    "\n",
    "    "
   ]
  },
  {
   "cell_type": "code",
   "execution_count": 34,
   "id": "18513ca9",
   "metadata": {},
   "outputs": [
    {
     "name": "stdout",
     "output_type": "stream",
     "text": [
      "4 15100\n",
      "8 6100\n",
      "3 17200\n",
      "1 2000\n",
      "9 4800\n",
      "5 9600\n",
      "6 16000\n",
      "7 1000\n",
      "3 17200\n"
     ]
    }
   ],
   "source": [
    "dic={}\n",
    "for row in data:\n",
    "    sum_of_row=row[1]*row[2]\n",
    "    if row[0] in dic:\n",
    "        \n",
    "        dic[row[0]]+=sum_of_row\n",
    "    else:\n",
    "        dic[row[0]]=sum_of_row\n",
    "        \n",
    "max_sales=0\n",
    "seller=-1\n",
    "\n",
    "for row in dic:\n",
    "    print(row,dic[row])\n",
    "    if dic[row]>max_sales:\n",
    "        seller=row\n",
    "        max_sales=dic[row]\n",
    "        \n",
    "print(seller,max_sales)"
   ]
  }
 ],
 "metadata": {
  "kernelspec": {
   "display_name": "Python 3 (ipykernel)",
   "language": "python",
   "name": "python3"
  },
  "language_info": {
   "codemirror_mode": {
    "name": "ipython",
    "version": 3
   },
   "file_extension": ".py",
   "mimetype": "text/x-python",
   "name": "python",
   "nbconvert_exporter": "python",
   "pygments_lexer": "ipython3",
   "version": "3.9.12"
  }
 },
 "nbformat": 4,
 "nbformat_minor": 5
}
