{
 "cells": [
  {
   "cell_type": "code",
   "execution_count": null,
   "id": "82fac2a7",
   "metadata": {},
   "outputs": [],
   "source": [
    "from random import randint,choice,random\n",
    "from datetime import datetime, timedelta\n",
    "import pandas as pd\n",
    "def gen_datetime(min_year=1900, max_year=datetime.now().year):\n",
    "    \n",
    "    start = datetime(min_year, 1, 1, 0, 0, 0)\n",
    "    years = max_year - min_year + 1\n",
    "    end = start + timedelta(days=365 * years)\n",
    "    return start + (end - start) * random()\n",
    "def convert_str_to_datetime(s):\n",
    "    temp=s\n",
    "    s1=[]\n",
    "    if s[-1]==\"\\n\":\n",
    "        temp=s[:-1]\n",
    "    temp=temp.split(\"-\")\n",
    "    \n",
    "    try:\n",
    "        return datetime(int(temp[0]),int(temp[1]),int(temp[2]))\n",
    "    except:\n",
    "        return None\n",
    "    \n",
    "    "
   ]
  },
  {
   "cell_type": "code",
   "execution_count": null,
   "id": "b6e34677",
   "metadata": {},
   "outputs": [],
   "source": [
    "# import pandas as pd\n",
    "# # drivers_out=pd\n",
    "# cols=[\"id\",\"join_date\"]\n",
    "# ids=[]\n",
    "# dates=[]\n",
    "# values=[ids,dates]\n",
    "# for i in range(100):\n",
    "#     ids.append(i)\n",
    "#     dates.append(gen_datetime(2020,2020).strftime(\"%Y-%m-%d\"))\n",
    "# temp={}\n",
    "# for i in range(len(cols)):\n",
    "#     temp[cols[i]]=values[i]\n",
    "# drivers_table=pd.DataFrame(temp)\n",
    "# drivers_table.to_csv(\"Drivers_table.csv\")"
   ]
  },
  {
   "cell_type": "code",
   "execution_count": null,
   "id": "f8e5a3da",
   "metadata": {},
   "outputs": [],
   "source": [
    "# drivers_table=pd.read_csv(\"Drivers_table.csv\")\n",
    "# cols=[\"ride_id\",\"user_id\",\"req_date\"]\n",
    "# ride_id=[]\n",
    "# user_id=[]\n",
    "# req_dates=[]\n",
    "# rides_table={}\n",
    "# for i in range(1000):\n",
    "#     ride_id.append(i)\n",
    "#     user_id.append(randint(1,20))\n",
    "#     req_dates.append(gen_datetime(2019,2022).strftime(\"%Y-%m-%d\"))\n",
    "# res={}\n",
    "# values=[ride_id,user_id,req_dates]\n",
    "# for i in range(len(cols)):\n",
    "#     res[cols[i]]=values[i]\n",
    "# rides=pd.DataFrame(res)\n",
    "# rides.to_csv(\"rides.csv\")\n",
    "    "
   ]
  },
  {
   "cell_type": "code",
   "execution_count": null,
   "id": "39f17966",
   "metadata": {},
   "outputs": [],
   "source": [
    "# %%time\n",
    "# rides=pd.read_csv(\"rides.csv\")\n",
    "# cols=[\"ride_id\",\"driver_id\",\"ride_distance\",\"ride_duration\"]\n",
    "# acc_ride_id=[]\n",
    "# acc_user_id=[]\n",
    "# acc_date=[]\n",
    "# acc_dur=[]\n",
    "# acc_dis=[]\n",
    "# values=[acc_ride_id,acc_user_id,acc_dis,acc_dur]\n",
    "# for i in range(len(rides)):\n",
    "#     if random()>0.5:\n",
    "#         row=rides.iloc[i]\n",
    "#         acc_ride_id.append(row.ride_id)\n",
    "#         acc_user_id.append(row.user_id)\n",
    "#         acc_date.append(row.req_date)\n",
    "#         acc_dis.append(randint(1,50))\n",
    "#         acc_dur.append(randint(50,200))\n",
    "# temp={}\n",
    "# for i in range(len(cols)):\n",
    "#     temp[cols[i]]=values[i]\n",
    "# acc_rides=pd.DataFrame(temp)\n",
    "# acc_rides.to_csv(\"accepted_rides.csv\")\n"
   ]
  },
  {
   "cell_type": "code",
   "execution_count": null,
   "id": "1af09885",
   "metadata": {},
   "outputs": [],
   "source": [
    "%%time\n",
    "rides=pd.read_csv(\"rides.csv\")\n",
    "acc_rides=pd.read_csv(\"accepted_rides.csv\")\n",
    "drivers=pd.read_csv(\"Drivers_table.csv\")\n",
    "res={}\n",
    "for i in range(1,13):\n",
    "    res[i]={\n",
    "        \"all_rides\":0,\n",
    "        \"acc_rides\":0,\n",
    "        \"distance\":[],\n",
    "        \"duration\":[]\n",
    "    }\n",
    "\n",
    "\n",
    "\n",
    "    \n",
    "   "
   ]
  },
  {
   "cell_type": "code",
   "execution_count": null,
   "id": "5f229caa",
   "metadata": {},
   "outputs": [],
   "source": [
    "%%time\n",
    "for i in range(len(drivers)):\n",
    "    row=drivers.iloc[i]\n",
    "    _id=row.id\n",
    "    date=convert_str_to_datetime(row.join_date)"
   ]
  },
  {
   "cell_type": "code",
   "execution_count": null,
   "id": "734b61ee",
   "metadata": {},
   "outputs": [],
   "source": [
    "%%time\n",
    "all_rides={}\n",
    "for i in range(len(rides)):\n",
    "    row=rides.iloc[i]\n",
    "    month=convert_str_to_datetime(row.req_date).month\n",
    "    all_rides[row.ride_id]=month\n",
    "    res[month][\"all_rides\"]+=1"
   ]
  },
  {
   "cell_type": "code",
   "execution_count": null,
   "id": "996bc80b",
   "metadata": {},
   "outputs": [],
   "source": [
    "%%time\n",
    "for i in range(len(acc_rides)):\n",
    "    row=acc_rides.iloc[i]\n",
    "    month=all_rides[row.ride_id]\n",
    "    res[month][\"acc_rides\"]+=1\n",
    "    res[month][\"distance\"].append(row.ride_distance)\n",
    "    res[month][\"duration\"].append(row.ride_duration)\n",
    "for i in res:\n",
    "    print(\"this is month :\"+str(i))\n",
    "    print(res[i][\"all_rides\"])\n",
    "    print(res[i][\"acc_rides\"])\n",
    "    print(\"avg distance :\"+str(sum(res[i][\"distance\"])/len(res[i][\"distance\"])))\n",
    "    print(\"avg duration: \"+str(sum(res[i][\"duration\"])/len(res[i][\"duration\"])))\n",
    "    print(\"-\"*70)"
   ]
  },
  {
   "cell_type": "code",
   "execution_count": 81,
   "id": "4878b888",
   "metadata": {},
   "outputs": [],
   "source": [
    "out={}\n",
    "monthes=range(1,13)\n",
    "cols=[\"all_rides\",\"accepted_rides\",\"avg_dis\",\"avg_dur\"]\n",
    "all_rides=[]\n",
    "acc_rides=[]\n",
    "avg_dis=[]\n",
    "avg_dur=[]\n",
    "for i in res:\n",
    "    all_rides.append(res[i][\"all_rides\"])\n",
    "    acc_rides.append(res[i][\"acc_rides\"])\n",
    "    avg_dis.append(sum(res[i][\"distance\"])/len(res[i][\"distance\"]))\n",
    "    avg_dur.append(sum(res[i][\"duration\"])/len(res[i][\"duration\"]))\n",
    "values=[all_rides,acc_rides,avg_dis,avg_dur]\n"
   ]
  },
  {
   "cell_type": "code",
   "execution_count": 82,
   "id": "ae662676",
   "metadata": {},
   "outputs": [],
   "source": [
    "for i in range(len(cols)):\n",
    "    out[cols[i]]=values[i]\n"
   ]
  },
  {
   "cell_type": "code",
   "execution_count": 83,
   "id": "17783d1e",
   "metadata": {},
   "outputs": [],
   "source": [
    "out=pd.DataFrame(out)\n",
    "out.to_csv(\"res.csv\")"
   ]
  }
 ],
 "metadata": {
  "kernelspec": {
   "display_name": "Python 3 (ipykernel)",
   "language": "python",
   "name": "python3"
  },
  "language_info": {
   "codemirror_mode": {
    "name": "ipython",
    "version": 3
   },
   "file_extension": ".py",
   "mimetype": "text/x-python",
   "name": "python",
   "nbconvert_exporter": "python",
   "pygments_lexer": "ipython3",
   "version": "3.9.12"
  }
 },
 "nbformat": 4,
 "nbformat_minor": 5
}
