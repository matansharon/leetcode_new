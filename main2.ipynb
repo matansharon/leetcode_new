{
 "cells": [
  {
   "cell_type": "code",
   "execution_count": 1,
   "metadata": {},
   "outputs": [],
   "source": [
    "import random\n",
    "from random import randint"
   ]
  },
  {
   "cell_type": "code",
   "execution_count": 2,
   "metadata": {},
   "outputs": [],
   "source": [
    "class TreeNode(object):\n",
    "    def __init__(self, val=0, left=None, right=None):\n",
    "        self.val = val\n",
    "        self.left = left\n",
    "        self.right = right"
   ]
  },
  {
   "cell_type": "code",
   "execution_count": 3,
   "metadata": {},
   "outputs": [],
   "source": [
    "def insert_node_BST(father,son):\n",
    "    if father.left is None and father.right is None:\n",
    "        if son.val < father.val:\n",
    "            father.left = son\n",
    "        else:\n",
    "            father.right = son\n",
    "    else:\n",
    "        if son.val < father.val and father.left is not None:\n",
    "            insert_node_BST(father.left,son)\n",
    "        elif son.val < father.val and father.left is None:\n",
    "            father.left = son\n",
    "        elif son.val > father.val and father.right is not None:\n",
    "            insert_node_BST(father.right,son)\n",
    "        elif son.val > father.val and father.right is None:\n",
    "            father.right = son"
   ]
  },
  {
   "cell_type": "code",
   "execution_count": 24,
   "metadata": {},
   "outputs": [],
   "source": [
    "#create a function to print the tree in order\n",
    "def print_tree(node, ):\n",
    "    if node is None :\n",
    "        return\n",
    "    print_tree(node.left)\n",
    "    print(node.val)\n",
    "    print_tree(node.right)\n",
    "    "
   ]
  },
  {
   "cell_type": "code",
   "execution_count": 36,
   "metadata": {},
   "outputs": [
    {
     "name": "stdout",
     "output_type": "stream",
     "text": [
      "0\n",
      "1\n",
      "1\n",
      "4\n",
      "4\n",
      "5\n",
      "6\n",
      "7\n",
      "7\n",
      "9\n",
      "11\n",
      "11\n",
      "12\n",
      "14\n",
      "15\n",
      "16\n",
      "17\n",
      "17\n",
      "18\n",
      "18\n",
      "19\n",
      "24\n",
      "24\n",
      "27\n",
      "29\n",
      "30\n",
      "31\n",
      "32\n",
      "33\n",
      "34\n",
      "35\n",
      "35\n",
      "36\n",
      "37\n",
      "39\n",
      "41\n",
      "42\n",
      "46\n",
      "47\n",
      "47\n",
      "49\n",
      "51\n",
      "52\n",
      "53\n",
      "54\n",
      "54\n",
      "56\n",
      "57\n",
      "58\n",
      "60\n",
      "61\n",
      "61\n",
      "62\n",
      "63\n",
      "64\n",
      "65\n",
      "66\n",
      "67\n",
      "69\n",
      "72\n",
      "73\n",
      "78\n",
      "80\n",
      "82\n",
      "84\n",
      "85\n",
      "86\n",
      "87\n",
      "88\n",
      "88\n",
      "89\n",
      "90\n",
      "91\n",
      "94\n",
      "95\n",
      "96\n",
      "97\n",
      "97\n",
      "99\n",
      "100\n",
      "100\n"
     ]
    }
   ],
   "source": [
    "head=TreeNode(random.randint(0, 100))\n",
    "for i in range(100):\n",
    "    son=TreeNode(random.randint(0, 100))\n",
    "    insert_node(head,son)\n",
    "print_tree(head)"
   ]
  }
 ],
 "metadata": {
  "kernelspec": {
   "display_name": "base",
   "language": "python",
   "name": "python3"
  },
  "language_info": {
   "codemirror_mode": {
    "name": "ipython",
    "version": 3
   },
   "file_extension": ".py",
   "mimetype": "text/x-python",
   "name": "python",
   "nbconvert_exporter": "python",
   "pygments_lexer": "ipython3",
   "version": "3.9.13"
  },
  "orig_nbformat": 4,
  "vscode": {
   "interpreter": {
    "hash": "3d5db532c048f37cc8487068e8e1c41ac5ce63d1b52e8a8c32ff882c22c4c18a"
   }
  }
 },
 "nbformat": 4,
 "nbformat_minor": 2
}
