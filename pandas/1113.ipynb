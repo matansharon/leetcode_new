{
 "cells": [
  {
   "cell_type": "code",
   "execution_count": 35,
   "metadata": {},
   "outputs": [
    {
     "data": {
      "text/html": [
       "<div>\n",
       "<style scoped>\n",
       "    .dataframe tbody tr th:only-of-type {\n",
       "        vertical-align: middle;\n",
       "    }\n",
       "\n",
       "    .dataframe tbody tr th {\n",
       "        vertical-align: top;\n",
       "    }\n",
       "\n",
       "    .dataframe thead th {\n",
       "        text-align: right;\n",
       "    }\n",
       "</style>\n",
       "<table border=\"1\" class=\"dataframe\">\n",
       "  <thead>\n",
       "    <tr style=\"text-align: right;\">\n",
       "      <th></th>\n",
       "      <th>user_id</th>\n",
       "      <th>post_id</th>\n",
       "      <th>action_date</th>\n",
       "      <th>action</th>\n",
       "      <th>extra</th>\n",
       "    </tr>\n",
       "  </thead>\n",
       "  <tbody>\n",
       "    <tr>\n",
       "      <th>0</th>\n",
       "      <td>38</td>\n",
       "      <td>13</td>\n",
       "      <td>2019-07-04</td>\n",
       "      <td>report</td>\n",
       "      <td>spam</td>\n",
       "    </tr>\n",
       "    <tr>\n",
       "      <th>1</th>\n",
       "      <td>43</td>\n",
       "      <td>5</td>\n",
       "      <td>2019-07-02</td>\n",
       "      <td>comment</td>\n",
       "      <td>racism</td>\n",
       "    </tr>\n",
       "    <tr>\n",
       "      <th>2</th>\n",
       "      <td>43</td>\n",
       "      <td>43</td>\n",
       "      <td>2019-07-03</td>\n",
       "      <td>reaction</td>\n",
       "      <td>inappropriate</td>\n",
       "    </tr>\n",
       "    <tr>\n",
       "      <th>3</th>\n",
       "      <td>17</td>\n",
       "      <td>13</td>\n",
       "      <td>2019-07-01</td>\n",
       "      <td>share</td>\n",
       "      <td>inappropriate</td>\n",
       "    </tr>\n",
       "    <tr>\n",
       "      <th>4</th>\n",
       "      <td>33</td>\n",
       "      <td>17</td>\n",
       "      <td>2019-07-03</td>\n",
       "      <td>share</td>\n",
       "      <td>misleading</td>\n",
       "    </tr>\n",
       "  </tbody>\n",
       "</table>\n",
       "</div>"
      ],
      "text/plain": [
       "   user_id  post_id action_date    action          extra\n",
       "0       38       13  2019-07-04    report           spam\n",
       "1       43        5  2019-07-02   comment         racism\n",
       "2       43       43  2019-07-03  reaction  inappropriate\n",
       "3       17       13  2019-07-01     share  inappropriate\n",
       "4       33       17  2019-07-03     share     misleading"
      ]
     },
     "execution_count": 35,
     "metadata": {},
     "output_type": "execute_result"
    }
   ],
   "source": [
    "\n",
    "import pandas as pd\n",
    "import random\n",
    "from datetime import datetime, timedelta\n",
    "\n",
    "# Function to create a random dataframe\n",
    "def create_random_dataframe(num_rows=100):\n",
    "    # Constants\n",
    "    actions = ['view', 'like', 'reaction', 'comment', 'report', 'share']\n",
    "    extra_info = ['null', 'spam', 'racism', 'inappropriate', 'misleading']\n",
    "\n",
    "    # Random data generation\n",
    "    data = {\n",
    "        'user_id': [random.randint(1, 50) for _ in range(num_rows)],\n",
    "        'post_id': [random.randint(1, 50) for _ in range(num_rows)],\n",
    "        'action_date': [datetime(2019, 7, random.randint(1, 5)) for _ in range(num_rows)],\n",
    "        'action': [random.choice(actions) for _ in range(num_rows)],\n",
    "        'extra': [random.choice(extra_info) for _ in range(num_rows)]\n",
    "    }\n",
    "\n",
    "    return pd.DataFrame(data)\n",
    "\n",
    "#test the function\n",
    "df = create_random_dataframe()\n",
    "df.head()"
   ]
  },
  {
   "cell_type": "code",
   "execution_count": 32,
   "metadata": {},
   "outputs": [
    {
     "data": {
      "text/plain": [
       "Series([], Name: count, dtype: int64)"
      ]
     },
     "execution_count": 32,
     "metadata": {},
     "output_type": "execute_result"
    }
   ],
   "source": [
    "#create a date for this 2019-07-05\n",
    "date = datetime(2019, 7, 5)\n",
    "df1=df[df['action_date']=='2019-07-04']\n",
    "df1=df1[df1['action']=='report']\n",
    "df1=df1.value_counts('extra')\n",
    "df1\n"
   ]
  },
  {
   "cell_type": "code",
   "execution_count": 33,
   "metadata": {},
   "outputs": [],
   "source": [
    "\n",
    "import pandas as pd\n",
    "\n",
    "def reported_posts(actions: pd.DataFrame) -> pd.DataFrame:\n",
    "    # Filter the 'actions' table to include only actions on the specified date (July 4, 2019).\n",
    "    actions = actions[actions['action_date'] == '2019-07-04']\n",
    "    \n",
    "    # Filter further to include only 'report' actions.\n",
    "    actions = actions[actions['action'] == 'report']\n",
    "\n",
    "    # Group the filtered data by the 'extra' column (report reasons) and count the unique 'post_id's.\n",
    "    report_counts = actions.groupby('extra')['post_id'].nunique().reset_index()\n",
    "    \n",
    "    # Rename the columns for clarity.\n",
    "    report_counts = report_counts.rename(columns={\n",
    "        'extra': 'report_reason',\n",
    "        'post_id': 'report_count'\n",
    "    })\n",
    "\n",
    "    return report_counts\n"
   ]
  },
  {
   "cell_type": "code",
   "execution_count": 36,
   "metadata": {},
   "outputs": [
    {
     "data": {
      "text/html": [
       "<div>\n",
       "<style scoped>\n",
       "    .dataframe tbody tr th:only-of-type {\n",
       "        vertical-align: middle;\n",
       "    }\n",
       "\n",
       "    .dataframe tbody tr th {\n",
       "        vertical-align: top;\n",
       "    }\n",
       "\n",
       "    .dataframe thead th {\n",
       "        text-align: right;\n",
       "    }\n",
       "</style>\n",
       "<table border=\"1\" class=\"dataframe\">\n",
       "  <thead>\n",
       "    <tr style=\"text-align: right;\">\n",
       "      <th></th>\n",
       "      <th>report_reason</th>\n",
       "      <th>report_count</th>\n",
       "    </tr>\n",
       "  </thead>\n",
       "  <tbody>\n",
       "    <tr>\n",
       "      <th>0</th>\n",
       "      <td>misleading</td>\n",
       "      <td>1</td>\n",
       "    </tr>\n",
       "    <tr>\n",
       "      <th>1</th>\n",
       "      <td>null</td>\n",
       "      <td>2</td>\n",
       "    </tr>\n",
       "    <tr>\n",
       "      <th>2</th>\n",
       "      <td>spam</td>\n",
       "      <td>2</td>\n",
       "    </tr>\n",
       "  </tbody>\n",
       "</table>\n",
       "</div>"
      ],
      "text/plain": [
       "  report_reason  report_count\n",
       "0    misleading             1\n",
       "1          null             2\n",
       "2          spam             2"
      ]
     },
     "execution_count": 36,
     "metadata": {},
     "output_type": "execute_result"
    }
   ],
   "source": [
    "reported_posts(df)"
   ]
  }
 ],
 "metadata": {
  "kernelspec": {
   "display_name": "leetcode_env",
   "language": "python",
   "name": "python3"
  },
  "language_info": {
   "codemirror_mode": {
    "name": "ipython",
    "version": 3
   },
   "file_extension": ".py",
   "mimetype": "text/x-python",
   "name": "python",
   "nbconvert_exporter": "python",
   "pygments_lexer": "ipython3",
   "version": "3.10.11"
  }
 },
 "nbformat": 4,
 "nbformat_minor": 2
}
