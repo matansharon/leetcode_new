{
 "cells": [
  {
   "cell_type": "code",
   "execution_count": 61,
   "id": "8ef8a3ca",
   "metadata": {},
   "outputs": [],
   "source": [
    "from random import randint,choice\n",
    "def gen_data():\n",
    "    res=[]\n",
    "    cols=[\"id-int\",\"company-enum\",\"salary\"]\n",
    "    companies=[\"A\",\"B\",\"C\",\"D\",\"E\",\"F\",\"G\",\"H\"]\n",
    "    saleries=range(10,1000)\n",
    "    for i in range(100):\n",
    "        row=str(i)+\",\"+choice(companies)+\",\"+str(choice(saleries))\n",
    "        res.append(row)\n",
    "    return res\n",
    "    "
   ]
  },
  {
   "cell_type": "code",
   "execution_count": 62,
   "id": "7efa952a",
   "metadata": {},
   "outputs": [],
   "source": [
    "class Employee:\n",
    "    def __init__(self,_id,comp,salary):\n",
    "        self.id=_id\n",
    "        self.company=comp\n",
    "        self.salary=salary\n",
    "    def toString(self):\n",
    "        return str(self.id)+\",\"+self.company+\",\"+str(self.salary)"
   ]
  },
  {
   "cell_type": "code",
   "execution_count": 63,
   "id": "c70645eb",
   "metadata": {},
   "outputs": [],
   "source": [
    "data=gen_data()\n",
    "with open(\"input.csv\",\"w\")as file:\n",
    "    for line in data:\n",
    "        file.write(line)\n",
    "        file.write('\\n')\n"
   ]
  },
  {
   "cell_type": "code",
   "execution_count": 64,
   "id": "e42bd1b6",
   "metadata": {},
   "outputs": [],
   "source": [
    "dic={}\n",
    "\n",
    "for row in data:\n",
    "    list_row=row.split(\",\")\n",
    "    temp_emp=Employee(list_row[0],list_row[1],int(list_row[2]))\n",
    "    if temp_emp.company not in dic:\n",
    "        dic[temp_emp.company]=[temp_emp]\n",
    "    else:\n",
    "        dic[temp_emp.company].append(temp_emp)\n",
    "for i in dic:\n",
    "    dic[i].sort(key= lambda x:x.salary ,reverse=True)\n",
    "\n",
    "    "
   ]
  },
  {
   "cell_type": "code",
   "execution_count": 65,
   "id": "6b64869b",
   "metadata": {},
   "outputs": [
    {
     "name": "stdout",
     "output_type": "stream",
     "text": [
      "14\n",
      "0,E,958\n",
      "46,E,904\n",
      "58,E,878\n",
      "65,E,795\n",
      "85,E,537\n",
      "68,E,517\n",
      "91,E,483\n",
      "77,E,469\n",
      "1,E,369\n",
      "60,E,353\n",
      "71,E,323\n",
      "4,E,177\n",
      "61,E,129\n",
      "97,E,65\n",
      "--------------------------------------------------\n",
      "77,E,469\n",
      "91,E,483\n",
      "99,C,260\n",
      "15,A,375\n",
      "50,A,384\n",
      "51,G,586\n",
      "47,G,608\n",
      "25,F,574\n",
      "30,D,548\n",
      "82,B,236\n",
      "90,H,563\n",
      "40,H,669\n"
     ]
    }
   ],
   "source": [
    "from math import ceil\n",
    "res=[]\n",
    "\n",
    "for l in dic:\n",
    "    temp=dic[l]\n",
    "    index=len(temp)/2\n",
    "    if len(temp)%2==0:\n",
    "        res.append(temp[int(index)])\n",
    "        res.append(temp[int(index-1)])\n",
    "        \n",
    "    else:\n",
    "        res.append(temp[ceil(index)])\n",
    "let=\"E\"\n",
    "print(len(dic[let]))\n",
    "for i in dic[let]:\n",
    "    print(i.toString())\n",
    "print(\"-\"*50)\n",
    "for i in res:\n",
    "    print(i.toString())"
   ]
  },
  {
   "cell_type": "code",
   "execution_count": 66,
   "id": "720b8854",
   "metadata": {},
   "outputs": [],
   "source": [
    "with open(\"res.csv\",\"w\")as file:\n",
    "    for emp in res:\n",
    "        file.write(emp.toString())\n",
    "        file.write('\\n')"
   ]
  }
 ],
 "metadata": {
  "kernelspec": {
   "display_name": "Python 3 (ipykernel)",
   "language": "python",
   "name": "python3"
  },
  "language_info": {
   "codemirror_mode": {
    "name": "ipython",
    "version": 3
   },
   "file_extension": ".py",
   "mimetype": "text/x-python",
   "name": "python",
   "nbconvert_exporter": "python",
   "pygments_lexer": "ipython3",
   "version": "3.9.12"
  }
 },
 "nbformat": 4,
 "nbformat_minor": 5
}
