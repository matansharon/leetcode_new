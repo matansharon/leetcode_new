{
 "cells": [
  {
   "cell_type": "code",
   "execution_count": 1,
   "id": "e2a30c0b",
   "metadata": {},
   "outputs": [],
   "source": [
    "from random import randint,choice,random\n",
    "from datetime import datetime, timedelta\n",
    "import pandas as pd"
   ]
  },
  {
   "cell_type": "code",
   "execution_count": 2,
   "id": "3342a71b",
   "metadata": {},
   "outputs": [],
   "source": [
    "def gen_datetime(min_year=1900, max_year=datetime.now().year):\n",
    "    \n",
    "    start = datetime(min_year, 1, 1, 0, 0, 0)\n",
    "    years = max_year - min_year + 1\n",
    "    end = start + timedelta(days=365 * years)\n",
    "    return start + (end - start) * random()\n",
    "def convert_str_to_datetime(s):\n",
    "    temp=s\n",
    "    s1=[]\n",
    "    if s[-1]==\"\\n\":\n",
    "        temp=s[:-1]\n",
    "    temp=temp.split(\"-\")\n",
    "    for i in range(len(temp)):\n",
    "        temp[i]=int(temp[i])\n",
    "    try:\n",
    "        return datetime(temp[0],temp[1],temp[2])\n",
    "    except:\n",
    "        return None"
   ]
  },
  {
   "cell_type": "code",
   "execution_count": 3,
   "id": "1751b050",
   "metadata": {},
   "outputs": [],
   "source": [
    "ids=[]\n",
    "dates=[]\n",
    "for i in range(50):\n",
    "    ids.append(i)\n",
    "    dates.append(gen_datetime(2022,2022).strftime(\"%Y-%m-%d\"))\n",
    "cols=[\"driver_id\",\"join_date\"]\n",
    "values=[ids,dates]\n",
    "out={}\n",
    "for i in range(len(cols)):\n",
    "    out[cols[i]]=values[i]\n",
    "out=pd.DataFrame(out)\n",
    "out.to_csv(\"Drivers.csv\")"
   ]
  },
  {
   "cell_type": "code",
   "execution_count": 5,
   "id": "3f0f31f1",
   "metadata": {},
   "outputs": [],
   "source": [
    "ride_id=[]\n",
    "user_id=[]\n",
    "join_date=[]\n",
    "cols=[\"ride_id\",\"user_id\",\"join_date\"]\n",
    "value=[ride_id,user_id,join_date]\n",
    "for i in range(1000):\n",
    "    ride_id.append(i)\n",
    "    user_id.append(randint(1,1000))\n",
    "    join_date.append(gen_datetime(2022,2022).strftime(\"%Y-%m-%d\"))\n",
    "out={}\n",
    "for i in range(len(cols)):\n",
    "    out[cols[i]]=value[i]\n",
    "out=pd.DataFrame(out)\n",
    "out.to_csv(\"rides.csv\")"
   ]
  },
  {
   "cell_type": "code",
   "execution_count": 8,
   "id": "25b865fa",
   "metadata": {},
   "outputs": [],
   "source": [
    "drivers_by_date={}\n",
    "for i in range(1,13):\n",
    "    drivers_by_date[i]=[]\n",
    "drivers_input=pd.read_csv(\"Drivers.csv\")\n",
    "for i in range(len(drivers_input)):\n",
    "    row = drivers_input.iloc[i]\n",
    "    \n",
    "    d=convert_str_to_datetime(row.join_date)\n",
    "    if d.month not in drivers_by_date:\n",
    "        drivers_by_date[d.month]=[]\n",
    "    drivers_by_date[d.month].append(row.driver_id)\n",
    "for i in drivers_by_date:\n",
    "\n",
    "    if i>1:\n",
    "        drivers_by_date[i]=drivers_by_date[i]+drivers_by_date[i-1]"
   ]
  },
  {
   "cell_type": "code",
   "execution_count": 9,
   "id": "23467038",
   "metadata": {},
   "outputs": [],
   "source": [
    "rides=pd.read_csv(\"rides.csv\")\n",
    "acc_rides={}\n",
    "cols=[\"ride_id\",\"driver_id\",\"ride_distance\",\"ride_diration\"]\n",
    "ride_id=[]\n",
    "driver_id=[]\n",
    "ride_distance=[]\n",
    "ride_duration=[]\n",
    "values=[ride_id,driver_id,ride_distance,ride_duration]\n",
    "\n",
    "for i in range(len(rides)):\n",
    "    row=rides.iloc[i]\n",
    "    d=convert_str_to_datetime(row.join_date).month\n",
    "    if random()>0.95:\n",
    "        ride_id.append(row.ride_id)\n",
    "        driver_id.append(choice(drivers_by_date[d]))\n",
    "        ride_distance.append(randint(1,100))\n",
    "        ride_duration.append(randint(100,150))\n",
    "for i in range(len(cols)):\n",
    "    acc_rides[cols[i]]=values[i]\n",
    "acc_rides=pd.DataFrame(acc_rides)\n",
    "acc_rides.to_csv(\"accepted_rides.csv\")\n",
    "    "
   ]
  }
 ],
 "metadata": {
  "kernelspec": {
   "display_name": "Python 3 (ipykernel)",
   "language": "python",
   "name": "python3"
  },
  "language_info": {
   "codemirror_mode": {
    "name": "ipython",
    "version": 3
   },
   "file_extension": ".py",
   "mimetype": "text/x-python",
   "name": "python",
   "nbconvert_exporter": "python",
   "pygments_lexer": "ipython3",
   "version": "3.9.12"
  }
 },
 "nbformat": 4,
 "nbformat_minor": 5
}
