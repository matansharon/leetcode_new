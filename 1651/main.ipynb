{
 "cells": [
  {
   "cell_type": "code",
   "execution_count": 6,
   "id": "9a31ead5",
   "metadata": {},
   "outputs": [],
   "source": [
    "import pandas as pd\n",
    "from datetime import datetime"
   ]
  },
  {
   "cell_type": "code",
   "execution_count": 14,
   "id": "2f8c2538",
   "metadata": {},
   "outputs": [],
   "source": [
    "accepted_rides=pd.read_csv(\"accepted_rides.csv\")\n",
    "rides=pd.read_csv(\"rides.csv\")\n",
    "rides_by_id={}\n",
    "for i in range(len(rides)):\n",
    "    row=rides.iloc[i]\n",
    "    if row.ride_id not in rides_by_id:\n",
    "        rides_by_id[row.ride_id]=row.join_date\n",
    "data_by_month={}\n",
    "for i in range(1,13):\n",
    "    data_by_month[i]={\"dis\":[],\"dur\":[]}\n",
    "for i in range(len(accepted_rides)):\n",
    "    row=accepted_rides.iloc[i]\n",
    "    temp=rides_by_id[row.ride_id].split(\"-\")\n",
    "    date=datetime(int(temp[0]),int(temp[1]),int(temp[2]))\n",
    "    data_by_month[date.month][\"dis\"].append(row.ride_distance)\n",
    "    data_by_month[date.month][\"dur\"].append(row.ride_diration)\n",
    "res={}\n",
    "cols=[\"month\",\"avg_distance\",\"avg_duration\"]\n",
    "month=range(1,13)\n",
    "avg_distance=[]\n",
    "avg_duration=[]\n",
    "values=[month,avg_distance,avg_duration]\n",
    "for i in data_by_month:\n",
    "    dis=data_by_month[i][\"dis\"]\n",
    "    dur=data_by_month[i][\"dur\"]\n",
    "    if len(dis)>0:\n",
    "        avg_distance.append(sum(dis)/len(dis))\n",
    "        avg_duration.append(sum(dur)/len(dur))\n",
    "    else:\n",
    "        avg_distance.append(0)\n",
    "        avg_duration.append(0)\n",
    "for i in range(len(cols)):\n",
    "    res[cols[i]]=values[i]\n",
    "res=pd.DataFrame(res)\n",
    "res.to_csv(\"res.csv\")"
   ]
  }
 ],
 "metadata": {
  "kernelspec": {
   "display_name": "Python 3 (ipykernel)",
   "language": "python",
   "name": "python3"
  },
  "language_info": {
   "codemirror_mode": {
    "name": "ipython",
    "version": 3
   },
   "file_extension": ".py",
   "mimetype": "text/x-python",
   "name": "python",
   "nbconvert_exporter": "python",
   "pygments_lexer": "ipython3",
   "version": "3.9.12"
  }
 },
 "nbformat": 4,
 "nbformat_minor": 5
}
