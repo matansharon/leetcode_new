{
 "cells": [
  {
   "cell_type": "code",
   "execution_count": 1,
   "id": "a2b1d230",
   "metadata": {},
   "outputs": [],
   "source": [
    "import pandas as pd"
   ]
  },
  {
   "cell_type": "code",
   "execution_count": 2,
   "id": "9b33e357",
   "metadata": {},
   "outputs": [],
   "source": [
    "class User:\n",
    "    def __init__(self,_id):\n",
    "        self.id=_id\n",
    "        self.matches=[]\n",
    "        self.streak=0\n",
    "    def add(self,date,res):\n",
    "        self.matches.append([date,res])\n",
    "    def sort_matches(self):\n",
    "        self.matches.sort()\n",
    "    def get_streak(self):\n",
    "        temp=0\n",
    "        res=0\n",
    "        self.sort_matches()\n",
    "        for i in self.matches:\n",
    "            if i[1]==\"Win\":\n",
    "                temp+=1\n",
    "            else:\n",
    "                if temp>res:\n",
    "                    res=temp\n",
    "                temp=0\n",
    "        return res"
   ]
  },
  {
   "cell_type": "code",
   "execution_count": 11,
   "id": "9055d93a",
   "metadata": {},
   "outputs": [
    {
     "name": "stdout",
     "output_type": "stream",
     "text": [
      "CPU times: user 57.4 s, sys: 87.7 ms, total: 57.5 s\n",
      "Wall time: 57.5 s\n"
     ]
    }
   ],
   "source": [
    "%%time\n",
    "matches=pd.read_csv(\"Matches.csv\")\n",
    "users={}\n",
    "for i in range(len(matches)):\n",
    "    row=matches.iloc[i]\n",
    "    if row.player_id not in users:\n",
    "        users[row.player_id]=User(row.player_id)\n",
    "    users[row.player_id].add(row.match_day,row.result)\n",
    "ids=[]\n",
    "results=[]\n",
    "for u in users:\n",
    "    ids.append(users[u].id)\n",
    "    results.append(users[u].get_streak())\n"
   ]
  },
  {
   "cell_type": "code",
   "execution_count": 12,
   "id": "9d6fc01c",
   "metadata": {},
   "outputs": [],
   "source": [
    "cols=[\"player_id\",\"longest_streak\"]\n",
    "values=[ids,results]\n",
    "res={}\n",
    "for i in range(len(cols)):\n",
    "    res[cols[i]]=values[i]\n",
    "res=pd.DataFrame(res)\n",
    "res.to_csv(\"res.csv\")"
   ]
  }
 ],
 "metadata": {
  "kernelspec": {
   "display_name": "Python 3 (ipykernel)",
   "language": "python",
   "name": "python3"
  },
  "language_info": {
   "codemirror_mode": {
    "name": "ipython",
    "version": 3
   },
   "file_extension": ".py",
   "mimetype": "text/x-python",
   "name": "python",
   "nbconvert_exporter": "python",
   "pygments_lexer": "ipython3",
   "version": "3.9.12"
  }
 },
 "nbformat": 4,
 "nbformat_minor": 5
}
